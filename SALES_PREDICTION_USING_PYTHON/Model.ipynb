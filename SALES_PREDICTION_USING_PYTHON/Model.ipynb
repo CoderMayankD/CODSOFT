{
 "cells": [
  {
   "cell_type": "markdown",
   "metadata": {},
   "source": [
    "##### DISCLAIMER: Most of the important Plots were made using Plotly Express,but unfortunately they could not be shown here.\n"
    "### SALES PREDICTION USING PYTHON\n",
    "\n",
    "- Sales prediction involves forecasting the amount of a product that customers will purchase, taking into account various factors such as advertising expenditure, target audience segmentation, and advertising platform selection. \n",
    "\n",
    "- In businesses that offer products or services, the role of a Data Scientist is crucial for predicting future sales. They utilize machine learning techniques in Python to analyze and interpret data, allowing them to make informed decisions regarding advertising costs. \n",
    "\n",
    "- By leveraging these predictions, businesses can optimize their advertising strategies and maximize sales potential. \n",
    "\n",
    "- Let's embark on the journey of sales prediction using machine learning in Python.\n",
    "\n",
    "Link to the data on keggle is https://www.kaggle.com/code/ashydv/sales-prediction-simple-linear-regression/input.\n",
    "\n"
   ]
  },
  {
   "cell_type": "code",
   "execution_count": 2,
   "metadata": {},
   "outputs": [],
   "source": [
    "import pandas as pd\n",
    "import seaborn as sns\n",
    "import plotly.express as px\n",
    "import matplotlib.pyplot as plt\n"
   ]
  },
  {
   "cell_type": "markdown",
   "metadata": {},
   "source": [
    "##### Importing and observing dataset"
   ]
  },
  {
   "cell_type": "code",
   "execution_count": 3,
   "metadata": {},
   "outputs": [
    {
     "name": "stdout",
     "output_type": "stream",
     "text": [
      "(200, 4) \n",
      "\n"
     ]
    },
    {
     "data": {
      "text/html": [
       "<div>\n",
       "<style scoped>\n",
       "    .dataframe tbody tr th:only-of-type {\n",
       "        vertical-align: middle;\n",
       "    }\n",
       "\n",
       "    .dataframe tbody tr th {\n",
       "        vertical-align: top;\n",
       "    }\n",
       "\n",
       "    .dataframe thead th {\n",
       "        text-align: right;\n",
       "    }\n",
       "</style>\n",
       "<table border=\"1\" class=\"dataframe\">\n",
       "  <thead>\n",
       "    <tr style=\"text-align: right;\">\n",
       "      <th></th>\n",
       "      <th>TV</th>\n",
       "      <th>Radio</th>\n",
       "      <th>Newspaper</th>\n",
       "      <th>Sales</th>\n",
       "    </tr>\n",
       "  </thead>\n",
       "  <tbody>\n",
       "    <tr>\n",
       "      <th>0</th>\n",
       "      <td>230.1</td>\n",
       "      <td>37.8</td>\n",
       "      <td>69.2</td>\n",
       "      <td>22.1</td>\n",
       "    </tr>\n",
       "    <tr>\n",
       "      <th>1</th>\n",
       "      <td>44.5</td>\n",
       "      <td>39.3</td>\n",
       "      <td>45.1</td>\n",
       "      <td>10.4</td>\n",
       "    </tr>\n",
       "    <tr>\n",
       "      <th>2</th>\n",
       "      <td>17.2</td>\n",
       "      <td>45.9</td>\n",
       "      <td>69.3</td>\n",
       "      <td>12.0</td>\n",
       "    </tr>\n",
       "    <tr>\n",
       "      <th>3</th>\n",
       "      <td>151.5</td>\n",
       "      <td>41.3</td>\n",
       "      <td>58.5</td>\n",
       "      <td>16.5</td>\n",
       "    </tr>\n",
       "    <tr>\n",
       "      <th>4</th>\n",
       "      <td>180.8</td>\n",
       "      <td>10.8</td>\n",
       "      <td>58.4</td>\n",
       "      <td>17.9</td>\n",
       "    </tr>\n",
       "  </tbody>\n",
       "</table>\n",
       "</div>"
      ],
      "text/plain": [
       "      TV  Radio  Newspaper  Sales\n",
       "0  230.1   37.8       69.2   22.1\n",
       "1   44.5   39.3       45.1   10.4\n",
       "2   17.2   45.9       69.3   12.0\n",
       "3  151.5   41.3       58.5   16.5\n",
       "4  180.8   10.8       58.4   17.9"
      ]
     },
     "execution_count": 3,
     "metadata": {},
     "output_type": "execute_result"
    }
   ],
   "source": [
    "file=\"Dataset.csv\"\n",
    "df=pd.read_csv(file)\n",
    "print(df.shape,'\\n')\n",
    "df.head()"
   ]
  },
  {
   "cell_type": "markdown",
   "metadata": {},
   "source": [
    "##### Dataset is with 200 rows and 4 columns, though its very small dataset every important insights will be important."
   ]
  },
  {
   "cell_type": "code",
   "execution_count": 4,
   "metadata": {},
   "outputs": [
    {
     "data": {
      "text/html": [
       "<div>\n",
       "<style scoped>\n",
       "    .dataframe tbody tr th:only-of-type {\n",
       "        vertical-align: middle;\n",
       "    }\n",
       "\n",
       "    .dataframe tbody tr th {\n",
       "        vertical-align: top;\n",
       "    }\n",
       "\n",
       "    .dataframe thead th {\n",
       "        text-align: right;\n",
       "    }\n",
       "</style>\n",
       "<table border=\"1\" class=\"dataframe\">\n",
       "  <thead>\n",
       "    <tr style=\"text-align: right;\">\n",
       "      <th></th>\n",
       "      <th>TV</th>\n",
       "      <th>Radio</th>\n",
       "      <th>Newspaper</th>\n",
       "      <th>Sales</th>\n",
       "    </tr>\n",
       "  </thead>\n",
       "  <tbody>\n",
       "    <tr>\n",
       "      <th>count</th>\n",
       "      <td>200.000000</td>\n",
       "      <td>200.000000</td>\n",
       "      <td>200.000000</td>\n",
       "      <td>200.000000</td>\n",
       "    </tr>\n",
       "    <tr>\n",
       "      <th>mean</th>\n",
       "      <td>147.042500</td>\n",
       "      <td>23.264000</td>\n",
       "      <td>30.554000</td>\n",
       "      <td>15.130500</td>\n",
       "    </tr>\n",
       "    <tr>\n",
       "      <th>std</th>\n",
       "      <td>85.854236</td>\n",
       "      <td>14.846809</td>\n",
       "      <td>21.778621</td>\n",
       "      <td>5.283892</td>\n",
       "    </tr>\n",
       "    <tr>\n",
       "      <th>min</th>\n",
       "      <td>0.700000</td>\n",
       "      <td>0.000000</td>\n",
       "      <td>0.300000</td>\n",
       "      <td>1.600000</td>\n",
       "    </tr>\n",
       "    <tr>\n",
       "      <th>25%</th>\n",
       "      <td>74.375000</td>\n",
       "      <td>9.975000</td>\n",
       "      <td>12.750000</td>\n",
       "      <td>11.000000</td>\n",
       "    </tr>\n",
       "    <tr>\n",
       "      <th>50%</th>\n",
       "      <td>149.750000</td>\n",
       "      <td>22.900000</td>\n",
       "      <td>25.750000</td>\n",
       "      <td>16.000000</td>\n",
       "    </tr>\n",
       "    <tr>\n",
       "      <th>75%</th>\n",
       "      <td>218.825000</td>\n",
       "      <td>36.525000</td>\n",
       "      <td>45.100000</td>\n",
       "      <td>19.050000</td>\n",
       "    </tr>\n",
       "    <tr>\n",
       "      <th>max</th>\n",
       "      <td>296.400000</td>\n",
       "      <td>49.600000</td>\n",
       "      <td>114.000000</td>\n",
       "      <td>27.000000</td>\n",
       "    </tr>\n",
       "  </tbody>\n",
       "</table>\n",
       "</div>"
      ],
      "text/plain": [
       "               TV       Radio   Newspaper       Sales\n",
       "count  200.000000  200.000000  200.000000  200.000000\n",
       "mean   147.042500   23.264000   30.554000   15.130500\n",
       "std     85.854236   14.846809   21.778621    5.283892\n",
       "min      0.700000    0.000000    0.300000    1.600000\n",
       "25%     74.375000    9.975000   12.750000   11.000000\n",
       "50%    149.750000   22.900000   25.750000   16.000000\n",
       "75%    218.825000   36.525000   45.100000   19.050000\n",
       "max    296.400000   49.600000  114.000000   27.000000"
      ]
     },
     "execution_count": 4,
     "metadata": {},
     "output_type": "execute_result"
    }
   ],
   "source": [
    "df.describe()"
   ]
  },
  {
   "cell_type": "code",
   "execution_count": 5,
   "metadata": {},
   "outputs": [
    {
     "name": "stdout",
     "output_type": "stream",
     "text": [
      "<class 'pandas.core.frame.DataFrame'>\n",
      "RangeIndex: 200 entries, 0 to 199\n",
      "Data columns (total 4 columns):\n",
      " #   Column     Non-Null Count  Dtype  \n",
      "---  ------     --------------  -----  \n",
      " 0   TV         200 non-null    float64\n",
      " 1   Radio      200 non-null    float64\n",
      " 2   Newspaper  200 non-null    float64\n",
      " 3   Sales      200 non-null    float64\n",
      "dtypes: float64(4)\n",
      "memory usage: 6.4 KB\n"
     ]
    }
   ],
   "source": [
    "df.info()"
   ]
  },
  {
   "cell_type": "markdown",
   "metadata": {},
   "source": [
    "#### I appears to have all non-null values and without any blanks or null values in any columns.\n",
    "All the Variable in the dataset has same datatype i.e, float64.\n",
    "Target to problem statements:  to predict the sales.\n",
    "- finding correlation can be best and quickest method to obeserve the variables."
   ]
  },
  {
   "cell_type": "code",
   "execution_count": 6,
   "metadata": {},
   "outputs": [
    {
     "data": {
      "text/html": [
       "<div>\n",
       "<style scoped>\n",
       "    .dataframe tbody tr th:only-of-type {\n",
       "        vertical-align: middle;\n",
       "    }\n",
       "\n",
       "    .dataframe tbody tr th {\n",
       "        vertical-align: top;\n",
       "    }\n",
       "\n",
       "    .dataframe thead th {\n",
       "        text-align: right;\n",
       "    }\n",
       "</style>\n",
       "<table border=\"1\" class=\"dataframe\">\n",
       "  <thead>\n",
       "    <tr style=\"text-align: right;\">\n",
       "      <th></th>\n",
       "      <th>TV</th>\n",
       "      <th>Radio</th>\n",
       "      <th>Newspaper</th>\n",
       "      <th>Sales</th>\n",
       "    </tr>\n",
       "  </thead>\n",
       "  <tbody>\n",
       "    <tr>\n",
       "      <th>TV</th>\n",
       "      <td>1.000000</td>\n",
       "      <td>0.054809</td>\n",
       "      <td>0.056648</td>\n",
       "      <td>0.901208</td>\n",
       "    </tr>\n",
       "    <tr>\n",
       "      <th>Radio</th>\n",
       "      <td>0.054809</td>\n",
       "      <td>1.000000</td>\n",
       "      <td>0.354104</td>\n",
       "      <td>0.349631</td>\n",
       "    </tr>\n",
       "    <tr>\n",
       "      <th>Newspaper</th>\n",
       "      <td>0.056648</td>\n",
       "      <td>0.354104</td>\n",
       "      <td>1.000000</td>\n",
       "      <td>0.157960</td>\n",
       "    </tr>\n",
       "    <tr>\n",
       "      <th>Sales</th>\n",
       "      <td>0.901208</td>\n",
       "      <td>0.349631</td>\n",
       "      <td>0.157960</td>\n",
       "      <td>1.000000</td>\n",
       "    </tr>\n",
       "  </tbody>\n",
       "</table>\n",
       "</div>"
      ],
      "text/plain": [
       "                 TV     Radio  Newspaper     Sales\n",
       "TV         1.000000  0.054809   0.056648  0.901208\n",
       "Radio      0.054809  1.000000   0.354104  0.349631\n",
       "Newspaper  0.056648  0.354104   1.000000  0.157960\n",
       "Sales      0.901208  0.349631   0.157960  1.000000"
      ]
     },
     "execution_count": 6,
     "metadata": {},
     "output_type": "execute_result"
    }
   ],
   "source": [
    "df.corr()"
   ]
  },
  {
   "cell_type": "code",
   "execution_count": 7,
   "metadata": {},
   "outputs": [
    {
     "data": {
      "image/png": "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",
      "text/plain": [
       "<Figure size 640x480 with 2 Axes>"
      ]
     },
     "metadata": {},
     "output_type": "display_data"
    }
   ],
   "source": [
    "heatmap=sns.heatmap(df.corr(),annot=True)\n"
   ]
  },
  {
   "cell_type": "markdown",
   "metadata": {},
   "source": [
    "#### Let us clear data for outlier using a box plot"
   ]
  },
  {
   "cell_type": "code",
   "execution_count": 8,
   "metadata": {},
   "outputs": [
    {
     "data": {
      "image/png": "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",
      "text/plain": [
       "<Figure size 640x480 with 1 Axes>"
      ]
     },
     "metadata": {},
     "output_type": "display_data"
    }
   ],
   "source": [
    "# salesBox=sns.boxplot(df.Sales,color=\"Blue\") \n",
    "salesBox=sns.boxplot(df) \n"
   ]
  },
  {
   "cell_type": "markdown",
   "metadata": {},
   "source": [
    "Ouliters found in Newspaper coloumn only"
   ]
  },
  {
   "cell_type": "code",
   "execution_count": 9,
   "metadata": {},
   "outputs": [
    {
     "data": {
      "application/vnd.plotly.v1+json": {
       "config": {
        "plotlyServerURL": "https://plot.ly"
       },
       "data": [
        {
         "hovertemplate": "Newspaper=%{x}<br>TV=%{y}<br>Radio=%{z}<br>Sales=%{marker.color}<extra></extra>",
         "legendgroup": "",
         "marker": {
          "color": [
           22.1,
           10.4,
           12,
           16.5,
           17.9,
           7.2,
           11.8,
           13.2,
           4.8,
           15.6,
           12.6,
           17.4,
           9.2,
           13.7,
           19,
           22.4,
           12.5,
           24.4,
           11.3,
           14.6,
           18,
           17.5,
           5.6,
           20.5,
           9.7,
           17,
           15,
           20.9,
           18.9,
           10.5,
           21.4,
           11.9,
           13.2,
           17.4,
           11.9,
           17.8,
           25.4,
           14.7,
           10.1,
           21.5,
           16.6,
           17.1,
           20.7,
           17.9,
           8.5,
           16.1,
           10.6,
           23.2,
           19.8,
           9.7,
           16.4,
           10.7,
           22.6,
           21.2,
           20.2,
           23.7,
           5.5,
           13.2,
           23.8,
           18.4,
           8.1,
           24.2,
           20.7,
           14,
           16,
           11.3,
           11,
           13.4,
           18.9,
           22.3,
           18.3,
           12.4,
           8.8,
           11,
           17,
           8.7,
           6.9,
           14.2,
           5.3,
           11,
           11.8,
           17.3,
           11.3,
           13.6,
           21.7,
           20.2,
           12,
           16,
           12.9,
           16.7,
           14,
           7.3,
           19.4,
           22.2,
           11.5,
           16.9,
           16.7,
           20.5,
           25.4,
           17.2,
           16.7,
           23.8,
           19.8,
           19.7,
           20.7,
           15,
           7.2,
           12,
           5.3,
           19.8,
           18.4,
           21.8,
           17.1,
           20.9,
           14.6,
           12.6,
           12.2,
           9.4,
           15.9,
           6.6,
           15.5,
           7,
           16.6,
           15.2,
           19.7,
           10.6,
           6.6,
           11.9,
           24.7,
           9.7,
           1.6,
           17.7,
           5.7,
           19.6,
           10.8,
           11.6,
           9.5,
           20.8,
           9.6,
           20.7,
           10.9,
           19.2,
           20.1,
           10.4,
           12.3,
           10.3,
           18.2,
           25.4,
           10.9,
           10.1,
           16.1,
           11.6,
           16.6,
           16,
           20.6,
           3.2,
           15.3,
           10.1,
           7.3,
           12.9,
           16.4,
           13.3,
           19.9,
           18,
           11.9,
           16.9,
           8,
           17.2,
           17.1,
           20,
           8.4,
           17.5,
           7.6,
           16.7,
           16.5,
           27,
           20.2,
           16.7,
           16.8,
           17.6,
           15.5,
           17.2,
           8.7,
           26.2,
           17.6,
           22.6,
           10.3,
           17.3,
           20.9,
           6.7,
           10.8,
           11.9,
           5.9,
           19.6,
           17.3,
           7.6,
           14,
           14.8,
           25.5,
           18.4
          ],
          "coloraxis": "coloraxis",
          "symbol": "circle"
         },
         "mode": "markers",
         "name": "",
         "scene": "scene",
         "showlegend": false,
         "type": "scatter3d",
         "x": [
          69.2,
          45.1,
          69.3,
          58.5,
          58.4,
          75,
          23.5,
          11.6,
          1,
          21.2,
          24.2,
          4,
          65.9,
          7.2,
          46,
          52.9,
          114,
          55.8,
          18.3,
          19.1,
          53.4,
          23.5,
          49.6,
          26.2,
          18.3,
          19.5,
          12.6,
          22.9,
          22.9,
          40.8,
          43.2,
          38.6,
          30,
          0.3,
          7.4,
          8.5,
          5,
          45.7,
          35.1,
          32,
          31.6,
          38.7,
          1.8,
          26.4,
          43.3,
          31.5,
          35.7,
          18.5,
          49.9,
          36.8,
          34.6,
          3.6,
          39.6,
          58.7,
          15.9,
          60,
          41.4,
          16.6,
          37.7,
          9.3,
          21.4,
          54.7,
          27.3,
          8.4,
          28.9,
          0.9,
          2.2,
          10.2,
          11,
          27.2,
          38.7,
          31.7,
          19.3,
          31.3,
          13.1,
          89.4,
          20.7,
          14.2,
          9.4,
          23.1,
          22.3,
          36.9,
          32.5,
          35.6,
          33.8,
          65.7,
          16,
          63.2,
          73.4,
          51.4,
          9.3,
          33,
          59,
          72.3,
          10.9,
          52.9,
          5.9,
          22,
          51.2,
          45.9,
          49.8,
          100.9,
          21.4,
          17.9,
          5.3,
          59,
          29.7,
          23.2,
          25.6,
          5.5,
          56.5,
          23.2,
          2.4,
          10.7,
          34.5,
          52.7,
          25.6,
          14.8,
          79.2,
          22.3,
          46.2,
          50.4,
          15.6,
          12.4,
          74.2,
          25.9,
          50.6,
          9.2,
          3.2,
          43.1,
          8.7,
          43,
          2.1,
          45.1,
          65.6,
          8.5,
          9.3,
          59.7,
          20.5,
          1.7,
          12.9,
          75.6,
          37.9,
          34.4,
          38.9,
          9,
          8.7,
          44.3,
          11.9,
          20.6,
          37,
          48.7,
          14.2,
          37.7,
          9.5,
          5.7,
          50.5,
          24.3,
          45.2,
          34.6,
          30.7,
          49.3,
          25.6,
          7.4,
          5.4,
          84.8,
          21.6,
          19.4,
          57.6,
          6.4,
          18.4,
          47.4,
          17,
          12.8,
          13.1,
          41.8,
          20.3,
          35.2,
          23.7,
          17.6,
          8.3,
          27.4,
          29.7,
          71.8,
          30,
          19.6,
          26.6,
          18.2,
          3.7,
          23.4,
          5.8,
          6,
          31.6,
          3.6,
          6,
          13.8,
          8.1,
          6.4,
          66.2,
          8.7
         ],
         "y": [
          230.1,
          44.5,
          17.2,
          151.5,
          180.8,
          8.7,
          57.5,
          120.2,
          8.6,
          199.8,
          66.1,
          214.7,
          23.8,
          97.5,
          204.1,
          195.4,
          67.8,
          281.4,
          69.2,
          147.3,
          218.4,
          237.4,
          13.2,
          228.3,
          62.3,
          262.9,
          142.9,
          240.1,
          248.8,
          70.6,
          292.9,
          112.9,
          97.2,
          265.6,
          95.7,
          290.7,
          266.9,
          74.7,
          43.1,
          228,
          202.5,
          177,
          293.6,
          206.9,
          25.1,
          175.1,
          89.7,
          239.9,
          227.2,
          66.9,
          199.8,
          100.4,
          216.4,
          182.6,
          262.7,
          198.9,
          7.3,
          136.2,
          210.8,
          210.7,
          53.5,
          261.3,
          239.3,
          102.7,
          131.1,
          69,
          31.5,
          139.3,
          237.4,
          216.8,
          199.1,
          109.8,
          26.8,
          129.4,
          213.4,
          16.9,
          27.5,
          120.5,
          5.4,
          116,
          76.4,
          239.8,
          75.3,
          68.4,
          213.5,
          193.2,
          76.3,
          110.7,
          88.3,
          109.8,
          134.3,
          28.6,
          217.7,
          250.9,
          107.4,
          163.3,
          197.6,
          184.9,
          289.7,
          135.2,
          222.4,
          296.4,
          280.2,
          187.9,
          238.2,
          137.9,
          25,
          90.4,
          13.1,
          255.4,
          225.8,
          241.7,
          175.7,
          209.6,
          78.2,
          75.1,
          139.2,
          76.4,
          125.7,
          19.4,
          141.3,
          18.8,
          224,
          123.1,
          229.5,
          87.2,
          7.8,
          80.2,
          220.3,
          59.6,
          0.7,
          265.2,
          8.4,
          219.8,
          36.9,
          48.3,
          25.6,
          273.7,
          43,
          184.9,
          73.4,
          193.7,
          220.5,
          104.6,
          96.2,
          140.3,
          240.1,
          243.2,
          38,
          44.7,
          280.7,
          121,
          197.6,
          171.3,
          187.8,
          4.1,
          93.9,
          149.8,
          11.7,
          131.7,
          172.5,
          85.7,
          188.4,
          163.5,
          117.2,
          234.5,
          17.9,
          206.8,
          215.4,
          284.3,
          50,
          164.5,
          19.6,
          168.4,
          222.4,
          276.9,
          248.4,
          170.2,
          276.7,
          165.6,
          156.6,
          218.5,
          56.2,
          287.6,
          253.8,
          205,
          139.5,
          191.1,
          286,
          18.7,
          39.5,
          75.5,
          17.2,
          166.8,
          149.7,
          38.2,
          94.2,
          177,
          283.6,
          232.1
         ],
         "z": [
          37.8,
          39.3,
          45.9,
          41.3,
          10.8,
          48.9,
          32.8,
          19.6,
          2.1,
          2.6,
          5.8,
          24,
          35.1,
          7.6,
          32.9,
          47.7,
          36.6,
          39.6,
          20.5,
          23.9,
          27.7,
          5.1,
          15.9,
          16.9,
          12.6,
          3.5,
          29.3,
          16.7,
          27.1,
          16,
          28.3,
          17.4,
          1.5,
          20,
          1.4,
          4.1,
          43.8,
          49.4,
          26.7,
          37.7,
          22.3,
          33.4,
          27.7,
          8.4,
          25.7,
          22.5,
          9.9,
          41.5,
          15.8,
          11.7,
          3.1,
          9.6,
          41.7,
          46.2,
          28.8,
          49.4,
          28.1,
          19.2,
          49.6,
          29.5,
          2,
          42.7,
          15.5,
          29.6,
          42.8,
          9.3,
          24.6,
          14.5,
          27.5,
          43.9,
          30.6,
          14.3,
          33,
          5.7,
          24.6,
          43.7,
          1.6,
          28.5,
          29.9,
          7.7,
          26.7,
          4.1,
          20.3,
          44.5,
          43,
          18.4,
          27.5,
          40.6,
          25.5,
          47.8,
          4.9,
          1.5,
          33.5,
          36.5,
          14,
          31.6,
          3.5,
          21,
          42.3,
          41.7,
          4.3,
          36.3,
          10.1,
          17.2,
          34.3,
          46.4,
          11,
          0.3,
          0.4,
          26.9,
          8.2,
          38,
          15.4,
          20.6,
          46.8,
          35,
          14.3,
          0.8,
          36.9,
          16,
          26.8,
          21.7,
          2.4,
          34.6,
          32.3,
          11.8,
          38.9,
          0,
          49,
          12,
          39.6,
          2.9,
          27.2,
          33.5,
          38.6,
          47,
          39,
          28.9,
          25.9,
          43.9,
          17,
          35.4,
          33.2,
          5.7,
          14.8,
          1.9,
          7.3,
          49,
          40.3,
          25.8,
          13.9,
          8.4,
          23.3,
          39.7,
          21.1,
          11.6,
          43.5,
          1.3,
          36.9,
          18.4,
          18.1,
          35.8,
          18.1,
          36.8,
          14.7,
          3.4,
          37.6,
          5.2,
          23.6,
          10.6,
          11.6,
          20.9,
          20.1,
          7.1,
          3.4,
          48.9,
          30.2,
          7.8,
          2.3,
          10,
          2.6,
          5.4,
          5.7,
          43,
          21.3,
          45.1,
          2.1,
          28.7,
          13.9,
          12.1,
          41.1,
          10.8,
          4.1,
          42,
          35.6,
          3.7,
          4.9,
          9.3,
          42,
          8.6
         ]
        }
       ],
       "layout": {
        "coloraxis": {
         "colorbar": {
          "title": {
           "text": "Sales"
          }
         },
         "colorscale": [
          [
           0,
           "#0d0887"
          ],
          [
           0.1111111111111111,
           "#46039f"
          ],
          [
           0.2222222222222222,
           "#7201a8"
          ],
          [
           0.3333333333333333,
           "#9c179e"
          ],
          [
           0.4444444444444444,
           "#bd3786"
          ],
          [
           0.5555555555555556,
           "#d8576b"
          ],
          [
           0.6666666666666666,
           "#ed7953"
          ],
          [
           0.7777777777777778,
           "#fb9f3a"
          ],
          [
           0.8888888888888888,
           "#fdca26"
          ],
          [
           1,
           "#f0f921"
          ]
         ]
        },
        "legend": {
         "tracegroupgap": 0
        },
        "margin": {
         "t": 60
        },
        "scene": {
         "domain": {
          "x": [
           0,
           1
          ],
          "y": [
           0,
           1
          ]
         },
         "xaxis": {
          "title": {
           "text": "Newspaper"
          }
         },
         "yaxis": {
          "title": {
           "text": "TV"
          }
         },
         "zaxis": {
          "title": {
           "text": "Radio"
          }
         }
        },
        "template": {
         "data": {
          "bar": [
           {
            "error_x": {
             "color": "#2a3f5f"
            },
            "error_y": {
             "color": "#2a3f5f"
            },
            "marker": {
             "line": {
              "color": "#E5ECF6",
              "width": 0.5
             },
             "pattern": {
              "fillmode": "overlay",
              "size": 10,
              "solidity": 0.2
             }
            },
            "type": "bar"
           }
          ],
          "barpolar": [
           {
            "marker": {
             "line": {
              "color": "#E5ECF6",
              "width": 0.5
             },
             "pattern": {
              "fillmode": "overlay",
              "size": 10,
              "solidity": 0.2
             }
            },
            "type": "barpolar"
           }
          ],
          "carpet": [
           {
            "aaxis": {
             "endlinecolor": "#2a3f5f",
             "gridcolor": "white",
             "linecolor": "white",
             "minorgridcolor": "white",
             "startlinecolor": "#2a3f5f"
            },
            "baxis": {
             "endlinecolor": "#2a3f5f",
             "gridcolor": "white",
             "linecolor": "white",
             "minorgridcolor": "white",
             "startlinecolor": "#2a3f5f"
            },
            "type": "carpet"
           }
          ],
          "choropleth": [
           {
            "colorbar": {
             "outlinewidth": 0,
             "ticks": ""
            },
            "type": "choropleth"
           }
          ],
          "contour": [
           {
            "colorbar": {
             "outlinewidth": 0,
             "ticks": ""
            },
            "colorscale": [
             [
              0,
              "#0d0887"
             ],
             [
              0.1111111111111111,
              "#46039f"
             ],
             [
              0.2222222222222222,
              "#7201a8"
             ],
             [
              0.3333333333333333,
              "#9c179e"
             ],
             [
              0.4444444444444444,
              "#bd3786"
             ],
             [
              0.5555555555555556,
              "#d8576b"
             ],
             [
              0.6666666666666666,
              "#ed7953"
             ],
             [
              0.7777777777777778,
              "#fb9f3a"
             ],
             [
              0.8888888888888888,
              "#fdca26"
             ],
             [
              1,
              "#f0f921"
             ]
            ],
            "type": "contour"
           }
          ],
          "contourcarpet": [
           {
            "colorbar": {
             "outlinewidth": 0,
             "ticks": ""
            },
            "type": "contourcarpet"
           }
          ],
          "heatmap": [
           {
            "colorbar": {
             "outlinewidth": 0,
             "ticks": ""
            },
            "colorscale": [
             [
              0,
              "#0d0887"
             ],
             [
              0.1111111111111111,
              "#46039f"
             ],
             [
              0.2222222222222222,
              "#7201a8"
             ],
             [
              0.3333333333333333,
              "#9c179e"
             ],
             [
              0.4444444444444444,
              "#bd3786"
             ],
             [
              0.5555555555555556,
              "#d8576b"
             ],
             [
              0.6666666666666666,
              "#ed7953"
             ],
             [
              0.7777777777777778,
              "#fb9f3a"
             ],
             [
              0.8888888888888888,
              "#fdca26"
             ],
             [
              1,
              "#f0f921"
             ]
            ],
            "type": "heatmap"
           }
          ],
          "heatmapgl": [
           {
            "colorbar": {
             "outlinewidth": 0,
             "ticks": ""
            },
            "colorscale": [
             [
              0,
              "#0d0887"
             ],
             [
              0.1111111111111111,
              "#46039f"
             ],
             [
              0.2222222222222222,
              "#7201a8"
             ],
             [
              0.3333333333333333,
              "#9c179e"
             ],
             [
              0.4444444444444444,
              "#bd3786"
             ],
             [
              0.5555555555555556,
              "#d8576b"
             ],
             [
              0.6666666666666666,
              "#ed7953"
             ],
             [
              0.7777777777777778,
              "#fb9f3a"
             ],
             [
              0.8888888888888888,
              "#fdca26"
             ],
             [
              1,
              "#f0f921"
             ]
            ],
            "type": "heatmapgl"
           }
          ],
          "histogram": [
           {
            "marker": {
             "pattern": {
              "fillmode": "overlay",
              "size": 10,
              "solidity": 0.2
             }
            },
            "type": "histogram"
           }
          ],
          "histogram2d": [
           {
            "colorbar": {
             "outlinewidth": 0,
             "ticks": ""
            },
            "colorscale": [
             [
              0,
              "#0d0887"
             ],
             [
              0.1111111111111111,
              "#46039f"
             ],
             [
              0.2222222222222222,
              "#7201a8"
             ],
             [
              0.3333333333333333,
              "#9c179e"
             ],
             [
              0.4444444444444444,
              "#bd3786"
             ],
             [
              0.5555555555555556,
              "#d8576b"
             ],
             [
              0.6666666666666666,
              "#ed7953"
             ],
             [
              0.7777777777777778,
              "#fb9f3a"
             ],
             [
              0.8888888888888888,
              "#fdca26"
             ],
             [
              1,
              "#f0f921"
             ]
            ],
            "type": "histogram2d"
           }
          ],
          "histogram2dcontour": [
           {
            "colorbar": {
             "outlinewidth": 0,
             "ticks": ""
            },
            "colorscale": [
             [
              0,
              "#0d0887"
             ],
             [
              0.1111111111111111,
              "#46039f"
             ],
             [
              0.2222222222222222,
              "#7201a8"
             ],
             [
              0.3333333333333333,
              "#9c179e"
             ],
             [
              0.4444444444444444,
              "#bd3786"
             ],
             [
              0.5555555555555556,
              "#d8576b"
             ],
             [
              0.6666666666666666,
              "#ed7953"
             ],
             [
              0.7777777777777778,
              "#fb9f3a"
             ],
             [
              0.8888888888888888,
              "#fdca26"
             ],
             [
              1,
              "#f0f921"
             ]
            ],
            "type": "histogram2dcontour"
           }
          ],
          "mesh3d": [
           {
            "colorbar": {
             "outlinewidth": 0,
             "ticks": ""
            },
            "type": "mesh3d"
           }
          ],
          "parcoords": [
           {
            "line": {
             "colorbar": {
              "outlinewidth": 0,
              "ticks": ""
             }
            },
            "type": "parcoords"
           }
          ],
          "pie": [
           {
            "automargin": true,
            "type": "pie"
           }
          ],
          "scatter": [
           {
            "fillpattern": {
             "fillmode": "overlay",
             "size": 10,
             "solidity": 0.2
            },
            "type": "scatter"
           }
          ],
          "scatter3d": [
           {
            "line": {
             "colorbar": {
              "outlinewidth": 0,
              "ticks": ""
             }
            },
            "marker": {
             "colorbar": {
              "outlinewidth": 0,
              "ticks": ""
             }
            },
            "type": "scatter3d"
           }
          ],
          "scattercarpet": [
           {
            "marker": {
             "colorbar": {
              "outlinewidth": 0,
              "ticks": ""
             }
            },
            "type": "scattercarpet"
           }
          ],
          "scattergeo": [
           {
            "marker": {
             "colorbar": {
              "outlinewidth": 0,
              "ticks": ""
             }
            },
            "type": "scattergeo"
           }
          ],
          "scattergl": [
           {
            "marker": {
             "colorbar": {
              "outlinewidth": 0,
              "ticks": ""
             }
            },
            "type": "scattergl"
           }
          ],
          "scattermapbox": [
           {
            "marker": {
             "colorbar": {
              "outlinewidth": 0,
              "ticks": ""
             }
            },
            "type": "scattermapbox"
           }
          ],
          "scatterpolar": [
           {
            "marker": {
             "colorbar": {
              "outlinewidth": 0,
              "ticks": ""
             }
            },
            "type": "scatterpolar"
           }
          ],
          "scatterpolargl": [
           {
            "marker": {
             "colorbar": {
              "outlinewidth": 0,
              "ticks": ""
             }
            },
            "type": "scatterpolargl"
           }
          ],
          "scatterternary": [
           {
            "marker": {
             "colorbar": {
              "outlinewidth": 0,
              "ticks": ""
             }
            },
            "type": "scatterternary"
           }
          ],
          "surface": [
           {
            "colorbar": {
             "outlinewidth": 0,
             "ticks": ""
            },
            "colorscale": [
             [
              0,
              "#0d0887"
             ],
             [
              0.1111111111111111,
              "#46039f"
             ],
             [
              0.2222222222222222,
              "#7201a8"
             ],
             [
              0.3333333333333333,
              "#9c179e"
             ],
             [
              0.4444444444444444,
              "#bd3786"
             ],
             [
              0.5555555555555556,
              "#d8576b"
             ],
             [
              0.6666666666666666,
              "#ed7953"
             ],
             [
              0.7777777777777778,
              "#fb9f3a"
             ],
             [
              0.8888888888888888,
              "#fdca26"
             ],
             [
              1,
              "#f0f921"
             ]
            ],
            "type": "surface"
           }
          ],
          "table": [
           {
            "cells": {
             "fill": {
              "color": "#EBF0F8"
             },
             "line": {
              "color": "white"
             }
            },
            "header": {
             "fill": {
              "color": "#C8D4E3"
             },
             "line": {
              "color": "white"
             }
            },
            "type": "table"
           }
          ]
         },
         "layout": {
          "annotationdefaults": {
           "arrowcolor": "#2a3f5f",
           "arrowhead": 0,
           "arrowwidth": 1
          },
          "autotypenumbers": "strict",
          "coloraxis": {
           "colorbar": {
            "outlinewidth": 0,
            "ticks": ""
           }
          },
          "colorscale": {
           "diverging": [
            [
             0,
             "#8e0152"
            ],
            [
             0.1,
             "#c51b7d"
            ],
            [
             0.2,
             "#de77ae"
            ],
            [
             0.3,
             "#f1b6da"
            ],
            [
             0.4,
             "#fde0ef"
            ],
            [
             0.5,
             "#f7f7f7"
            ],
            [
             0.6,
             "#e6f5d0"
            ],
            [
             0.7,
             "#b8e186"
            ],
            [
             0.8,
             "#7fbc41"
            ],
            [
             0.9,
             "#4d9221"
            ],
            [
             1,
             "#276419"
            ]
           ],
           "sequential": [
            [
             0,
             "#0d0887"
            ],
            [
             0.1111111111111111,
             "#46039f"
            ],
            [
             0.2222222222222222,
             "#7201a8"
            ],
            [
             0.3333333333333333,
             "#9c179e"
            ],
            [
             0.4444444444444444,
             "#bd3786"
            ],
            [
             0.5555555555555556,
             "#d8576b"
            ],
            [
             0.6666666666666666,
             "#ed7953"
            ],
            [
             0.7777777777777778,
             "#fb9f3a"
            ],
            [
             0.8888888888888888,
             "#fdca26"
            ],
            [
             1,
             "#f0f921"
            ]
           ],
           "sequentialminus": [
            [
             0,
             "#0d0887"
            ],
            [
             0.1111111111111111,
             "#46039f"
            ],
            [
             0.2222222222222222,
             "#7201a8"
            ],
            [
             0.3333333333333333,
             "#9c179e"
            ],
            [
             0.4444444444444444,
             "#bd3786"
            ],
            [
             0.5555555555555556,
             "#d8576b"
            ],
            [
             0.6666666666666666,
             "#ed7953"
            ],
            [
             0.7777777777777778,
             "#fb9f3a"
            ],
            [
             0.8888888888888888,
             "#fdca26"
            ],
            [
             1,
             "#f0f921"
            ]
           ]
          },
          "colorway": [
           "#636efa",
           "#EF553B",
           "#00cc96",
           "#ab63fa",
           "#FFA15A",
           "#19d3f3",
           "#FF6692",
           "#B6E880",
           "#FF97FF",
           "#FECB52"
          ],
          "font": {
           "color": "#2a3f5f"
          },
          "geo": {
           "bgcolor": "white",
           "lakecolor": "white",
           "landcolor": "#E5ECF6",
           "showlakes": true,
           "showland": true,
           "subunitcolor": "white"
          },
          "hoverlabel": {
           "align": "left"
          },
          "hovermode": "closest",
          "mapbox": {
           "style": "light"
          },
          "paper_bgcolor": "white",
          "plot_bgcolor": "#E5ECF6",
          "polar": {
           "angularaxis": {
            "gridcolor": "white",
            "linecolor": "white",
            "ticks": ""
           },
           "bgcolor": "#E5ECF6",
           "radialaxis": {
            "gridcolor": "white",
            "linecolor": "white",
            "ticks": ""
           }
          },
          "scene": {
           "xaxis": {
            "backgroundcolor": "#E5ECF6",
            "gridcolor": "white",
            "gridwidth": 2,
            "linecolor": "white",
            "showbackground": true,
            "ticks": "",
            "zerolinecolor": "white"
           },
           "yaxis": {
            "backgroundcolor": "#E5ECF6",
            "gridcolor": "white",
            "gridwidth": 2,
            "linecolor": "white",
            "showbackground": true,
            "ticks": "",
            "zerolinecolor": "white"
           },
           "zaxis": {
            "backgroundcolor": "#E5ECF6",
            "gridcolor": "white",
            "gridwidth": 2,
            "linecolor": "white",
            "showbackground": true,
            "ticks": "",
            "zerolinecolor": "white"
           }
          },
          "shapedefaults": {
           "line": {
            "color": "#2a3f5f"
           }
          },
          "ternary": {
           "aaxis": {
            "gridcolor": "white",
            "linecolor": "white",
            "ticks": ""
           },
           "baxis": {
            "gridcolor": "white",
            "linecolor": "white",
            "ticks": ""
           },
           "bgcolor": "#E5ECF6",
           "caxis": {
            "gridcolor": "white",
            "linecolor": "white",
            "ticks": ""
           }
          },
          "title": {
           "x": 0.05
          },
          "xaxis": {
           "automargin": true,
           "gridcolor": "white",
           "linecolor": "white",
           "ticks": "",
           "title": {
            "standoff": 15
           },
           "zerolinecolor": "white",
           "zerolinewidth": 2
          },
          "yaxis": {
           "automargin": true,
           "gridcolor": "white",
           "linecolor": "white",
           "ticks": "",
           "title": {
            "standoff": 15
           },
           "zerolinecolor": "white",
           "zerolinewidth": 2
          }
         }
        }
       }
      }
     },
     "metadata": {},
     "output_type": "display_data"
    }
   ],
   "source": [
    "px.scatter_3d(df,x=\"Newspaper\",y=\"TV\",z=\"Radio\",color=\"Sales\")\n"
   ]
  },
  {
   "cell_type": "markdown",
   "metadata": {},
   "source": [
    "##### Interpretation : \n",
    "- Variable that has strongest correlation with \"Sales\" is \"TV\" followed by \"Radio\";\n",
    "- \"Sales\" increases with the increasing \"TV\" numbers with very good correlation of 0.9;\n",
    "- \"Sales\" also increases with the increae in \"Radio\" numbers but with 0.35 correlation;\n",
    "\n",
    "##### Let's use Linear Regression method predict the Sales based on available data points.\n",
    "Using scikit learn library and Numpy library as supporting library."
   ]
  },
  {
   "cell_type": "code",
   "execution_count": 10,
   "metadata": {},
   "outputs": [
    {
     "data": {
      "text/plain": [
       "4.625124078808657"
      ]
     },
     "execution_count": 10,
     "metadata": {},
     "output_type": "execute_result"
    }
   ],
   "source": [
    "import numpy as np\n",
    "from sklearn.linear_model import LinearRegression\n",
    "X = np.array(list(map(lambda a: a ,[[(x),(y),(z)] for x,y,z in zip(df.Newspaper,df.Radio,df.TV)] )))\n",
    "y = np.array(df.Sales)\n",
    "reg = LinearRegression().fit(X, y)\n",
    "reg.score(X, y)\n",
    "reg.coef_\n",
    "reg.intercept_\n",
    "# reg.predict(np.array([[149.750000,22.900000,25.750000 ]]))"
   ]
  },
  {
   "cell_type": "markdown",
   "metadata": {},
   "source": [
    "Now when I have trhe prediction model lets compare this to the Raw data to check the accuracy."
   ]
  },
  {
   "cell_type": "code",
   "execution_count": 11,
   "metadata": {},
   "outputs": [
    {
     "data": {
      "text/html": [
       "<div>\n",
       "<style scoped>\n",
       "    .dataframe tbody tr th:only-of-type {\n",
       "        vertical-align: middle;\n",
       "    }\n",
       "\n",
       "    .dataframe tbody tr th {\n",
       "        vertical-align: top;\n",
       "    }\n",
       "\n",
       "    .dataframe thead th {\n",
       "        text-align: right;\n",
       "    }\n",
       "</style>\n",
       "<table border=\"1\" class=\"dataframe\">\n",
       "  <thead>\n",
       "    <tr style=\"text-align: right;\">\n",
       "      <th></th>\n",
       "      <th>TV</th>\n",
       "      <th>Radio</th>\n",
       "      <th>Newspaper</th>\n",
       "      <th>Sales</th>\n",
       "      <th>Predicted_Sales</th>\n",
       "    </tr>\n",
       "  </thead>\n",
       "  <tbody>\n",
       "    <tr>\n",
       "      <th>1</th>\n",
       "      <td>44.5</td>\n",
       "      <td>39.3</td>\n",
       "      <td>45.1</td>\n",
       "      <td>10.4</td>\n",
       "      <td>11.27</td>\n",
       "    </tr>\n",
       "    <tr>\n",
       "      <th>2</th>\n",
       "      <td>17.2</td>\n",
       "      <td>45.9</td>\n",
       "      <td>69.3</td>\n",
       "      <td>12.0</td>\n",
       "      <td>10.50</td>\n",
       "    </tr>\n",
       "    <tr>\n",
       "      <th>3</th>\n",
       "      <td>151.5</td>\n",
       "      <td>41.3</td>\n",
       "      <td>58.5</td>\n",
       "      <td>16.5</td>\n",
       "      <td>17.31</td>\n",
       "    </tr>\n",
       "    <tr>\n",
       "      <th>4</th>\n",
       "      <td>180.8</td>\n",
       "      <td>10.8</td>\n",
       "      <td>58.4</td>\n",
       "      <td>17.9</td>\n",
       "      <td>15.64</td>\n",
       "    </tr>\n",
       "    <tr>\n",
       "      <th>5</th>\n",
       "      <td>8.7</td>\n",
       "      <td>48.9</td>\n",
       "      <td>75.0</td>\n",
       "      <td>7.2</td>\n",
       "      <td>10.36</td>\n",
       "    </tr>\n",
       "    <tr>\n",
       "      <th>6</th>\n",
       "      <td>57.5</td>\n",
       "      <td>32.8</td>\n",
       "      <td>23.5</td>\n",
       "      <td>11.8</td>\n",
       "      <td>11.27</td>\n",
       "    </tr>\n",
       "    <tr>\n",
       "      <th>7</th>\n",
       "      <td>120.2</td>\n",
       "      <td>19.6</td>\n",
       "      <td>11.6</td>\n",
       "      <td>13.2</td>\n",
       "      <td>13.27</td>\n",
       "    </tr>\n",
       "    <tr>\n",
       "      <th>8</th>\n",
       "      <td>8.6</td>\n",
       "      <td>2.1</td>\n",
       "      <td>1.0</td>\n",
       "      <td>4.8</td>\n",
       "      <td>5.32</td>\n",
       "    </tr>\n",
       "    <tr>\n",
       "      <th>9</th>\n",
       "      <td>199.8</td>\n",
       "      <td>2.6</td>\n",
       "      <td>21.2</td>\n",
       "      <td>15.6</td>\n",
       "      <td>15.79</td>\n",
       "    </tr>\n",
       "  </tbody>\n",
       "</table>\n",
       "</div>"
      ],
      "text/plain": [
       "      TV  Radio  Newspaper  Sales  Predicted_Sales\n",
       "1   44.5   39.3       45.1   10.4            11.27\n",
       "2   17.2   45.9       69.3   12.0            10.50\n",
       "3  151.5   41.3       58.5   16.5            17.31\n",
       "4  180.8   10.8       58.4   17.9            15.64\n",
       "5    8.7   48.9       75.0    7.2            10.36\n",
       "6   57.5   32.8       23.5   11.8            11.27\n",
       "7  120.2   19.6       11.6   13.2            13.27\n",
       "8    8.6    2.1        1.0    4.8             5.32\n",
       "9  199.8    2.6       21.2   15.6            15.79"
      ]
     },
     "execution_count": 11,
     "metadata": {},
     "output_type": "execute_result"
    }
   ],
   "source": [
    "pred_Sales=list(map(lambda a:round(a,2), reg.predict(np.array(df[[\"Newspaper\",\"Radio\",\"TV\"]]))))\n",
    "df[\"Predicted_Sales\"]=pred_Sales\n",
    "df.iloc[1:10]"
   ]
  },
  {
   "cell_type": "code",
   "execution_count": 12,
   "metadata": {},
   "outputs": [
    {
     "data": {
      "text/html": [
       "<div>\n",
       "<style scoped>\n",
       "    .dataframe tbody tr th:only-of-type {\n",
       "        vertical-align: middle;\n",
       "    }\n",
       "\n",
       "    .dataframe tbody tr th {\n",
       "        vertical-align: top;\n",
       "    }\n",
       "\n",
       "    .dataframe thead th {\n",
       "        text-align: right;\n",
       "    }\n",
       "</style>\n",
       "<table border=\"1\" class=\"dataframe\">\n",
       "  <thead>\n",
       "    <tr style=\"text-align: right;\">\n",
       "      <th></th>\n",
       "      <th>TV</th>\n",
       "      <th>Radio</th>\n",
       "      <th>Newspaper</th>\n",
       "      <th>Sales</th>\n",
       "      <th>Predicted_Sales</th>\n",
       "    </tr>\n",
       "  </thead>\n",
       "  <tbody>\n",
       "    <tr>\n",
       "      <th>TV</th>\n",
       "      <td>1.000000</td>\n",
       "      <td>0.054809</td>\n",
       "      <td>0.056648</td>\n",
       "      <td>0.901208</td>\n",
       "      <td>0.948573</td>\n",
       "    </tr>\n",
       "    <tr>\n",
       "      <th>Radio</th>\n",
       "      <td>0.054809</td>\n",
       "      <td>1.000000</td>\n",
       "      <td>0.354104</td>\n",
       "      <td>0.349631</td>\n",
       "      <td>0.368069</td>\n",
       "    </tr>\n",
       "    <tr>\n",
       "      <th>Newspaper</th>\n",
       "      <td>0.056648</td>\n",
       "      <td>0.354104</td>\n",
       "      <td>1.000000</td>\n",
       "      <td>0.157960</td>\n",
       "      <td>0.166270</td>\n",
       "    </tr>\n",
       "    <tr>\n",
       "      <th>Sales</th>\n",
       "      <td>0.901208</td>\n",
       "      <td>0.349631</td>\n",
       "      <td>0.157960</td>\n",
       "      <td>1.000000</td>\n",
       "      <td>0.950046</td>\n",
       "    </tr>\n",
       "    <tr>\n",
       "      <th>Predicted_Sales</th>\n",
       "      <td>0.948573</td>\n",
       "      <td>0.368069</td>\n",
       "      <td>0.166270</td>\n",
       "      <td>0.950046</td>\n",
       "      <td>1.000000</td>\n",
       "    </tr>\n",
       "  </tbody>\n",
       "</table>\n",
       "</div>"
      ],
      "text/plain": [
       "                       TV     Radio  Newspaper     Sales  Predicted_Sales\n",
       "TV               1.000000  0.054809   0.056648  0.901208         0.948573\n",
       "Radio            0.054809  1.000000   0.354104  0.349631         0.368069\n",
       "Newspaper        0.056648  0.354104   1.000000  0.157960         0.166270\n",
       "Sales            0.901208  0.349631   0.157960  1.000000         0.950046\n",
       "Predicted_Sales  0.948573  0.368069   0.166270  0.950046         1.000000"
      ]
     },
     "execution_count": 12,
     "metadata": {},
     "output_type": "execute_result"
    }
   ],
   "source": [
    "df.corr()"
   ]
  },
  {
   "cell_type": "code",
   "execution_count": 13,
   "metadata": {},
   "outputs": [
    {
     "data": {
      "text/html": [
       "<div>\n",
       "<style scoped>\n",
       "    .dataframe tbody tr th:only-of-type {\n",
       "        vertical-align: middle;\n",
       "    }\n",
       "\n",
       "    .dataframe tbody tr th {\n",
       "        vertical-align: top;\n",
       "    }\n",
       "\n",
       "    .dataframe thead th {\n",
       "        text-align: right;\n",
       "    }\n",
       "</style>\n",
       "<table border=\"1\" class=\"dataframe\">\n",
       "  <thead>\n",
       "    <tr style=\"text-align: right;\">\n",
       "      <th></th>\n",
       "      <th>TV</th>\n",
       "      <th>Radio</th>\n",
       "      <th>Newspaper</th>\n",
       "      <th>Sales</th>\n",
       "      <th>Predicted_Sales</th>\n",
       "    </tr>\n",
       "  </thead>\n",
       "  <tbody>\n",
       "    <tr>\n",
       "      <th>count</th>\n",
       "      <td>200.000000</td>\n",
       "      <td>200.000000</td>\n",
       "      <td>200.000000</td>\n",
       "      <td>200.000000</td>\n",
       "      <td>200.000000</td>\n",
       "    </tr>\n",
       "    <tr>\n",
       "      <th>mean</th>\n",
       "      <td>147.042500</td>\n",
       "      <td>23.264000</td>\n",
       "      <td>30.554000</td>\n",
       "      <td>15.130500</td>\n",
       "      <td>15.130300</td>\n",
       "    </tr>\n",
       "    <tr>\n",
       "      <th>std</th>\n",
       "      <td>85.854236</td>\n",
       "      <td>14.846809</td>\n",
       "      <td>21.778621</td>\n",
       "      <td>5.283892</td>\n",
       "      <td>5.019986</td>\n",
       "    </tr>\n",
       "    <tr>\n",
       "      <th>min</th>\n",
       "      <td>0.700000</td>\n",
       "      <td>0.000000</td>\n",
       "      <td>0.300000</td>\n",
       "      <td>1.600000</td>\n",
       "      <td>5.320000</td>\n",
       "    </tr>\n",
       "    <tr>\n",
       "      <th>25%</th>\n",
       "      <td>74.375000</td>\n",
       "      <td>9.975000</td>\n",
       "      <td>12.750000</td>\n",
       "      <td>11.000000</td>\n",
       "      <td>10.627500</td>\n",
       "    </tr>\n",
       "    <tr>\n",
       "      <th>50%</th>\n",
       "      <td>149.750000</td>\n",
       "      <td>22.900000</td>\n",
       "      <td>25.750000</td>\n",
       "      <td>16.000000</td>\n",
       "      <td>15.490000</td>\n",
       "    </tr>\n",
       "    <tr>\n",
       "      <th>75%</th>\n",
       "      <td>218.825000</td>\n",
       "      <td>36.525000</td>\n",
       "      <td>45.100000</td>\n",
       "      <td>19.050000</td>\n",
       "      <td>19.282500</td>\n",
       "    </tr>\n",
       "    <tr>\n",
       "      <th>max</th>\n",
       "      <td>296.400000</td>\n",
       "      <td>49.600000</td>\n",
       "      <td>114.000000</td>\n",
       "      <td>27.000000</td>\n",
       "      <td>24.950000</td>\n",
       "    </tr>\n",
       "  </tbody>\n",
       "</table>\n",
       "</div>"
      ],
      "text/plain": [
       "               TV       Radio   Newspaper       Sales  Predicted_Sales\n",
       "count  200.000000  200.000000  200.000000  200.000000       200.000000\n",
       "mean   147.042500   23.264000   30.554000   15.130500        15.130300\n",
       "std     85.854236   14.846809   21.778621    5.283892         5.019986\n",
       "min      0.700000    0.000000    0.300000    1.600000         5.320000\n",
       "25%     74.375000    9.975000   12.750000   11.000000        10.627500\n",
       "50%    149.750000   22.900000   25.750000   16.000000        15.490000\n",
       "75%    218.825000   36.525000   45.100000   19.050000        19.282500\n",
       "max    296.400000   49.600000  114.000000   27.000000        24.950000"
      ]
     },
     "execution_count": 13,
     "metadata": {},
     "output_type": "execute_result"
    }
   ],
   "source": [
    "df.describe()"
   ]
  },
  {
   "cell_type": "markdown",
   "metadata": {},
   "source": [
    "#### As it is clear from this correlation table that Predicted_Sales has about 95% Correlation with the Sales in raw Dataset.\n",
    "let us try to increase the accuracy"
   ]
  },
  {
   "cell_type": "code",
   "execution_count": 14,
   "metadata": {},
   "outputs": [
    {
     "data": {
      "application/vnd.plotly.v1+json": {
       "config": {
        "plotlyServerURL": "https://plot.ly"
       },
       "data": [
        {
         "hovertemplate": "Sales=%{x}<br>Predicted_Sales=%{y}<br>color=%{marker.color}<extra></extra>",
         "legendgroup": "",
         "marker": {
          "color": [
           0.8800000000000026,
           -0.8699999999999992,
           1.5,
           -0.8099999999999987,
           2.259999999999998,
           -3.1599999999999993,
           0.5300000000000011,
           -0.07000000000000028,
           -0.5200000000000005,
           -0.1899999999999995,
           3.75,
           -1.4800000000000004,
           -0.5,
           2.9499999999999993,
           -0.2699999999999996,
           2.009999999999998,
           0.23000000000000043,
           0.1999999999999993,
           0.7100000000000009,
           -0.6100000000000012,
           -1.5,
           -0.6000000000000014,
           -1.46,
           1.629999999999999,
           0.33000000000000007,
           -2.3200000000000003,
           -0.5399999999999991,
           1.4100000000000001,
           -2.1799999999999997,
           0.3100000000000005,
           -2.210000000000001,
           -0.75,
           3.1099999999999994,
           -3.830000000000002,
           1.9100000000000001,
           -3.09,
           1.5499999999999972,
           0.7099999999999991,
           0.2599999999999998,
           0.4200000000000017,
           -1.4499999999999993,
           -0.75,
           -2.870000000000001,
           1.0999999999999979,
           -0.2599999999999998,
           -0.4799999999999969,
           0.019999999999999574,
           1.0700000000000003,
           1.1000000000000014,
           0.16999999999999993,
           0.5499999999999989,
           -0.41999999999999993,
           1.7200000000000024,
           1.6699999999999982,
           -1.8200000000000003,
           2.9399999999999977,
           -2.539999999999999,
           -0.9000000000000004,
           2.379999999999999,
           -0.860000000000003,
           0.33999999999999986,
           0.759999999999998,
           1.379999999999999,
           0.6099999999999994,
           -0.3500000000000014,
           1.92,
           2.0299999999999994,
           -0.35999999999999943,
           -1.6000000000000014,
           1.1600000000000001,
           -0.4499999999999993,
           0.2599999999999998,
           -0.8199999999999985,
           -1.2899999999999991,
           -1.879999999999999,
           -1.5500000000000007,
           0.6000000000000005,
           -0.040000000000000924,
           -2.8199999999999994,
           -0.7699999999999996,
           0.15000000000000036,
           -0.8299999999999983,
           0.39000000000000057,
           0.4800000000000004,
           0.8399999999999999,
           3.0700000000000003,
           0.2699999999999996,
           0.9800000000000004,
           0.7100000000000009,
           0.9599999999999991,
           1.5399999999999991,
           0.9500000000000002,
           -0.6799999999999997,
           -0.019999999999999574,
           -0.47000000000000064,
           -0.020000000000003126,
           0.9399999999999995,
           3.5500000000000007,
           0.4599999999999973,
           0.7399999999999984,
           -0.5100000000000016,
           -0.879999999999999,
           -1.1699999999999982,
           3,
           -0.5700000000000003,
           -2.120000000000001,
           0.03000000000000025,
           2.41,
           -0.08999999999999986,
           -1.6099999999999994,
           0.5799999999999983,
           -0.05999999999999872,
           1.2600000000000016,
           2.66,
           0.6999999999999993,
           0.11999999999999922,
           -1.540000000000001,
           0.5199999999999996,
           0.46000000000000085,
           -0.8000000000000007,
           0.3000000000000007,
           -0.9900000000000002,
           -0.4799999999999969,
           0.16999999999999993,
           -0.9000000000000021,
           -0.040000000000000924,
           -2.630000000000001,
           2.91,
           2.84,
           0.5299999999999994,
           -7.300000000000001,
           -1.6900000000000013,
           -2.29,
           -0.5899999999999999,
           0.010000000000001563,
           -0.6899999999999995,
           -0.6999999999999993,
           -1.8399999999999999,
           -0.14000000000000057,
           1.3099999999999987,
           0.46000000000000085,
           0.21999999999999886,
           -0.09999999999999787,
           -0.5399999999999991,
           0.8399999999999999,
           -2.17,
           -0.28000000000000114,
           2.2799999999999976,
           -0.10999999999999943,
           0.2699999999999996,
           -5.309999999999999,
           -0.5300000000000011,
           -1.2799999999999976,
           -2.210000000000001,
           3.490000000000002,
           -2.8899999999999997,
           0.8900000000000006,
           -2.83,
           -1.9300000000000006,
           -0.879999999999999,
           0.4399999999999977,
           0.16000000000000014,
           3.0700000000000003,
           0.5300000000000011,
           -0.6799999999999997,
           -0.8800000000000026,
           -1.6300000000000008,
           0.75,
           -1.7999999999999972,
           -1.2399999999999984,
           -0.1899999999999995,
           1.67,
           -0.25,
           2.139999999999999,
           -0.6000000000000014,
           2.0500000000000007,
           -1.1900000000000013,
           1.959999999999999,
           -3.1400000000000006,
           2.880000000000001,
           2.0700000000000003,
           0.08999999999999986,
           0.3999999999999986,
           1.2899999999999991,
           -3.129999999999999,
           1.9800000000000004,
           -2.1499999999999986,
           -0.8099999999999987,
           -0.7900000000000027,
           -0.25,
           -0.379999999999999,
           2.01,
           -0.10999999999999943,
           1.4000000000000021,
           0.7100000000000009,
           0.4899999999999993,
           3.7200000000000006,
           -0.4599999999999991,
           0.9200000000000017,
           0.2099999999999973
          ],
          "coloraxis": "coloraxis",
          "symbol": "circle"
         },
         "mode": "markers",
         "name": "",
         "orientation": "v",
         "showlegend": false,
         "type": "scatter",
         "x": [
          22.1,
          10.4,
          12,
          16.5,
          17.9,
          7.2,
          11.8,
          13.2,
          4.8,
          15.6,
          12.6,
          17.4,
          9.2,
          13.7,
          19,
          22.4,
          12.5,
          24.4,
          11.3,
          14.6,
          18,
          17.5,
          5.6,
          20.5,
          9.7,
          17,
          15,
          20.9,
          18.9,
          10.5,
          21.4,
          11.9,
          13.2,
          17.4,
          11.9,
          17.8,
          25.4,
          14.7,
          10.1,
          21.5,
          16.6,
          17.1,
          20.7,
          17.9,
          8.5,
          16.1,
          10.6,
          23.2,
          19.8,
          9.7,
          16.4,
          10.7,
          22.6,
          21.2,
          20.2,
          23.7,
          5.5,
          13.2,
          23.8,
          18.4,
          8.1,
          24.2,
          20.7,
          14,
          16,
          11.3,
          11,
          13.4,
          18.9,
          22.3,
          18.3,
          12.4,
          8.8,
          11,
          17,
          8.7,
          6.9,
          14.2,
          5.3,
          11,
          11.8,
          17.3,
          11.3,
          13.6,
          21.7,
          20.2,
          12,
          16,
          12.9,
          16.7,
          14,
          7.3,
          19.4,
          22.2,
          11.5,
          16.9,
          16.7,
          20.5,
          25.4,
          17.2,
          16.7,
          23.8,
          19.8,
          19.7,
          20.7,
          15,
          7.2,
          12,
          5.3,
          19.8,
          18.4,
          21.8,
          17.1,
          20.9,
          14.6,
          12.6,
          12.2,
          9.4,
          15.9,
          6.6,
          15.5,
          7,
          16.6,
          15.2,
          19.7,
          10.6,
          6.6,
          11.9,
          24.7,
          9.7,
          1.6,
          17.7,
          5.7,
          19.6,
          10.8,
          11.6,
          9.5,
          20.8,
          9.6,
          20.7,
          10.9,
          19.2,
          20.1,
          10.4,
          12.3,
          10.3,
          18.2,
          25.4,
          10.9,
          10.1,
          16.1,
          11.6,
          16.6,
          16,
          20.6,
          3.2,
          15.3,
          10.1,
          7.3,
          12.9,
          16.4,
          13.3,
          19.9,
          18,
          11.9,
          16.9,
          8,
          17.2,
          17.1,
          20,
          8.4,
          17.5,
          7.6,
          16.7,
          16.5,
          27,
          20.2,
          16.7,
          16.8,
          17.6,
          15.5,
          17.2,
          8.7,
          26.2,
          17.6,
          22.6,
          10.3,
          17.3,
          20.9,
          6.7,
          10.8,
          11.9,
          5.9,
          19.6,
          17.3,
          7.6,
          14,
          14.8,
          25.5,
          18.4
         ],
         "xaxis": "x",
         "y": [
          21.22,
          11.27,
          10.5,
          17.31,
          15.64,
          10.36,
          11.27,
          13.27,
          5.32,
          15.79,
          8.85,
          18.88,
          9.7,
          10.75,
          19.27,
          20.39,
          12.27,
          24.2,
          10.59,
          15.21,
          19.5,
          18.1,
          7.06,
          18.87,
          9.37,
          19.32,
          15.54,
          19.49,
          21.08,
          10.19,
          23.61,
          12.65,
          10.09,
          21.23,
          9.99,
          20.89,
          23.85,
          13.99,
          9.84,
          21.08,
          18.05,
          17.85,
          23.57,
          16.8,
          8.76,
          16.58,
          10.58,
          22.13,
          18.7,
          9.53,
          15.85,
          11.12,
          20.88,
          19.53,
          22.02,
          20.76,
          8.04,
          14.1,
          21.42,
          19.26,
          7.76,
          23.44,
          19.32,
          13.39,
          16.35,
          9.38,
          8.97,
          13.76,
          20.5,
          21.14,
          18.75,
          12.14,
          9.62,
          12.29,
          18.88,
          10.25,
          6.3,
          14.24,
          8.12,
          11.77,
          11.65,
          18.13,
          10.91,
          13.12,
          20.86,
          17.13,
          11.73,
          15.02,
          12.19,
          15.74,
          12.46,
          6.35,
          20.08,
          22.22,
          11.97,
          16.92,
          15.76,
          16.95,
          24.94,
          16.46,
          17.21,
          24.68,
          20.97,
          16.7,
          21.27,
          17.12,
          7.17,
          9.59,
          5.39,
          21.41,
          17.82,
          21.86,
          15.84,
          18.24,
          13.9,
          12.48,
          13.74,
          8.88,
          15.44,
          7.4,
          15.2,
          7.99,
          17.08,
          15.03,
          20.6,
          10.64,
          9.23,
          8.99,
          21.86,
          9.17,
          8.9,
          19.39,
          7.99,
          20.19,
          10.79,
          12.29,
          10.2,
          22.64,
          9.74,
          19.39,
          10.44,
          18.98,
          20.2,
          10.94,
          11.46,
          12.47,
          18.48,
          23.12,
          11.01,
          9.83,
          21.41,
          12.13,
          17.88,
          18.21,
          17.11,
          6.09,
          14.41,
          12.93,
          9.23,
          13.78,
          15.96,
          13.14,
          16.83,
          17.47,
          12.58,
          17.78,
          9.63,
          16.45,
          18.9,
          21.24,
          8.59,
          15.83,
          7.85,
          14.56,
          17.1,
          24.95,
          21.39,
          14.74,
          19.94,
          14.72,
          13.43,
          17.11,
          8.3,
          24.91,
          20.73,
          20.62,
          12.45,
          18.11,
          21.69,
          6.95,
          11.18,
          9.89,
          6.01,
          18.2,
          16.59,
          7.11,
          10.28,
          15.26,
          24.58,
          18.19
         ],
         "yaxis": "y"
        }
       ],
       "layout": {
        "coloraxis": {
         "colorbar": {
          "title": {
           "text": "Sales -PredSales"
          }
         },
         "colorscale": [
          [
           0,
           "#0d0887"
          ],
          [
           0.1111111111111111,
           "#46039f"
          ],
          [
           0.2222222222222222,
           "#7201a8"
          ],
          [
           0.3333333333333333,
           "#9c179e"
          ],
          [
           0.4444444444444444,
           "#bd3786"
          ],
          [
           0.5555555555555556,
           "#d8576b"
          ],
          [
           0.6666666666666666,
           "#ed7953"
          ],
          [
           0.7777777777777778,
           "#fb9f3a"
          ],
          [
           0.8888888888888888,
           "#fdca26"
          ],
          [
           1,
           "#f0f921"
          ]
         ]
        },
        "legend": {
         "tracegroupgap": 0
        },
        "template": {
         "data": {
          "bar": [
           {
            "error_x": {
             "color": "#2a3f5f"
            },
            "error_y": {
             "color": "#2a3f5f"
            },
            "marker": {
             "line": {
              "color": "#E5ECF6",
              "width": 0.5
             },
             "pattern": {
              "fillmode": "overlay",
              "size": 10,
              "solidity": 0.2
             }
            },
            "type": "bar"
           }
          ],
          "barpolar": [
           {
            "marker": {
             "line": {
              "color": "#E5ECF6",
              "width": 0.5
             },
             "pattern": {
              "fillmode": "overlay",
              "size": 10,
              "solidity": 0.2
             }
            },
            "type": "barpolar"
           }
          ],
          "carpet": [
           {
            "aaxis": {
             "endlinecolor": "#2a3f5f",
             "gridcolor": "white",
             "linecolor": "white",
             "minorgridcolor": "white",
             "startlinecolor": "#2a3f5f"
            },
            "baxis": {
             "endlinecolor": "#2a3f5f",
             "gridcolor": "white",
             "linecolor": "white",
             "minorgridcolor": "white",
             "startlinecolor": "#2a3f5f"
            },
            "type": "carpet"
           }
          ],
          "choropleth": [
           {
            "colorbar": {
             "outlinewidth": 0,
             "ticks": ""
            },
            "type": "choropleth"
           }
          ],
          "contour": [
           {
            "colorbar": {
             "outlinewidth": 0,
             "ticks": ""
            },
            "colorscale": [
             [
              0,
              "#0d0887"
             ],
             [
              0.1111111111111111,
              "#46039f"
             ],
             [
              0.2222222222222222,
              "#7201a8"
             ],
             [
              0.3333333333333333,
              "#9c179e"
             ],
             [
              0.4444444444444444,
              "#bd3786"
             ],
             [
              0.5555555555555556,
              "#d8576b"
             ],
             [
              0.6666666666666666,
              "#ed7953"
             ],
             [
              0.7777777777777778,
              "#fb9f3a"
             ],
             [
              0.8888888888888888,
              "#fdca26"
             ],
             [
              1,
              "#f0f921"
             ]
            ],
            "type": "contour"
           }
          ],
          "contourcarpet": [
           {
            "colorbar": {
             "outlinewidth": 0,
             "ticks": ""
            },
            "type": "contourcarpet"
           }
          ],
          "heatmap": [
           {
            "colorbar": {
             "outlinewidth": 0,
             "ticks": ""
            },
            "colorscale": [
             [
              0,
              "#0d0887"
             ],
             [
              0.1111111111111111,
              "#46039f"
             ],
             [
              0.2222222222222222,
              "#7201a8"
             ],
             [
              0.3333333333333333,
              "#9c179e"
             ],
             [
              0.4444444444444444,
              "#bd3786"
             ],
             [
              0.5555555555555556,
              "#d8576b"
             ],
             [
              0.6666666666666666,
              "#ed7953"
             ],
             [
              0.7777777777777778,
              "#fb9f3a"
             ],
             [
              0.8888888888888888,
              "#fdca26"
             ],
             [
              1,
              "#f0f921"
             ]
            ],
            "type": "heatmap"
           }
          ],
          "heatmapgl": [
           {
            "colorbar": {
             "outlinewidth": 0,
             "ticks": ""
            },
            "colorscale": [
             [
              0,
              "#0d0887"
             ],
             [
              0.1111111111111111,
              "#46039f"
             ],
             [
              0.2222222222222222,
              "#7201a8"
             ],
             [
              0.3333333333333333,
              "#9c179e"
             ],
             [
              0.4444444444444444,
              "#bd3786"
             ],
             [
              0.5555555555555556,
              "#d8576b"
             ],
             [
              0.6666666666666666,
              "#ed7953"
             ],
             [
              0.7777777777777778,
              "#fb9f3a"
             ],
             [
              0.8888888888888888,
              "#fdca26"
             ],
             [
              1,
              "#f0f921"
             ]
            ],
            "type": "heatmapgl"
           }
          ],
          "histogram": [
           {
            "marker": {
             "pattern": {
              "fillmode": "overlay",
              "size": 10,
              "solidity": 0.2
             }
            },
            "type": "histogram"
           }
          ],
          "histogram2d": [
           {
            "colorbar": {
             "outlinewidth": 0,
             "ticks": ""
            },
            "colorscale": [
             [
              0,
              "#0d0887"
             ],
             [
              0.1111111111111111,
              "#46039f"
             ],
             [
              0.2222222222222222,
              "#7201a8"
             ],
             [
              0.3333333333333333,
              "#9c179e"
             ],
             [
              0.4444444444444444,
              "#bd3786"
             ],
             [
              0.5555555555555556,
              "#d8576b"
             ],
             [
              0.6666666666666666,
              "#ed7953"
             ],
             [
              0.7777777777777778,
              "#fb9f3a"
             ],
             [
              0.8888888888888888,
              "#fdca26"
             ],
             [
              1,
              "#f0f921"
             ]
            ],
            "type": "histogram2d"
           }
          ],
          "histogram2dcontour": [
           {
            "colorbar": {
             "outlinewidth": 0,
             "ticks": ""
            },
            "colorscale": [
             [
              0,
              "#0d0887"
             ],
             [
              0.1111111111111111,
              "#46039f"
             ],
             [
              0.2222222222222222,
              "#7201a8"
             ],
             [
              0.3333333333333333,
              "#9c179e"
             ],
             [
              0.4444444444444444,
              "#bd3786"
             ],
             [
              0.5555555555555556,
              "#d8576b"
             ],
             [
              0.6666666666666666,
              "#ed7953"
             ],
             [
              0.7777777777777778,
              "#fb9f3a"
             ],
             [
              0.8888888888888888,
              "#fdca26"
             ],
             [
              1,
              "#f0f921"
             ]
            ],
            "type": "histogram2dcontour"
           }
          ],
          "mesh3d": [
           {
            "colorbar": {
             "outlinewidth": 0,
             "ticks": ""
            },
            "type": "mesh3d"
           }
          ],
          "parcoords": [
           {
            "line": {
             "colorbar": {
              "outlinewidth": 0,
              "ticks": ""
             }
            },
            "type": "parcoords"
           }
          ],
          "pie": [
           {
            "automargin": true,
            "type": "pie"
           }
          ],
          "scatter": [
           {
            "fillpattern": {
             "fillmode": "overlay",
             "size": 10,
             "solidity": 0.2
            },
            "type": "scatter"
           }
          ],
          "scatter3d": [
           {
            "line": {
             "colorbar": {
              "outlinewidth": 0,
              "ticks": ""
             }
            },
            "marker": {
             "colorbar": {
              "outlinewidth": 0,
              "ticks": ""
             }
            },
            "type": "scatter3d"
           }
          ],
          "scattercarpet": [
           {
            "marker": {
             "colorbar": {
              "outlinewidth": 0,
              "ticks": ""
             }
            },
            "type": "scattercarpet"
           }
          ],
          "scattergeo": [
           {
            "marker": {
             "colorbar": {
              "outlinewidth": 0,
              "ticks": ""
             }
            },
            "type": "scattergeo"
           }
          ],
          "scattergl": [
           {
            "marker": {
             "colorbar": {
              "outlinewidth": 0,
              "ticks": ""
             }
            },
            "type": "scattergl"
           }
          ],
          "scattermapbox": [
           {
            "marker": {
             "colorbar": {
              "outlinewidth": 0,
              "ticks": ""
             }
            },
            "type": "scattermapbox"
           }
          ],
          "scatterpolar": [
           {
            "marker": {
             "colorbar": {
              "outlinewidth": 0,
              "ticks": ""
             }
            },
            "type": "scatterpolar"
           }
          ],
          "scatterpolargl": [
           {
            "marker": {
             "colorbar": {
              "outlinewidth": 0,
              "ticks": ""
             }
            },
            "type": "scatterpolargl"
           }
          ],
          "scatterternary": [
           {
            "marker": {
             "colorbar": {
              "outlinewidth": 0,
              "ticks": ""
             }
            },
            "type": "scatterternary"
           }
          ],
          "surface": [
           {
            "colorbar": {
             "outlinewidth": 0,
             "ticks": ""
            },
            "colorscale": [
             [
              0,
              "#0d0887"
             ],
             [
              0.1111111111111111,
              "#46039f"
             ],
             [
              0.2222222222222222,
              "#7201a8"
             ],
             [
              0.3333333333333333,
              "#9c179e"
             ],
             [
              0.4444444444444444,
              "#bd3786"
             ],
             [
              0.5555555555555556,
              "#d8576b"
             ],
             [
              0.6666666666666666,
              "#ed7953"
             ],
             [
              0.7777777777777778,
              "#fb9f3a"
             ],
             [
              0.8888888888888888,
              "#fdca26"
             ],
             [
              1,
              "#f0f921"
             ]
            ],
            "type": "surface"
           }
          ],
          "table": [
           {
            "cells": {
             "fill": {
              "color": "#EBF0F8"
             },
             "line": {
              "color": "white"
             }
            },
            "header": {
             "fill": {
              "color": "#C8D4E3"
             },
             "line": {
              "color": "white"
             }
            },
            "type": "table"
           }
          ]
         },
         "layout": {
          "annotationdefaults": {
           "arrowcolor": "#2a3f5f",
           "arrowhead": 0,
           "arrowwidth": 1
          },
          "autotypenumbers": "strict",
          "coloraxis": {
           "colorbar": {
            "outlinewidth": 0,
            "ticks": ""
           }
          },
          "colorscale": {
           "diverging": [
            [
             0,
             "#8e0152"
            ],
            [
             0.1,
             "#c51b7d"
            ],
            [
             0.2,
             "#de77ae"
            ],
            [
             0.3,
             "#f1b6da"
            ],
            [
             0.4,
             "#fde0ef"
            ],
            [
             0.5,
             "#f7f7f7"
            ],
            [
             0.6,
             "#e6f5d0"
            ],
            [
             0.7,
             "#b8e186"
            ],
            [
             0.8,
             "#7fbc41"
            ],
            [
             0.9,
             "#4d9221"
            ],
            [
             1,
             "#276419"
            ]
           ],
           "sequential": [
            [
             0,
             "#0d0887"
            ],
            [
             0.1111111111111111,
             "#46039f"
            ],
            [
             0.2222222222222222,
             "#7201a8"
            ],
            [
             0.3333333333333333,
             "#9c179e"
            ],
            [
             0.4444444444444444,
             "#bd3786"
            ],
            [
             0.5555555555555556,
             "#d8576b"
            ],
            [
             0.6666666666666666,
             "#ed7953"
            ],
            [
             0.7777777777777778,
             "#fb9f3a"
            ],
            [
             0.8888888888888888,
             "#fdca26"
            ],
            [
             1,
             "#f0f921"
            ]
           ],
           "sequentialminus": [
            [
             0,
             "#0d0887"
            ],
            [
             0.1111111111111111,
             "#46039f"
            ],
            [
             0.2222222222222222,
             "#7201a8"
            ],
            [
             0.3333333333333333,
             "#9c179e"
            ],
            [
             0.4444444444444444,
             "#bd3786"
            ],
            [
             0.5555555555555556,
             "#d8576b"
            ],
            [
             0.6666666666666666,
             "#ed7953"
            ],
            [
             0.7777777777777778,
             "#fb9f3a"
            ],
            [
             0.8888888888888888,
             "#fdca26"
            ],
            [
             1,
             "#f0f921"
            ]
           ]
          },
          "colorway": [
           "#636efa",
           "#EF553B",
           "#00cc96",
           "#ab63fa",
           "#FFA15A",
           "#19d3f3",
           "#FF6692",
           "#B6E880",
           "#FF97FF",
           "#FECB52"
          ],
          "font": {
           "color": "#2a3f5f"
          },
          "geo": {
           "bgcolor": "white",
           "lakecolor": "white",
           "landcolor": "#E5ECF6",
           "showlakes": true,
           "showland": true,
           "subunitcolor": "white"
          },
          "hoverlabel": {
           "align": "left"
          },
          "hovermode": "closest",
          "mapbox": {
           "style": "light"
          },
          "paper_bgcolor": "white",
          "plot_bgcolor": "#E5ECF6",
          "polar": {
           "angularaxis": {
            "gridcolor": "white",
            "linecolor": "white",
            "ticks": ""
           },
           "bgcolor": "#E5ECF6",
           "radialaxis": {
            "gridcolor": "white",
            "linecolor": "white",
            "ticks": ""
           }
          },
          "scene": {
           "xaxis": {
            "backgroundcolor": "#E5ECF6",
            "gridcolor": "white",
            "gridwidth": 2,
            "linecolor": "white",
            "showbackground": true,
            "ticks": "",
            "zerolinecolor": "white"
           },
           "yaxis": {
            "backgroundcolor": "#E5ECF6",
            "gridcolor": "white",
            "gridwidth": 2,
            "linecolor": "white",
            "showbackground": true,
            "ticks": "",
            "zerolinecolor": "white"
           },
           "zaxis": {
            "backgroundcolor": "#E5ECF6",
            "gridcolor": "white",
            "gridwidth": 2,
            "linecolor": "white",
            "showbackground": true,
            "ticks": "",
            "zerolinecolor": "white"
           }
          },
          "shapedefaults": {
           "line": {
            "color": "#2a3f5f"
           }
          },
          "ternary": {
           "aaxis": {
            "gridcolor": "white",
            "linecolor": "white",
            "ticks": ""
           },
           "baxis": {
            "gridcolor": "white",
            "linecolor": "white",
            "ticks": ""
           },
           "bgcolor": "#E5ECF6",
           "caxis": {
            "gridcolor": "white",
            "linecolor": "white",
            "ticks": ""
           }
          },
          "title": {
           "x": 0.05
          },
          "xaxis": {
           "automargin": true,
           "gridcolor": "white",
           "linecolor": "white",
           "ticks": "",
           "title": {
            "standoff": 15
           },
           "zerolinecolor": "white",
           "zerolinewidth": 2
          },
          "yaxis": {
           "automargin": true,
           "gridcolor": "white",
           "linecolor": "white",
           "ticks": "",
           "title": {
            "standoff": 15
           },
           "zerolinecolor": "white",
           "zerolinewidth": 2
          }
         }
        },
        "title": {
         "text": "Scatter Plot showing Replation b/w \"Predicted Sales\"\" and \"Sales\""
        },
        "xaxis": {
         "anchor": "y",
         "domain": [
          0,
          1
         ],
         "title": {
          "text": "Sales"
         }
        },
        "yaxis": {
         "anchor": "x",
         "domain": [
          0,
          1
         ],
         "title": {
          "text": "Predicted_Sales"
         }
        }
       }
      }
     },
     "metadata": {},
     "output_type": "display_data"
    }
   ],
   "source": [
    "# sns.lineplot(df,x=\"Sales\",y=\"Predicted_Sales\")\n",
    "com_Scatter=px.scatter(df,\n",
    "           x=\"Sales\",\n",
    "           y=\"Predicted_Sales\",\n",
    "           color=(df.Sales-df.Predicted_Sales),\n",
    "           title='''Scatter Plot showing Replation b/w \"Predicted Sales\"\" and \"Sales\"'''\n",
    "           )\n",
    "com_Scatter.layout.coloraxis.colorbar.title = \"Sales -PredSales\"\n",
    "\n",
    "com_Scatter.show()\n"
   ]
  },
  {
   "cell_type": "code",
   "execution_count": 30,
   "metadata": {},
   "outputs": [
    {
     "data": {
      "text/plain": [
       "<AxesSubplot: xlabel='Sales', ylabel='Predicted_Sales'>"
      ]
     },
     "execution_count": 30,
     "metadata": {},
     "output_type": "execute_result"
    },
    {
     "data": {
      "image/png": "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",
      "text/plain": [
       "<Figure size 640x480 with 1 Axes>"
      ]
     },
     "metadata": {},
     "output_type": "display_data"
    }
   ],
   "source": [
    "sns.lineplot(df,x=\"Sales\",\n",
    "             y=\"Predicted_Sales\",\n",
    "             legend=\"auto\",\n",
    "             label= \"Sales \"\n",
    "             )\n"
   ]
  },
  {
   "cell_type": "code",
   "execution_count": 61,
   "metadata": {},
   "outputs": [
    {
     "data": {
      "text/plain": [
       "Text(0, 0.5, 'Intertias')"
      ]
     },
     "execution_count": 61,
     "metadata": {},
     "output_type": "execute_result"
    },
    {
     "data": {
      "image/png": "iVBORw0KGgoAAAANSUhEUgAAAjcAAAHHCAYAAABDUnkqAAAAOXRFWHRTb2Z0d2FyZQBNYXRwbG90bGliIHZlcnNpb24zLjYuMCwgaHR0cHM6Ly9tYXRwbG90bGliLm9yZy89olMNAAAACXBIWXMAAA9hAAAPYQGoP6dpAABo4klEQVR4nO3dd1zU9R8H8Nf3NntvEVyoiAMxzW050ZyVlebM/JlaFpVpw1GpqTkqzVVqlpqVO01TcmvOcC9cILIccMwD7r6/P5DTk43AF7jX8/G4h9x33fsA4cXn8/l+PoIoiiKIiIiIqgiZ1AUQERERlSaGGyIiIqpSGG6IiIioSmG4ISIioiqF4YaIiIiqFIYbIiIiqlIYboiIiKhKYbghIiKiKoXhhoiIiKoUhhuiSqpDhw7o0KFDubzW1atX0aVLF9jZ2UEQBGzatKlcXre0rFy5EoIg4ObNm+X+2r6+vhg6dGi5v25xDB06FL6+vsbnN2/ehCAI+Prrr6UrqghGjx6Nzp07F3qcIAgYO3Zssa+fmZkJb29vfP/99yUpjyTEcEOSyPllc+LECZPtiYmJaN68OTQaDXbs2AEAmDJlCgRBgEwmQ2RkZK5rabVaWFhYlPgHmLlJTU3FlClTsHfv3iKfM2TIEJw9exbTpk3Dzz//jGbNmpVdgQDi4+Mxbtw41KtXDxYWFnB1dUXz5s3x0UcfITk5uUxfuyQOHz6MKVOmICEhQepSTAiCkO9j1KhRUpf3VG7cuIEffvgBH3/8cZm9hlKpREhICKZNm4b09PQyex0qfQqpCyDKodVq0aVLF5w5cwYbN25Et27dTPar1WqsXbsW48ePN9m+YcOG8iyz0ktNTcXUqVMBoEgtP2lpaThy5Ag++eSTcgmP9+/fR7NmzaDVajF8+HDUq1cP9+7dw5kzZ7Bo0SK89dZbsLa2LvM6iuPw4cOYOnUqhg4dCnt7e5N9ly9fhkwm3d+RnTt3xuDBg3Nt9/Pzk6Ca0vPNN9+gRo0aeO6558r0dYYNG4YJEyZgzZo1GD58eJm+FpUehhuqEJKSktC1a1eEhYVhw4YNCA4OznVM9+7d8ww3a9asQY8ePbB+/fryKtesxMfHA0CuX9pPIyUlBVZWVnnu+/HHHxEREYFDhw6hVatWJvu0Wi1UKlWp1VEe1Gq1pK/v5+eH119/XdIaSltmZiZWr15dLq1P9vb26NKlC1auXMlwU4mwW4okl5ycjG7duuHUqVNYv349evTokedxAwYMQFhYGC5dumTcFhMTg3/++QcDBgzI8xydTofJkyejdu3aUKvV8Pb2xvjx46HT6UyOW7FiBZ5//nm4urpCrVbD398fixYtynU9X19fvPDCCzh48KCx+6xmzZpYtWqVyXGZmZmYOnUq6tSpA41GAycnJ7Rp0wa7du0q8HOR0123f/9+/O9//4OTkxNsbW0xePBgPHjwoMBzASAuLg5vvPEG3NzcoNFo0LhxY/z000/G/Tdv3oSLiwsAYOrUqcYuiilTpuR5vSlTpsDHxwcA8OGHH0IQBJOxGf/99x+Cg4Nha2sLa2trdOzYEf/++2+e72nfvn0YPXo0XF1dUa1atXzfw7Vr1yCXy/Hss8/m2mdrawuNRmOy7ejRo+jWrRvs7OxgaWmJ9u3b49ChQwV+nnL89ddfaNu2LaysrGBjY4MePXrg/PnzuY67dOkS+vfvDxcXF1hYWKBu3br45JNPjJ+jDz/8EABQo0YN4+c0Z3zPk2Nucj4fhw4dQkhICFxcXGBlZYW+ffsag2QOg8GAKVOmwNPTE5aWlnjuuedw4cKFch3HM2/ePPj4+MDCwgLt27fHuXPnch3zzz//GD+P9vb26N27Ny5evGjcf+bMGQiCgC1bthi3nTx5EoIgoGnTpibXCg4ORosWLQqs6eDBg7h79y46depU4vf15ZdfQiaT4bvvviv02M6dO+PgwYO4f/9+iV+PyhdbbkhSKSkpCA4OxvHjx/HHH3/ghRdeyPfYdu3aoVq1alizZg0+//xzAMC6detgbW2dZyAyGAzo1asXDh48iJEjR6J+/fo4e/Ys5s2bhytXrpgMil20aBEaNGiAXr16QaFQYOvWrRg9ejQMBgPGjBljct3w8HC89NJLeOONNzBkyBAsX74cQ4cORVBQEBo0aAAg+xfejBkzMGLECDRv3hxarRYnTpzAqVOnijQAcuzYsbC3t8eUKVNw+fJlLFq0CLdu3cLevXshCEKe56SlpaFDhw4IDw/H2LFjUaNGDfz+++8YOnQoEhISMG7cOLi4uBi7dvr27Yt+/foBABo1apTnNfv16wd7e3u89957eO2119C9e3djl9D58+fRtm1b2NraYvz48VAqlViyZAk6dOiAffv25foFNXr0aLi4uGDSpElISUnJ9737+PhAr9fj559/xpAhQwr8PP3zzz8IDg5GUFAQJk+eDJlMZgyqBw4cQPPmzfM9N+f6Xbt2xcyZM5GamopFixahTZs2+O+//4wh7syZM2jbti2USiVGjhwJX19fXLt2DVu3bsW0adPQr18/XLlyBWvXrsW8efPg7OwMAMYQmZ+3334bDg4OmDx5Mm7evIn58+dj7NixWLdunfGYiRMnYtasWejZsye6du2K06dPo2vXrsUa/5Geno67d+/m2m5ra1toK9iqVauQlJSEMWPGID09Hd988w2ef/55nD17Fm5ubgCA3bt3Izg4GDVr1sSUKVOQlpaG7777Dq1bt8apU6fg6+uLgIAA2NvbY//+/ejVqxcA4MCBA5DJZDh9+jS0Wi1sbW1hMBhw+PBhjBw5ssC6Dh8+DEEQEBgYWOTPw+M+/fRTTJ8+HUuWLMGbb75Z6PFBQUEQRRGHDx8u8GcUVSAikQRWrFghAhB9fHxEpVIpbtq0Kd9jJ0+eLAIQ4+PjxQ8++ECsXbu2cd8zzzwjDhs2TBRFUQQgjhkzxrjv559/FmUymXjgwAGT6y1evFgEIB46dMi4LTU1Ndfrdu3aVaxZs6bJNh8fHxGAuH//fuO2uLg4Ua1Wi++//75xW+PGjcUePXoU9mnIJefzEhQUJGZkZBi3z5o1SwQgbt682bitffv2Yvv27Y3P58+fLwIQf/nlF+O2jIwMsWXLlqK1tbWo1WpFURTF+Ph4EYA4efLkItV048YNEYA4e/Zsk+19+vQRVSqVeO3aNeO2O3fuiDY2NmK7du1yvac2bdqIWVlZhb5eTEyM6OLiIgIQ69WrJ44aNUpcs2aNmJCQYHKcwWAQ69SpI3bt2lU0GAzG7ampqWKNGjXEzp0756rhxo0boiiKYlJSkmhvby+++eabuV7bzs7OZHu7du1EGxsb8datW7leP8fs2bNNrv84Hx8fcciQIblq6dSpk8k13nvvPVEulxvfZ0xMjKhQKMQ+ffqYXG/KlCkiAJNr5gdAvo+1a9cajxsyZIjo4+NjfJ7zNbewsBBv375t3H706FERgPjee+8ZtzVp0kR0dXUV7927Z9x2+vRpUSaTiYMHDzZu69Gjh9i8eXPj8379+on9+vUT5XK5+Ndff4miKIqnTp3K9X2el9dff110cnIq9P0//nnI+dnw/vvvizKZTFy5cmWRz79z544IQJw5c2aRzyFpsVuKJBUbGwuNRgNvb+8iHT9gwACEh4fj+PHjxn/z65L6/fffUb9+fdSrVw937941Pp5//nkAwJ49e4zHWlhYGD9OTEzE3bt30b59e1y/fh2JiYkm1/X390fbtm2Nz11cXFC3bl1cv37duM3e3h7nz5/H1atXi/S+njRy5EgolUrj87feegsKhQLbt2/P95zt27fD3d0dr732mnGbUqnEO++8g+TkZOzbt69EteRFr9fj77//Rp8+fVCzZk3jdg8PDwwYMAAHDx6EVqs1OefNN9+EXC4v9Npubm44ffo0Ro0ahQcPHmDx4sUYMGAAXF1d8cUXX0AURQBAWFgYrl69igEDBuDevXvGr29KSgo6duyI/fv3w2Aw5Pkau3btQkJCAl577TWT7w25XI4WLVoYvzfi4+Oxf/9+DB8+HNWrVze5Rn4taEU1cuRIk2u0bdsWer0et27dAgCEhoYiKysLo0ePNjnv7bffLtbr9O7dG7t27cr1KMpA3D59+sDLy8v4vHnz5mjRooXx+zA6OhphYWEYOnQoHB0djcc1atQInTt3Nvl+bdu2LU6dOmVstTt48CC6d++OJk2a4MCBAwCyW3MEQUCbNm0KrOvevXtwcHAo+icBgCiKGDt2LL755hv88ssvhbYKPi7ntfJqAaOKyay7pfbv34/Zs2fj5MmTiI6OxsaNG9GnT59iXUMURcyZMwdLly7FrVu34OzsjNGjRxv746lgS5YsQUhICLp164YDBw6gbt26BR4fGBiIevXqYc2aNbC3t4e7u7sxrDzp6tWruHjxYr7dA3FxccaPDx06hMmTJ+PIkSNITU01OS4xMRF2dnbG50/+kgOyf/g9Pibm888/R+/eveHn54eAgAB069YNgwYNyrf750l16tQxeW5tbQ0PD48C52m5desW6tSpk+vOnPr16xv3l5b4+Hikpqbm+fWqX78+DAYDIiMjjd10QPZ4lKLy8PDAokWL8P333+Pq1avYuXMnZs6ciUmTJsHDwwMjRowwBseCfkklJibm+Usw59z8vndsbW0BwBhYAwICilx7UT35fZRTZ873Uc7Xq3bt2ibHOTo6FusXe7Vq1Uo8NuXJ70Mge4Dyb7/9ZlJjft8HO3fuNA4eb9u2LbKysnDkyBF4e3sjLi4Obdu2xfnz503Cjb+/v0lQyk9OyC2qVatWITk5GYsWLTL5A6Aocl7raQMtlR+zDjcpKSlo3Lgxhg8fbhx7UFzjxo3D33//ja+//hoNGzbE/fv3OeisGPz9/bF9+3Z07NgRnTt3xqFDhwptxRkwYAAWLVoEGxsbvPLKK/neZmswGNCwYUPMnTs3z/05r3Pt2jV07NgR9erVw9y5c+Ht7Q2VSoXt27dj3rx5uf76z6/14fEftu3atcO1a9ewefNm/P333/jhhx8wb948LF68GCNGjCjw/VVVj7eOFZUgCPDz84Ofnx969OiBOnXqYPXq1RgxYoTx6zJ79mw0adIkz/Pzu2U859yff/4Z7u7uufYrFGX/o7Eo30dVSbNmzaDRaLB//35Ur14drq6u8PPzQ9u2bfH9999Dp9PhwIED6Nu3b6HXcnJyKtIA+8e1bt0aYWFhWLBgAfr371+kAJUj57VyxlNRxWfW4SY4ODjPW45z6HQ6fPLJJ1i7di0SEhIQEBCAmTNnGucGuXjxIhYtWoRz584Z/3Ipzl+nlK158+bYtGkTevTogc6dO+PAgQMFDsYcMGAAJk2ahOjoaPz888/5HlerVi2cPn0aHTt2LPAvrq1bt0Kn02HLli0mf00/3m1VEo6Ojhg2bBiGDRuG5ORktGvXDlOmTClSuLl69apJt0FycjKio6PRvXv3fM/x8fHBmTNnYDAYTAJfzt1lOXc9lcZfny4uLrC0tMTly5dz7bt06RJkMlmRuxqLqmbNmnBwcEB0dDSA7K8vkN3KUtyWiZxzXV1dCzw3p8strzuEHlcWf9HnfL3Cw8NNfq7cu3ev2L/YSyqvbtUrV64YB1vn1Jjf94Gzs7Pxln+VSoXmzZvjwIEDqF69urFrt23bttDpdFi9ejViY2PRrl27QuuqV68eVq9enatVtSC1a9fGrFmz0KFDB3Tr1g2hoaGwsbEp0rk3btwA8KgVlCo+jrkpwNixY3HkyBH8+uuvOHPmDF5++WV069bN+B9+69atqFmzJv7880/UqFEDvr6+GDFiBFtuSqBjx45Yu3YtwsPD0a1bt1zjNR5Xq1YtzJ8/HzNmzCjwbpj+/fsjKioKy5Yty7UvLS3N2Pef8xf0438xJyYmYsWKFSV9O7h3757Jc2tra9SuXTvXLej5Wbp0KTIzM43PFy1ahKysrALDePfu3RETE2Nyt01WVha+++47WFtbo3379gAAS0tLAHiq2XTlcjm6dOmCzZs3m3SVxcbGYs2aNWjTpo2xa6e4jh49mufdVMeOHcO9e/eMf0gEBQWhVq1a+Prrr/OctfjJ26of17VrV9ja2mL69Okmn+cnz3VxcUG7du2wfPlyREREmBzz+PdLzi/w0pyhuGPHjlAoFLmmJFiwYEGpvUZhNm3ahKioKOPzY8eO4ejRo8bvQw8PDzRp0gQ//fSTyXs/d+4c/v7771xhvG3btjh69Cj27NljDDfOzs6oX78+Zs6caTymMC1btoQoijh58mSx3k+jRo2wfft2XLx4ET179kRaWlqRzsu5bb1ly5bFej2Sjlm33BQkIiICK1asQEREBDw9PQEAH3zwAXbs2IEVK1Zg+vTpuH79Om7duoXff/8dq1atgl6vx3vvvYeXXnoJ//zzj8TvoPLp27cvli1bhuHDh6NXr17YsWNHrjlNcowbN67Q6w0aNAi//fYbRo0ahT179qB169bQ6/W4dOkSfvvtN+zcuRPNmjVDly5doFKp0LNnT/zvf/9DcnIyli1bBldXV2MrQXH5+/ujQ4cOCAoKgqOjI06cOIE//vijyDP8ZmRkoGPHjujfvz8uX76M77//Hm3atDHeRpuXkSNHYsmSJRg6dChOnjwJX19f/PHHHzh06BDmz59v/CvVwsIC/v7+WLduHfz8/ODo6IiAgIBijyv58ssvsWvXLrRp0wajR4+GQqHAkiVLoNPpMGvWrGJd63E///wzVq9ejb59+yIoKAgqlQoXL17E8uXLodFojNPty2Qy/PDDDwgODkaDBg0wbNgweHl5ISoqCnv27IGtrS22bt2a52vY2tpi0aJFGDRoEJo2bYpXX30VLi4uiIiIwLZt29C6dWtjiPj222/Rpk0bNG3aFCNHjkSNGjVw8+ZNbNu2DWFhYQCygxYAfPLJJ3j11VehVCrRs2fPfCcqLAo3NzeMGzcOc+bMQa9evdCtWzecPn0af/31F5ydnYvcWnTlyhX88ssveV6/sGkJateujTZt2uCtt96CTqfD/Pnz4eTkZDKR5uzZsxEcHIyWLVvijTfeMN4Kbmdnl2v+pLZt22LatGmIjIw0CTHt2rXDkiVL4OvrW+AcSDnatGkDJycn7N69O99xU/l59tlnsXnzZnTv3h0vvfQSNm3aZDJ4Py+7du1C69at4eTkVKzXIglJdZtWRQNA3Lhxo/H5n3/+KQIQraysTB4KhULs37+/KIqi+Oabb4oAxMuXLxvPO3nypAhAvHTpUnm/hUol53bY48eP59r39ddfiwDEF154QczMzDS5FbwgeOJWcFHMvhV65syZYoMGDUS1Wi06ODiIQUFB4tSpU8XExETjcVu2bBEbNWokajQa0dfXV5w5c6a4fPnyXLf3+vj45HmL95O3ZX/55Zdi8+bNRXt7e9HCwkKsV6+eOG3aNJPbuwv6vOzbt08cOXKk6ODgIFpbW4sDBw40udU2r9cURVGMjY0Vhw0bJjo7O4sqlUps2LChuGLFilyvc/jwYTEoKEhUqVSF3hae363goph9627Xrl1Fa2tr0dLSUnzuuefEw4cP5/me8vpa5+XMmTPihx9+KDZt2lR0dHQUFQqF6OHhIb788sviqVOnch3/33//if369ROdnJxEtVot+vj4iP379xdDQ0Nz1fDkrdp79uwRu3btKtrZ2YkajUasVauWOHToUPHEiRMmx507d07s27evaG9vL2o0GrFu3briZ599ZnLMF198IXp5eYkymczktfK7FfzJz8eePXtEAOKePXuM27KyssTPPvtMdHd3Fy0sLMTnn39evHjxoujk5CSOGjWq0M8lCrgV/PHvnfxuBZ89e7Y4Z84c0dvbW1Sr1WLbtm3F06dP53qd3bt3i61btxYtLCxEW1tbsWfPnuKFCxdyHafVakW5XC7a2NiYTAvwyy+/iADEQYMGFfqecrzzzjsm00IU9nl48mfD5s2bRYVCIb7yyiuiXq/P99yEhARRpVKJP/zwQ5FrI+kx3Dz0ZLj59ddfRblcLl66dEm8evWqySM6OloURVGcNGmSqFAoTK6TmpoqAhD//vvv8iyfqojiBgEyPw8ePBABiF9++aXUpUjq2rVrolKpFHfv3l2mrzNv3jzRw8Mjz7mwqOLimJt8BAYGQq/XIy4uDrVr1zZ55Nxd0bp1a2RlZeHatWvG865cuQLg0UA7IqKSymtMyPz58wEUbdHTqqxmzZp444038NVXX5XZa2RmZmLu3Ln49NNPS3S3H0nHrMfcJCcnIzw83Pj8xo0bCAsLg6OjI/z8/DBw4EAMHjwYc+bMQWBgIOLj4xEaGopGjRqhR48e6NSpE5o2bYrhw4dj/vz5xqn6O3fuXOlX3CUi6a1btw4rV640Lntx8OBBrF27Fl26dEHr1q2lLk9yea3/VpqUSmWugeRUOZh1uDlx4oTJ7bYhISEAsicFW7lyJVasWIEvv/wS77//PqKiouDs7Ixnn33WuLaITCbD1q1b8fbbb6Ndu3awsrJCcHAw5syZI8n7IaKqpVGjRlAoFJg1axa0Wq1xkPGXX34pdWlEFZogilV0xigiIiIySxxzQ0RERFUKww0RERFVKWY35sZgMODOnTuwsbHhImhERESVhCiKSEpKgqenZ75rCuYwu3Bz586dUl/zhoiIiMpHZGRkoTNZm124yZmCPjIyssRr3xAREVH50mq18Pb2LtKCp2YXbnK6omxtbRluiIiIKpmiDCnhgGIiIiKqUhhuiIiIqEphuCEiIqIqheGGiIiIqhSGGyIiIqpSGG6IiIioSmG4ISIioiqF4YaIiIiqFIYbIiIiqlIYboiIiKhKYbgpRWduJ+C1pf/izO0EqUshIiIyWww3pWjDqSgcuX4PG05FSV0KERGR2TK7hTNL2+0HqXiQkglBALacvgMA2Hr6Dl4KqgZRBByslKjmYClxlUREROZD0pab/fv3o2fPnvD09IQgCNi0aVOh5+h0OnzyySfw8fGBWq2Gr68vli9fXvbF5qPNzD3oueAgXvjuIO6nZAAA7qdk4IXvDqLngoNoM3OPZLURERGZI0nDTUpKCho3boyFCxcW+Zz+/fsjNDQUP/74Iy5fvoy1a9eibt26ZVhlwea/0gQKmeny6+LDfxUyAfNfaVLuNREREZkzSbulgoODERwcXOTjd+zYgX379uH69etwdHQEAPj6+pZRdUXTJ9ALtV2t8cJ3B3Pt2zSmNQK87CSoioiIyHxVqgHFW7ZsQbNmzTBr1ix4eXnBz88PH3zwAdLS0vI9R6fTQavVmjyIiIio6qpUA4qvX7+OgwcPQqPRYOPGjbh79y5Gjx6Ne/fuYcWKFXmeM2PGDEydOrVM63KyVsHFWg2VQoaohDTYqBXQKOVwslaV6esSERFRboIoimLhh5U9QRCwceNG9OnTJ99junTpggMHDiAmJgZ2dtndPRs2bMBLL72ElJQUWFhY5DpHp9NBp9MZn2u1Wnh7eyMxMRG2tralVr8uS4/zUYnot+gIHC2VODzxeWiUlSo7EhERVVharRZ2dnZF+v1dqbqlPDw84OXlZQw2AFC/fn2Ioojbt2/neY5arYatra3JoyyoFXL4e9pBLhNwPzUTCalZZfI6REREVLBKFW5at26NO3fuIDk52bjtypUrkMlkqFatmoSVZdMo5ajjag0AOBuVKHE1RERE5knScJOcnIywsDCEhYUBAG7cuIGwsDBEREQAACZOnIjBgwcbjx8wYACcnJwwbNgwXLhwAfv378eHH36I4cOH59klJYWcu6POMdwQERFJQtJwc+LECQQGBiIwMBAAEBISgsDAQEyaNAkAEB0dbQw6AGBtbY1du3YhISEBzZo1w8CBA9GzZ098++23ktSflwDP7G4vhhsiIiJpSDritUOHDihoPPPKlStzbatXrx527dpVhlU9HWPLzR2GGyIiIilUqjE3lYG/py0EAYjV6hCXlC51OURERGaH4aaUWaoUqOWSPaj4fBQnDCQiIipvDDdloCEHFRMREUmG4aYMNHg4qJi3gxMREZU/hpsykDOo+PwddksRERGVN4abMpDTchOVkIb7KRkSV0NERGReGG7KgI1GiRrOVgA47oaIiKi8MdyUEc53Q0REJA2GmzLCmYqJiIikwXBTRh6tMcVBxUREROWJ4aaMBHhmh5uI+6lITM2UuBoiIiLzwXBTRuwslfB2zF6p/DzH3RAREZUbhpsy1JCDiomIiModw00ZavCwa+osx90QERGVG4abMmScqZh3TBEREZUbhpsylHM7+PW7KUhK56BiIiKi8sBwU4acrNXwtNMAAC5wnSkiIqJywXBTxh7NVMxwQ0REVB4YbsrYo8n8OO6GiIioPDDclLEALy7DQEREVJ4YbspYTsvNtfhkpGZkSVwNERFR1cdwU8ZcbTRwtVHDIAIXoznuhoiIqKwx3JSDhlxEk4iIqNww3JSDBl45MxVz3A0REVFZY7gpBzmT+XFQMRERUdljuCkHDatlt9xcjUtGeqZe4mqIiIiqNoabcuBuq4GTlQp6g4hLMUlSl0NERFSlMdyUA0EQOJkfERFROWG4KSeczI+IiKh8MNyUkwDPnDWmGG6IiIjKEsNNOcnplrockwRdFgcVExERlRWGm3JSzcECdhZKZOpFXI1NlrocIiKiKovhppwIgvDYTMXsmiIiIiorDDflqMHDQcWcqZiIiKjsSBpu9u/fj549e8LT0xOCIGDTpk1FPvfQoUNQKBRo0qRJmdVX2h4NKuYaU0RERGVF0nCTkpKCxo0bY+HChcU6LyEhAYMHD0bHjh3LqLKykdMtdTFai0y9QeJqiIiIqiaFlC8eHByM4ODgYp83atQoDBgwAHK5vFitPVKr7mgJG7UCSboshMclo76HrdQlERERVTmVbszNihUrcP36dUyePLlIx+t0Omi1WpOHVGQywTjuhoOKiYiIykalCjdXr17FhAkT8Msvv0ChKFqj04wZM2BnZ2d8eHt7l3GVBTOOu2G4ISIiKhOVJtzo9XoMGDAAU6dOhZ+fX5HPmzhxIhITE42PyMjIMqyycMY1pjiomIiIqExIOuamOJKSknDixAn8999/GDt2LADAYDBAFEUoFAr8/fffeP7553Odp1aroVary7vcfOWEmwt3tNAbRMhlgsQVERERVS2VJtzY2tri7NmzJtu+//57/PPPP/jjjz9Qo0YNiSornhrOVrBUyZGaocf1+GTUcbORuiQiIqIqRdJwk5ycjPDwcOPzGzduICwsDI6OjqhevTomTpyIqKgorFq1CjKZDAEBASbnu7q6QqPR5NpekcllAhp42uL4zQc4dyeR4YaIiKiUSTrm5sSJEwgMDERgYCAAICQkBIGBgZg0aRIAIDo6GhEREVKWWCYaPBxUfPY2x90QERGVNkEURVHqIsqTVquFnZ0dEhMTYWsrzTwz60/exvu/n0bzGo747X8tJamBiIioMinO7+9Kc7dUVfL4oGKDwayyJRERUZljuJFALRcraJQyJOuycPNeitTlEBERVSkMNxJQyGXGpRe4QjgREVHpYriRSM5Mxec5mR8REVGpYriRSM4K4VyGgYiIqHQx3Ejk8QU0zeyGNSIiojLFcCOROq42UMll0KZnIfJ+mtTlEBERVRkMNxJRKWSo55E9OzEHFRMREZUehhsJ5cxUfO4Oww0REVFpYbiREAcVExERlT6GGwkFcFAxERFRqWO4kZCfmw0UMgEPUjNxJzFd6nKIiIiqBIYbCWmUcvi5PRxUfJtdU0RERKWB4UZiOV1T5zmomIiIqFQw3EiMg4qJiIhKF8ONxBo8DDdno7QcVExERFQKGG4kVt/dFjIBuJusQ1ySTupyiIiIKj2GG4lZqOSo48pBxURERKWF4aYCMC6iyUHFRERET43hpgJ4NKhYK3ElRERElR/DTQUQwDumiIiISg3DTQXg72ELQQBitOmI56BiIiKip8JwUwFYqRWo6WwFgONuiIiInhbDTQWR0zV1nl1TRERET4XhpoLgoGIiIqLSwXBTQTTwzJmpmC03RERET4PhpoLImesmKiEND1IyJK6GiIio8mK4qSBsNUr4OlkC4KBiIiKip8FwU4E04LgbIiKip8ZwU4EYBxWz5YaIiKjEGG4qkABPzlRMRET0tBhuKpAGntmDim/dS0ViWqbE1RAREVVODDcViIOVCtUcLAAA59k1RUREVCIMNxVMTtfUeQ4qJiIiKhFJw83+/fvRs2dPeHp6QhAEbNq0qcDjN2zYgM6dO8PFxQW2trZo2bIldu7cWT7FlpOG1TiomIiI6GlIGm5SUlLQuHFjLFy4sEjH79+/H507d8b27dtx8uRJPPfcc+jZsyf++++/Mq60/OSMu+FMxURERCWjkPLFg4ODERwcXOTj58+fb/J8+vTp2Lx5M7Zu3YrAwMBSrk4aOQto3ribgmRdFqzVkn6JiIiIKp1KPebGYDAgKSkJjo6O+R6j0+mg1WpNHhWZs7UaHnYaiCJw4U7FrpWIiKgiqtTh5uuvv0ZycjL69++f7zEzZsyAnZ2d8eHt7V2OFZZMA853Q0REVGKVNtysWbMGU6dOxW+//QZXV9d8j5s4cSISExONj8jIyHKssmQ4UzEREVHJVcoBHb/++itGjBiB33//HZ06dSrwWLVaDbVaXU6VlY6AhyuEs+WGiIio+Cpdy83atWsxbNgwrF27Fj169JC6nDKRM6g4PC4ZaRl6iashIiKqXCQNN8nJyQgLC0NYWBgA4MaNGwgLC0NERASA7C6lwYMHG49fs2YNBg8ejDlz5qBFixaIiYlBTEwMEhOrVguHm60GLjZqGETgQjQHFRMRERWHpOHmxIkTCAwMNN7GHRISgsDAQEyaNAkAEB0dbQw6ALB06VJkZWVhzJgx8PDwMD7GjRsnSf1lKeDhfDdchoGIiKh4JB1z06FDB4iimO/+lStXmjzfu3dv2RZUgTT0ssOey/Ecd0NERFRMlW7Mjblo8HDczVmuMUVERFQsDDcVVM6g4quxSUjP5KBiIiKiomK4qaA87TRwtFIhyyDickyS1OUQERFVGgw3FZQgCMZFNDmZHxERUdEx3FRgxpmKOaiYiIioyBhuKrAAY7jhoGIiIqKiYripwAIeLqB5OSYJGVkGiashIiKqHBhuKjBvRwvYahTI0BtwJZaDiomIiIqC4aYCEwTB2DXFmYqJiIiKhuGmgmtonMyP4YaIiKgoGG4quAYcVExERFQsDDcVXM4CmhejtcjSc1AxERFRYRhuKjhfJytYqxXQZRkQHp8sdTlEREQVHsNNBSeTCfDPmamYXVNERESFYripBDhTMRERUdEx3FQCAV45LTcMN0RERIVhuKkEcmYqvhCthd4gSlwNERFRxcZwUwnUdLGGhVKO1Aw9btzloGIiIqKCMNxUAnIOKiYiIioyhptKgjMVExERFQ3DTSXRwJODiomIiIqC4aaSyFlA88IdLQwcVExERJQvhptKoo6rNdQKGZJ0Wbh1P1XqcoiIiCoshptKQiGXoZ4Hu6aIiIgKw3BTiTTkZH5ERESFYripRHIm8zt3h+GGiIgoPww3lUiAcY0pLUSRg4qJiIjywnBTifi52UApF5CYlonbD9KkLoeIiKhCYripRFQKGeq62wDguBsiIqL8MNxUMpypmIiIqGAMN5VMA+OgYq4xRURElBeGm0omZ1Dx+ahEDiomIiLKA8NNJVPP3QZymYB7KRmITkyXuhwiIqIKR9Jws3//fvTs2ROenp4QBAGbNm0q9Jy9e/eiadOmUKvVqF27NlauXFnmdVYkGqUcdVytAXBQMRERUV4kDTcpKSlo3LgxFi5cWKTjb9y4gR49euC5555DWFgY3n33XYwYMQI7d+4s40orlobG+W4YboiIiJ6kkPLFg4ODERwcXOTjFy9ejBo1amDOnDkAgPr16+PgwYOYN28eunbtWlZlVjgBXnb4/eRtDiomIiLKQ6Uac3PkyBF06tTJZFvXrl1x5MgRiSqSRgDXmCIiIsqXpC03xRUTEwM3NzeTbW5ubtBqtUhLS4OFhUWuc3Q6HXQ6nfG5Vlv5Wzvqe9hCJgBxSTrEadPhaquRuiQiIqIKo1K13JTEjBkzYGdnZ3x4e3tLXdJTs1QpUMvl4aBiLqJJRERkolKFG3d3d8TGxppsi42Nha2tbZ6tNgAwceJEJCYmGh+RkZHlUWqZM85UfLvyt0QRERGVpkoVblq2bInQ0FCTbbt27ULLli3zPUetVsPW1tbkURU0yLljii03REREJiQNN8nJyQgLC0NYWBiA7Fu9w8LCEBERASC71WXw4MHG40eNGoXr169j/PjxuHTpEr7//nv89ttveO+996QoX1INH5upmIiIiB6RNNycOHECgYGBCAwMBACEhIQgMDAQkyZNAgBER0cbgw4A1KhRA9u2bcOuXbvQuHFjzJkzBz/88INZ3Qaew98zuwXqTmI67iXrCjmaiIjIfAhiCRYo+umnn+Ds7IwePXoAAMaPH4+lS5fC398fa9euhY+PT6kXWlq0Wi3s7OyQmJhY6buonv96L67fTcFPw5ujvZ+L1OUQERGVmeL8/i5Ry8306dONA3iPHDmChQsXYtasWXB2djbLLiKpBHCmYiIiolxKNM9NZGQkateuDQDYtGkTXnzxRYwcORKtW7dGhw4dSrM+KkCAly22nL7DcENERPSYErXcWFtb4969ewCAv//+G507dwYAaDQapKWllV51VKAA3jFFRESUS4labjp37owRI0YgMDAQV65cQffu3QEA58+fh6+vb2nWRwVo4JkdbiLvpyEhNQP2liqJKyIiIpJeiVpuFi5ciJYtWyI+Ph7r16+Hk5MTAODkyZN47bXXSrVAyp+dhRLVHS0BAOe5iCYRERGAErbc2NvbY8GCBbm2T5069akLouJp6GWHiPupOBuViNa1naUuh4iISHJPtXBmamoqIiIikJGRYbK9UaNGT1UUFV0DL1tsOxvNQcVEREQPlSjcxMfHY+jQodixY0ee+/V6/VMVRUXXkLeDExERmSjRmJt3330XiYmJOHr0KCwsLLBjxw789NNPqFOnDrZs2VLaNVIBcgYV37yXCm16psTVEBERSa9ELTf//PMPNm/ejGbNmkEmk8HHxwedO3eGra0tZsyYYZy5mMqeo5UKXvYWiEpIw4U7Wjxb00nqkoiIiCRVopablJQUuLq6AgAcHBwQHx8PAGjYsCFOnTpVetVRkQR4ZU9Dza4pIiKiEoabunXr4vLlywCAxo0bY8mSJYiKisLixYvh4eFRqgVS4QI8Oe6GiIgoR4m6pcaNG4fo6GgAwOTJk9GtWzesXr0aKpUKK1euLM36qAgCqmWHm7MMN0RERCULN6+//rrx46CgINy6dQuXLl1C9erV4ezMuVbKW07LzfW7KUjRZcFK/VR3+BMREVVqJeqWepKlpSWaNm3KYCMRFxs13GzVEEXgYjRnKiYiIvNW5D/xQ0JC8MUXX8DKygohISEFHjt37tynLoyKp6GXHWK1cTgblYhmvo5Sl0NERCSZIoeb//77D5mZmcaPqWJp4GmH3RfjcC6KLTdERGTeihxu9uzZk+fHVDFwpmIiIqJsJRpzM3z4cCQlJeXanpKSguHDhz91UVR8AQ/DzdW4JKRlcPkLIiIyXyUKNz/99BPS0tJybU9LS8OqVaueuigqPjdbNZytVTCIwKUYdk0REZH5Kla40Wq1SExMhCiKSEpKglarNT4ePHiA7du3G2cupvIlCIKx9YZdU0REZM6KNSGKvb09BEGAIAjw8/PLtV8QBEydOrXUiqPiCfC0w97L8RxUTEREZq1Y4WbPnj0QRRHPP/881q9fD0fHR7ccq1Qq+Pj4wNPTs9SLpKLJabnhTMVERGTOihVu2rdvj6ysLAwZMgTNmjWDt7d3WdVFJZCzgOaV2CTosvRQK+QSV0RERFT+ij2gWKFQ4I8//oBezztyKhovewvYWyqRZRBxJSZZ6nKIiIgkUaK7pZ5//nns27evtGuhpyQIgnG+G3ZNERGRuSrRCovBwcGYMGECzp49i6CgIFhZWZns79WrV6kUR8XXwNMOB67exbk7DDdERGSeShRuRo8eDSDvNaQEQWCXlYQ4UzEREZm7EoUbg8FQ2nVQKckZVHwpOgmZegOU8lJZ+J2IiKjSeOrffOnp6aVRB5WS6o6WsNEokKE34GosBxUTEZH5KVG40ev1+OKLL+Dl5QVra2tcv34dAPDZZ5/hxx9/LNUCqXgEQUCAJ7umiIjIfJUo3EybNg0rV67ErFmzoFKpjNsDAgLwww8/lFpxVDI5XVMcVExEROaoROFm1apVWLp0KQYOHAi5/NFEcY0bN8alS5dKrTgqGc5UTERE5qxE4SYqKgq1a9fOtd1gMCAzM/Opi6KnkxNuLkZrkaXn4G8iIjIvJQo3/v7+OHDgQK7tf/zxBwIDA4t9vYULF8LX1xcajQYtWrTAsWPHCjx+/vz5qFu3LiwsLODt7Y333nuPA5sfU8PJClYqOdIzDbh+N0XqcoiIiMpViW4FnzRpEoYMGYKoqCgYDAZs2LABly9fxqpVq/Dnn38W61rr1q1DSEgIFi9ejBYtWmD+/Pno2rUrLl++DFdX11zHr1mzBhMmTMDy5cvRqlUrXLlyBUOHDoUgCHnOu2OOZDIBDTztcOzmfZy9nQg/NxupSyIiIio3JWq56d27N7Zu3Yrdu3fDysoKkyZNwsWLF7F161Z07ty5WNeaO3cu3nzzTQwbNgz+/v5YvHgxLC0tsXz58jyPP3z4MFq3bo0BAwbA19cXXbp0wWuvvVZoa4+5acBBxUREZKZKPM9N27ZtsWvXLsTFxSE1NRUHDx5Ely5dinWNjIwMnDx5Ep06dXpUkEyGTp064ciRI3me06pVK5w8edIYZq5fv47t27eje/fuJX0rVRJnKiYiInNVom6pmjVr4vjx43BycjLZnpCQgKZNmxrnvSnM3bt3odfr4ebmZrLdzc0t37uuBgwYgLt376JNmzYQRRFZWVkYNWoUPv744zyP1+l00Ol0xudarbZItVV2OYOKz9/RwmAQIZMJEldERERUPkrUcnPz5s0814/S6XSIiop66qIKsnfvXkyfPh3ff/89Tp06hQ0bNmDbtm344osv8jx+xowZsLOzMz68vb3LtL6KoqazFTRKGVIz9Lhxj4OKiYjIfBSr5WbLli3Gj3fu3Ak7Ozvjc71ej9DQUPj6+hb5es7OzpDL5YiNjTXZHhsbC3d39zzP+eyzzzBo0CCMGDECANCwYUOkpKRg5MiR+OSTTyCTmea1iRMnIiQkxPhcq9WaRcBRyGXw97DFqYgEnItKRC0Xa6lLIiIiKhfFCjd9+vQBkD3F/5AhQ0z2KZVK+Pr6Ys6cOUW+nkqlQlBQEEJDQ43XNhgMCA0NxdixY/M8JzU1NVeAyZlIUBTFXMer1Wqo1eoi11SVBHjZGcNN7yZeUpdDRERULooVbnJWA69RowaOHz8OZ2fnpy4gJCQEQ4YMQbNmzdC8eXPMnz8fKSkpGDZsGABg8ODB8PLywowZMwAAPXv2xNy5cxEYGIgWLVogPDwcn332GXr27GkyWzJxpmIiIjJPJRpQfOPGjVIr4JVXXkF8fDwmTZqEmJgYNGnSBDt27DAOMo6IiDBpqfn0008hCAI+/fRTREVFwcXFBT179sS0adNKraaqImcBzfNRHFRMRETmQxDz6sspgtDQUISGhiIuLs7YopMjvzlqKgKtVgs7OzskJibC1tZW6nLKVKbegAaTdyIjy4B9H3aAj5OV1CURERGVSHF+f5fobqmpU6eiS5cuCA0Nxd27d/HgwQOTB1UMSrkM9d2zZydm1xQREZmLEnVLLV68GCtXrsSgQYNKux4qZQ287HD6diLORWnxQiNPqcshIiIqcyVqucnIyECrVq1KuxYqA5ypmIiIzE2Jws2IESOwZs2a0q6FykDOoOJzdxLzvFWeiIioqilRt1R6ejqWLl2K3bt3o1GjRlAqlSb7uTp3xeHnbg2lXEBCaiaiEtJQzcFS6pKIiIjKVInCzZkzZ9CkSRMAwLlz50qzHiplaoUcfm42OH9Hi3NRiQw3RERU5ZUo3OzZs6e066AyFOBp9zDcaNEtwEPqcoiIiMpUscJNv379Cj1GEASsX7++xAVR6QuoZod1JyJ5OzgREZmFYoWbxxfKpMojwDN7sqNzUdmDigWBMxUTEVHVVaxws2LFirKqg8pQfQ9byGUC7qVkIEabDg87C6lLIiIiKjMluhWcKheNUo46rtYAgHNRWomrISIiKlsMN2aigScn8yMiIvPAcGMmGno9GndDRERUlTHcmIkAr0czFRMREVVlDDdmor6HLQQBiNXqEJeULnU5REREZYbhxkxYqRWo5ZI9qPg8BxUTEVEVxnBjRh6f74aIiKiqYrgxIznjbjhTMRERVWUMN2YkJ9ycv8NuKSIiqroYbsyI/8NuqaiENNxPyZC4GiIiorLBcGNGbDVK1HC2AsBxN0REVHUx3JiZBjmDijnfDRERVVEMN2amoReXYSAioqqN4cbMGGcq5lw3RERURTHcmJmcbqmI+6lITM2UuBoiIqLSx3BjZuwtVfB2tAAAnOe4GyIiqoIYbsxQgCcX0SQioqqL4cYMPZqpmONuiIio6mG4MUPGmYp5xxTlwdfXF/Pnz5e6DCKiEmO4MUM5C2hev5uCpHQOKq4shg4dij59+pT4/A4dOuDdd98ttXpKy+XLl/Hcc8/Bzc0NGo0GNWvWxKefforMTH5vElHJKKQugMqfk7UannYa3ElMx4U7WrSo6SR1SWTGlEolBg8ejKZNm8Le3h6nT5/Gm2++CYPBgOnTp0tdHhFVQmy5MVMNcua74SKaVca5c+cQHBwMa2truLm5YdCgQbh79y6A7Fafffv24ZtvvoEgCBAEATdv3izSdX/44QfY29sjNDS0TOquWbMmhg0bhsaNG8PHxwe9evXCwIEDceDAgTJ5PSKq+hhuzBRnKq5aEhIS8PzzzyMwMBAnTpzAjh07EBsbi/79+wMAvvnmG7Rs2RJvvvkmoqOjER0dDW9v70KvO2vWLEyYMAF///03OnbsmOcxERERsLa2LvBRnBaY8PBw7NixA+3bty/yOUREj2O3lJkK8Hq4xhTDTZWwYMECBAYGmoSI5cuXw9vbG1euXIGfnx9UKhUsLS3h7u5epGt+9NFH+Pnnn7Fv3z40aNAg3+M8PT0RFhZW4LUcHR0Lfb1WrVrh1KlT0Ol0GDlyJD7//PMi1UlE9KQK0XKzcOFC+Pr6QqPRoEWLFjh27FiBxyckJGDMmDHw8PCAWq2Gn58ftm/fXk7VVg05c91ci09GakaWxNXQ0zp9+jT27Nlj0lpSr149AMC1a9eKfb05c+Zg2bJlOHjwYIHBBgAUCgVq165d4KMo4WbdunU4deoU1qxZg23btuHrr78udt1EREAFCDfr1q1DSEgIJk+ejFOnTqFx48bo2rUr4uLi8jw+IyMDnTt3xs2bN/HHH3/g8uXLWLZsGby8vMq58srN1VYDVxs1DCJwMZrjbiq75ORk9OzZE2FhYSaPq1evol27dsW+Xtu2baHX6/Hbb78VemxpdUt5e3vD398fr732Gr766itMmTIFer2+2LUTEUneLTV37ly8+eabGDZsGABg8eLF2LZtG5YvX44JEybkOn758uW4f/8+Dh8+DKVSCSB7Xg4qvgAvO/xzKQ7norQI8in8L2uquJo2bYr169fD19cXCkXe/61VKlWRw0Lz5s0xduxYdOvWDQqFAh988EG+x5ZWt9TjDAYDMjMzYTAYIJfLi3UuEZGk4SYjIwMnT57ExIkTjdtkMhk6deqEI0eO5HnOli1b0LJlS4wZMwabN2+Gi4sLBgwYgI8++ijPH4I6nQ46nc74XKtlK0WOnHBzluNuKo3ExMRcQcLJyQljxozBsmXL8Nprr2H8+PFwdHREeHg4fv31V/zwww+Qy+Xw9fXF0aNHcfPmTVhbW8PR0REyWf6Nt61atcL27dsRHBwMhUKR7xw5Od1SJbV69WoolUo0bNgQarUaJ06cwMSJE/HKK68Y/4AhIioOScPN3bt3odfr4ebmZrLdzc0Nly5dyvOc69ev459//sHAgQOxfft2hIeHY/To0cjMzMTkyZNzHT9jxgxMnTq1TOqv7HIm8+Og4spj7969CAwMNNn2xhtv4IcffsChQ4fw0UcfoUuXLtDpdPDx8UG3bt2MAeaDDz7AkCFD4O/vj7S0NNy4caPQVs82bdpg27Zt6N69O+RyOd5+++1Sf08KhQIzZ87ElStXIIoifHx8MHbsWLz33nul/lpEZB4EURRFqV78zp078PLywuHDh9GyZUvj9vHjx2Pfvn04evRornP8/PyQnp6OGzduGFtq5s6di9mzZyM6OjrX8Xm13Hh7eyMxMRG2trZl8K4qj+jENLSc8Q/kMgHnp3aFRsnmfyIiqpi0Wi3s7OyK9Ptb0pYbZ2dnyOVyxMbGmmyPjY3N93ZVDw8PKJVKky6o+vXrIyYmBhkZGVCpVCbHq9VqqNXq0i++CnC31cDJSoV7KRm4FJOEJt72UpdERET01CS9W0qlUiEoKMhk5lODwYDQ0FCTlpzHtW7dGuHh4TAYDMZtV65cgYeHR65gQwUTBOHRTMXsmqowbt26hfv370tdBhFRpSX5reAhISFYtmwZfvrpJ1y8eBFvvfUWUlJSjHdPDR482GTA8VtvvYX79+9j3LhxuHLlCrZt24bp06djzJgxUr2FSq0hJ/OrUMLDw9GwUSP4NwjA4cOHpS6HiKhSkvxW8FdeeQXx8fGYNGkSYmJi0KRJE+zYscM4yDgiIsLkjg5vb2/s3LkT7733Hho1agQvLy+MGzcOH330kVRvoVLLmczv3B2GG6mlpqaid5++yFDaIEtph/btO2D+/HkYPXo0BEGQujwiokpD0gHFUijOgCRzEHk/FW1n7YFSLuDc1K5QKzioWAqiKGLg66/jtz82wPX1r6F09MKDPcuRdHIrBr7+OpYuWQJLS0upyyQikkxxfn9L3i1F0qrmYAE7CyUy9SKuxiZLXY7ZWrBgAdauWQOHrm9D5eILQa6EY6f/wemF9/Hrut/RrXsPqUskIqo0GG7MnCAIXERTYgcPHsR7ISGwadYbVv6mK2GrnH0AAH61a0lRGhFRpcRwQwh4eMcUZyouf9HR0ej34ktQe9aDQ4dhJvv0aUm4v3kGGvjXx3fffSdRhURElQ/DDT02qJhLU5SnzMxMvPjSy0hMz4Jjz48gyB+N7xdFA+5vmwO1IQ2bNm6AhYWFhJUSEVUukt8tRdJr+LDl5mK0Fpl6A5RyZt7y8P777+Pfo//C9dWvILd2MNmXeHAt0q6fxF9//YUaNWpIVCERUeXE32KE6o6WsFErkJFlQHgcBxWXhzVr1uC7776D/XMjoKlW32RfavgxJB5ei88//xxdu3aVqEIiosqL4YYgkwnw5yKa5ebs2bN4Y8SbsGrwHGyavmCyL/PBHTzYPhc9XngBH3/8sUQVEhFVbgw3BOBR1xTDTdlKSEhAz959INi5w7HrGJPJ+QyZ6bi/+StU83DDLz//bDJ5JRERFR3H3BCAR3dMcVBx2TEYDBg48HXciYmDy6B5kCk1xn2iKOL+zgWANgZbdx+Fvb29dIUSEVVy/NOQADwKNxfuaKE3mNWk1eVm2rRp2P7Xdjj0eB9KBw+TfUmn/kTK+b1YsfxHBAQESFQhEVHVwHBDAIAazlawVMmRlqnH9XgOKi5tf/31FyZPngy7Vq/BotYzJvvSb59H4p4fMG7cOLz66qsSVUhEVHUw3BAAQC4T4O+RPaiYk/mVruvXr+PV1wbAolYz2LU2DS9ZyffxYMtMPPtsS8yePVuiComIqhaGGzIyjruJ4rib0pKWloY+fftBJ7eAY4/3IQiP/suJ+izc3zIT9pYqrP/jdyiVSgkrJSKqOjigmIweDSpmy01pEEUR/xs1ChcuXYLrwNmQa6xN9j/YsxwZ0Zexcd8+uLu7S1QlEVHVw5YbMmr42KBiAwcVP7XFixfj51WrYN9lLFSuNU32pVzYh6STWzB/3jy0atVKogqJiKomhhsyquViBbVChmRdFm7eS5G6nErtyJEjeOedcbBp+gKsGzxnsi8j/iYe7PwOAwYOxJgxYySqkIio6mK4ISOFXIb6DwcV/+/nkzhzO0Hagiqp2NhY9O33IpTudeDw/Bsm+wzpybi/aTrq1fXDsqVLTSbxIyKi0sFwQyZyuqauxiVjw6koiaupfLKysvDSy/3xIEUHx14fQZA/GiScvdL3XKiyUrB54wZYWlpKWCkRUdXFAcUEALj9IBUPUjLhYPnol/HW03fwUlA1iCLgYKVENQf+Mi7M+PHjcfjwIbi8Mg0KGyeTfYmH1yH12nH8+eefqFWrlkQVEhFVfQw3BABoM3NPrm33UjLwwncHjc9vftWjPEuqdNatW4d58+bBoeOb0HibzjKcdu0EEg+tweRJk9C9e3eJKiQiMg/sliIAwPxXmkAhy3v8h0ImYP4rTcq3oErm/PnzGDZ8OKz828MmqJfJvsyEGDzYPgfBwcGYNGmSRBUSEZkPhhsCAPQJ9MKmMa3z3PdJj3roE+hVzhVVHomJiejVpy9Ea1c4dn37iZW+dXiw5St4uDpj9S+/cKVvIqJywG4pykUQAPGxaW6mbr2I+KQMhHT2g0LOX86PMxgMGDxkCCJu34HroLmQqUxX+n7w9/cwPIjCln+PwMHBQcJKiYjMB39TkZGTtQou1mo09LLDtL4BaOhlB40y+1vk+73X8PqPRxGXlC5xlRXLzJkzsWXzZjj0CIHS0bR1KznsLySfC8UPy5aicePGElVIRGR+BFEUzWoqWq1WCzs7OyQmJsLW1lbqciocXZYeKrkMgiBAFEVk6A34+3wsJqw/g5QMPVxs1FjwWiBa1HQq/GJV3K5du9C1WzfYtngZ9u0GmezTRV1E3NqJeGvU/7BgwQKJKiQiqjqK8/ub4YaKJDwuGaNXn8SV2GTIZQI+7FoX/2tX02wnobt16xaaBDZFhkMNOL84CYJMbtynT3mAuFXvIdC/Dvbv2wuVSiVhpUREVUNxfn+zW4qKpLarNTaNaY1+gV7QG0R89dclvLnqJBJTM6Uurdylp6ejT99+SIMKji98YBJsRIMe97fOgp1Gjg3r/2CwISKSAMMNFZmlSoE5/Rtjet+GUMll2H0xFi8sOIBzUeazirgoihg9ejTOnjsPx94TIbewMdn/YO8K6KIuYv0fv8PT01OiKomIzBvDDRWLIAgY0KI61r/VCt6OFoi8n4Z+iw5jzdEImEMP57Jly7BixQrYdx4NlZvpLMMpF/cj6fgmzPn6a7Rt21aiComIiOGGSqRhNTv8ObYtOtV3Q0aWAR9vPIv3fzuN1IwsqUsrM8eOHcPYsW/DukkwrBt2NNmXEX8LCTu/w6uvvYZ33nlHogqJiAjggGKpy6n0RFHEkv3XMXvnZegNIvzcrPH9wCDUdrWWurRSFR8fj0ZNApEo2MDl1RkQFI/W4DLoUhD/y/uo4WaP40f/hZWVlYSVEhFVTRxQTOVGEASMal8La0a0gIuNGldik9F7wUFsPX1H6tJKTVZWFl7u/wrua1Ph2GuCSbARRQPub58PhU6LLZs2MtgQEVUADDdUKlrUdMK2d9rg2ZqOSMnQ4+21/2HKlvPIyDJIXdpT+/jjj7F//3449PwQCltnk33af/9AypUjWLP6F9SuXVuiComI6HEMN1RqXG00+OWNFhjzXPZA25WHb6L/kiOISkiTuLKSW79+PWbPng379kOgqd7IZF/ajf+QeOAXfPLJJ+jZs6dEFRIR0ZMqRLhZuHAhfH19odFo0KJFCxw7dqxI5/36668QBAF9+vQp2wKpyBRyGT7sWg/LhzaDnYUSYZEJ6PHtAey9HCd1aXlKT0+HwZB369LFixcxeMgQWNVvC5tn+prsy0qMw4NtX6NT506YOnVqeZRKRERFJHm4WbduHUJCQjB58mScOnUKjRs3RteuXREXV/Avw5s3b+KDDz7gLbcV1PP13PDn223QqJodElIzMWzlccz5O3vQcUXSqUtXNGzUGOHh4Sbbk5KS0LtPXxgsneHY7R2TmZjFrAzc3zwD7k72+HXtWsjl8icvS0REEpI83MydOxdvvvkmhg0bBn9/fyxevBiWlpZYvnx5vufo9XoMHDgQU6dORc2aNcuxWioOb0dL/D6qJQY96wNRBL77JxyDlx/F3WSd1KUByG61+ffIYVy8fBmBQUH4888/AWTfATZk6FDciIiEY++JkKksjOeIooj7uxZBfz8SmzdthKOjo1TlExFRPiQNNxkZGTh58iQ6depk3CaTydCpUyccOXIk3/M+//xzuLq64o033ij0NXQ6HbRarcmDyo9aIccXfQLwzatNYKGU41D4PfT49gCO37wvdWk4ffo09FlZcHlpCkS3+ujZsyc+++wzzJw5Exs3bIBD8LtQOlUzOSf59E4kn9mFpUsWIzAwUKLKiYioIAopX/zu3bvQ6/Vwc3Mz2e7m5oZLly7lec7Bgwfx448/IiwsrEivMWPGDI6JqAB6N/GCv4ct3lp9CuFxyXh16b+Y0K0eRrStIdnimydOnIBMoYTGyx+a6g2hPPI7vpw2DRBF2D77Eiz9Wpkcr7tzGQmhSzBq1CgMGTJEkpqJiKhwkndLFUdSUhIGDRqEZcuWwdnZufATAEycOBGJiYnGR2RkZBlXSfmp42aDzWNao1djT+gNIqZtv4hRv5xEYpo0i28eP34cGtcaEBRKCIIMdq1egevLn8P22Zdh33aQybH6lATc3/IVgpo2xTfffCNJvUREVDSSttw4OztDLpcjNjbWZHtsbCzc3d1zHX/t2jXcvHnT5LbbnDtdFAoFLl++jFq1TNf7UavVUKvVZVA9lYSVWoFvXm2CZ2o44outF7DzfCwuxRzE9wObooGnXbnWcuToMchcTb9fLGoEwqKGaXdTzkrfNkpg44b1XOmbiKiCk7TlRqVSISgoCKGhocZtBoMBoaGhaNmyZa7j69Wrh7NnzyIsLMz46NWrF5577jmEhYXB29u7PMunEhIEAYOe9cHvo1rCy94Ct+6lou/3h7HuePktvpmcnIzwK5eh9qhT6LEJ+1ch/fZ5rP/jd3h5eZVDdURE9DQkbbkBgJCQEAwZMgTNmjVD8+bNMX/+fKSkpGDYsGEAgMGDB8PLywszZsyARqNBQECAyfn29vYAkGs7VXyNve2x7Z02CPntNP65FIeP1p/F8ZsP8EXvAFioyvb26v/++w8GgwEq94LDjWjQIyVsB3x8fDkDMRFRJSH5mJtXXnkFX3/9NSZNmoQmTZogLCwMO3bsMA4yjoiIQHR0tMRVUlmxt1Thh8HN8GHXupAJwB8nb6Pv94dwPT65TF/3xIkTkKvUUDpXL/A4QSaHS//PEXUvEU0Cm2Lfvn1lWhcRET09rgpOFcbha3fxztow3E3WwVqtwKyXGqF7Q48yea0BAwZg84EwuAycXaTj9SkJuL91FtJvn8fXs2fj3XfflewuLyIic8RVwalSalXLGdvfaYPmNRyRrMvC6NWn8PnWC2Wy+OaRo8chdyt6N5Pcyh7O/b+A2rcpQkJCMG3atFKviYiISgfDDVUorrYarBnRAv9rnz3z9PJDN/Dq0iO4U4qLbyYkJODm9XCoPPyKdLwoiki7fhJ3f/sUadeOo7ZfXbRr167U6iEiotLFcEMVjkIuw8Tg+lg2uBlsNAqcikjAC98dxP4r8aVy/ZMnTwIA1O4Ft9yIBj1SLh1E/M/vIe73yajrpML69etx+eIFhhsiogqM4YYqrM7+btj2dlsEeNnifkoGhqw4hnm7rjz14psnTpyAQmMJhWPet3WL+kwkn/kbcSvG4O7mr9C8rjd27dqFkyeOo1+/fpDJ+N+GiKgi409pqtCqO1nij1Gt8Frz6hBF4JvQqxi64hjuPcXim8ePn4DKrTYEwfTb35CRDu3xzYhdNhL3/voWXVoH4ejRo9i75x906tSJA4iJiCoJhhuq8DRKOWb0a4i5/RtDo5ThwNW76PHtQZy8VbLFN/89egyKxwYT69OSkHBoLWKWvgHt/hXo3ysY58+fx+ZNm9C8efPSehtERFROGG6o0ujXtBo2j2mDmi5WiNGm45Ul/+LHgzeKNatxfHw8om5HQOVeG1lJ9/Dgnx8Rs+QNpB1fj5FDX8e18HCsWvUT/P39y/CdEBFRWWK4oUqlrrsNtoxtgx6NPJBlEPHFnxcwevUpJKUXbfHNEydOAABSzu9B9NIRMFwKxfj330VkxC0sWLAAPj4+ZVk+ERGVA4YbqnSs1QoseC0QU3s1gFIu4K9zMei14BAuRmsLPffcuXMAAEvtLUz/8gvcjozAtGnT4OrqWtZlExFROeEMxVSp/RfxAGNWn8KdxHSoFTJ82ScALzfLfwHVmzdv4vDhw+jbty8sLCzKsVIiInoaxfn9zXBDld6DlAy8uy4M+x7Og/NKM29M7d0AV2KTMGP7JUzsXg+NqtlLWyQRET0VLr9AZsXBSoUVQ5/B+539IAjAuhOR6Pv9Yaw8dBNHrt/DhlNRUpdIRETlSCF1AUSlQSYT8HbHOvB2sMTkLedwMVqLSw/H4Gw9fQcvBVWDKAIOVkpUc7CUuFoiIipLDDdUpbz7W5jx45z+1nspGXjhu4PG7Te/6lG+RRERUblitxRVKfNfaQKFLP+ZhOUCMOjHo1h15CaiSnExTiIiqjg4oJiqnHNRiSYtNTm87DWISkg32dbA0xad6ruhs78bGnjacokFIqIKqji/v9ktRVWWIACi+OjfJYOawUIlx+4Lsdh9MRYnbz3A+TtanL+jxTehV+Fhp0Gn+m7o5O+GZ2s6Qq2QS/0WiIioBBhuqMpxslbBxVoND3sNXnnGG+uORyI6IR1O1ip42FmgVntr/K99LdxL1uGfS3HYfTEW+6/cRXRiOn7+9xZ+/vcWrNUKtPdzQSd/VzxX1xX2liqp3xYRERURu6WoStJl6aGSyyAIAkRRRIbeUGBLTHqmHoev3cWuC3EIvRiLuKRHq47LZQKa+Tigs39295WPk1V5vAUiInoMJ/ErAMMNFcZgEHE2KhG7HnZfXYpJMtlfx9UanR4GnSbV7CErYAAzERGVDoabAjDcUHFF3k81Bp2jN+5Db3j0X8bZWo2O9VzR2d8NrWs7w0LFcTpERGWB4aYADDf0NBJTM7H3Shx2XYjFvsvxSNJlGfdplDK0qe2Czv6ueL6eG1xs1BJWSkRUtTDcFIDhhkpLRpYBx27cx64LMdh9Mc5k3hxBAAK97dHJ3w1d/N1Qy8Wat5kTET0FhpsCMNxQWRBFERejk4zdV2ejEk32+zpZGufTCfJxgELO+TOJiIqD4aYADDdUHqIT07D7Yhx2X4jFkWv3kKE3GPfZWyrxfF1XdPJ3Qzs/F1irOSMDEVFhGG4KwHBD5S1Zl4UDV+Kx60Is/rkch4TUTOM+lVyGlrWcsu++qu8GdztNrvPP3E7AjO2XMLF7PTSqZl+OlRMRVRwMNwVguCEpZekNOHnrAXZdiMWui7G4dS/VZH9DLztj91V9DxsIgoApW85j5eGbGNrKF1N6NZCociIiaTHcFIDhhioKURRxLT4Zf1+Ixe4LsfgvMgGP/290sVajRQ0H7L96F9r0LDhZqfDT8OYQRcDBSolqDpbSFU9EVM4YbgrAcEMVVXySDnsuxWWHnYuxhR6/aGBTeDtawtvBEnaWynKokIhIOgw3BWC4ocrgt+ORmLDhDAxF/N9po1HA28ES3o4WD/999HE1B0tOLkhElR5XBSeq5Po/4w1/T1u88N3BXPteCqqG9Ew9bj9Iw+0HqbibnIGk9CxciNbiQrQ2z+s5W6sfCz6PBSAHS3jYa6DkrelEVIUw3BBVcIIAiOKjf4e28kWAl51xf2pGFm4/SEPk/dTsR87HD9Jw+34qknRZuJusw91kHf6LSMh1fZkAeNhZoJqDhTHweDs++tjVRs31s4ioUmG4IaqgnKxVcLFWw8Neg1ee8ca645GITkiHk7XK5DhLlQJ+bjbwc7PJdQ1RFJGYlonI+2mIfJATflKNz28/SENGlgFRCWmISkjD0Rv3c11DpZChmr0FqjlawvvJAORgCXtLZZFmX+Yt7URUXjjmhqgC02XpoZLLIAgCRFFEht4AtaL0xs8YDCLik3Wmoeexj6MT0wod92OtVuRu9Xls3I+lKvtvKN7STkRPo9INKF64cCFmz56NmJgYNG7cGN999x2aN2+e57HLli3DqlWrcO7cOQBAUFAQpk+fnu/xT2K4ISq6TL0B0Qnpxlaf2w8ebwFKQ3ySrtBr2GkUcLXT4NbdVGToDbBWK/BlnwBUc7CAu52Gt7QTUZFUqnCzbt06DB48GIsXL0aLFi0wf/58/P7777h8+TJcXV1zHT9w4EC0bt0arVq1gkajwcyZM7Fx40acP38eXl5ehb4eww1R6UnL0CMqIdW02+uxj7XpWYVeo7O/G/zcrI1dazVdrEq1dYqIqoZKFW5atGiBZ555BgsWLAAAGAwGeHt74+2338aECRMKPV+v18PBwQELFizA4MGDCz2e4Yao/Kw5GoHPNp2Dvhg/ZuQyAT5OlvBztYGfmzXqPAw9NZytoFLwri4ic1VpbgXPyMjAyZMnMXHiROM2mUyGTp064ciRI0W6RmpqKjIzM+Ho6Jjnfp1OB53uUdO5Vpv3rbJEVPoGtKiORtXs8rylfdXwZyCXyXAlNglXYpNxNTYJV2KToE3PwvX4FFyPT8GO84+OV8gE+DpbZQceV5uHLT3W8HW24q3sRGRC0nBz9+5d6PV6uLm5mWx3c3PDpUuXinSNjz76CJ6enujUqVOe+2fMmIGpU6c+da1E9HSevKXd0UqNAC87tK7tbDxGFEXEanUPA08SrsYm40pc9r/JuiyExyUjPC4ZQIzxHKVcQE1na9Qxdm1lt/b4OFpCwdBDZJYq9a3gX331FX799Vfs3bsXGk3u1ZQBYOLEiQgJCTE+12q18Pb2Lq8SicxeUW9pBwBBEOBup4G7nQbt/FyM20VRRHRi+qPAE5uEK3HJCI9NQkqGHpdjk3A5NglAtPEclUKGms5WJoHHz80G1R0tIee8PURVmqThxtnZGXK5HLGxpuvoxMbGwt3dvcBzv/76a3z11VfYvXs3GjVqlO9xarUaarW6VOolouLzsLPAwQnPGW9pH9C8erFvaRcEAZ72FvC0t0CHuo9uNDAYRNxJTDN2beWEn/C4ZKRl6nEpJgmXYpJMrqVWyFDbNbuVp46b9cOxPTao5mBRpMkKOV8PUcUnabhRqVQICgpCaGgo+vTpAyB7QHFoaCjGjh2b73mzZs3CtGnTsHPnTjRr1qycqiWikno8yAiCUGp3Q8lkAqo9XD/r+XqPurcNBhG3HzwMPXGPWnvC45KhyzLg/B0tzt8xHX9noZSjtusT3VuuNvCyNw09G05F4cj1e9hwKorhhqiCkrxbKiQkBEOGDEGzZs3QvHlzzJ8/HykpKRg2bBgAYPDgwfDy8sKMGTMAADNnzsSkSZOwZs0a+Pr6IiYmu+/d2toa1tbWkr0PIqo4ZDIB1Z0sUd3JEp38H4UevUFE5P3U7BaeuOzAczkmCdfjU5CWqcfZqEScjUo0uZalSg4fR0t42lvAx8kS60/dBgBsOX0HLwVVgygCDlZKztdDVIFIfis4ACxYsMA4iV+TJk3w7bffokWLFgCADh06wNfXFytXrgQA+Pr64tatW7muMXnyZEyZMqXQ1+Kt4ET0pCy9Abfupz68Y+tR99b1u8nI1BftR2SLGo6wt1TC3kIFe6uH/1oqYW+hhJ2lEg6WKuN+jVJWpCUriOiRSjXPTXljuCGiosrUG3DrXgp++TcCq47cLHQpiqJSKWSwt8gOPHYPA5C9pRL2jwWgvIKRhVJeqqGI44eoMqk089wQEVVkSrkMtV1tMKVXA7wUVC3P+Xrmv9IETtYqJKRmIiEtE4mpGUhIzcSD1EwkpmUYtyekZiIhNQNZBhEZWQbEJekQV4TlKx6nksuMYaiwYGRnoYSDlQr2FkpYqvIORRw/RFUVww0RUTE8OV9PbVdrBHjZFelcURSRkqFHwsMAlJiWiQePfZyQbzDKQKY+e+HU+CRdkdb0epxSLsDuYeixVMmgUShgY6HAofC7AIDfT0TC0UoJK7UCHnYWqOViDVsLBWw1+QcjooqM4YaIqAiKM19PfgRBgLVa8XAl9aK/tiiKSM3QG4NO4sPQk1cwyg5Ejz7O0BuQqRdxN1mHu8l5h6KUDD3m7rqa5z65TICtRgFbCyVsNUpj6DH52OKJjx/bVx7hiN1r9CSGGyKiIiiN+XpKShAEWKkVsFIr4GVvUeTzRFFEeqbBGIIS0jKw63wsfipg/JCLtRoGUURiWiayDCL0BhEPHrYmlURRwpGdZR5h6eHzoowzYvcaPYnhhoioiMpqvp6yIggCLFRyWKiyJ0AEgFa1nPFiPuOH/ny7jbGLLScYadMzoU3LfPhv1mPPswrcXlrhSCETHoYd04AkFwQo5DJYq+XYcCoKALD+1G34udnAUiWHh50GddxsYK1WVJoFV9kCVXoYboiIzNST44dM9+UEIzncbPNe3qYg+YWjROPHhQekLIOILIOI+ykZuJ+SUehrJqVn4eONZ3NtVylksNVkdwfaaJQP/1XAWqOATc42zcNtD/c9fpyNWgkrtbzM1ypjC1TpYbghIjIzpTF+qDClEY7SMvVPhJ5HIejf6/fw17mYXKEsh1ouQPdwjqKMLAPuJmfgbnLhAakglir5Y8FI+TAYPRaaNApjiLJ+LCDZPgxS1moFrFQKkxmvbz9IxYOUTAgCsPX0HQDZ/3KCyKfDeW6IiMyQLktvHD8kimK5jR8qTeeiEgvsXtMbRCTrspCUnolkXRaS07OQlJ6FpJxtD59nH/PouCe36bIMpVazIADWqkctR1dikws958+32xhv77dWK8z27jXOc0NERAWqbOOHCpJf95pcJsDOIjsUPI2MLIMxHGkfD0q6zIfbsh4LT9n7tenZz3PCVVJ6FrIMIkQR2eFKlwUkFv7aAEwCnFwmZE/u+HCCx5yP7S1VD/9VPvav6TZlGXer5agIY4cYboiIqFIqj+41IHvMjqNCBUerkl9XFEXosgyPtQo9CkaXYrSYvzv3rfgNPGyRaTAY5zvKyDJAbxBxLyUD94owBulJViq5MQTZGSd/NA1BJsHp4bFWxbydvyKMHWK3FBERVVpVqXvtyRaox+9eA4D0TL3pvEZpmUjMef7YpI/atEfzHSWmZg/QfhoKmQB7y+xb9O0fthLZWzx8/jAQ6UURMgiwtlBg2p8XkZCWCScrFX4a3rzUxg6xW4qIiMxCVeheK2oLlEYph7udHO52xRugrTeI2YEn7VEwSjR+/CgIPQpFj47L1GffsVaSAdn3UzJMutRuftWjWOc/DbbcEBERSawitkDl3LH2qLUoe1mQxMdCUEJqdkvRlbgkXM1ncLRCJuDrlxujT6DXU9XDlhsiIqJKpCK2QAmCAEuVApYqhXESyILkd/fapjGti7z+WmmpHNM2EhERUaWQM/ZYyjvW2XJDRERET6287l4rCo65ISIiolJRlmOHOOaGiIiIyl1FGTvEMTdERERUpTDcEBERUZXCcENERERVCsMNERERVSkMN0RERFSlMNwQERFRlcJwQ0RERFUKww0RERFVKQw3REREVKUw3BAREVGVYnbLL+QspaXVaiWuhIiIiIoq5/d2UZbENLtwk5SUBADw9vaWuBIiIiIqrqSkJNjZ2RV4jNmtCm4wGHDnzh3Y2NhAEASpy6mQtFotvL29ERkZyZXTKwB+PSoWfj0qHn5NKpay+nqIooikpCR4enpCJit4VI3ZtdzIZDJUq1ZN6jIqBVtbW/6gqED49ahY+PWoePg1qVjK4utRWItNDg4oJiIioiqF4YaIiIiqFIYbykWtVmPy5MlQq9VSl0Lg16Oi4dej4uHXpGKpCF8PsxtQTERERFUbW26IiIioSmG4ISIioiqF4YaIiIiqFIYbIiIiqlIYbshoxowZeOaZZ2BjYwNXV1f06dMHly9flroseuirr76CIAh49913pS7FbEVFReH111+Hk5MTLCws0LBhQ5w4cULqssySXq/HZ599hho1asDCwgK1atXCF198UaR1h6h07N+/Hz179oSnpycEQcCmTZtM9ouiiEmTJsHDwwMWFhbo1KkTrl69Wi61MdyQ0b59+zBmzBj8+++/2LVrFzIzM9GlSxekpKRIXZrZO378OJYsWYJGjRpJXYrZevDgAVq3bg2lUom//voLFy5cwJw5c+Dg4CB1aWZp5syZWLRoERYsWICLFy9i5syZmDVrFr777jupSzMbKSkpaNy4MRYuXJjn/lmzZuHbb7/F4sWLcfToUVhZWaFr165IT08v89p4KzjlKz4+Hq6urti3bx/atWsndTlmKzk5GU2bNsX333+PL7/8Ek2aNMH8+fOlLsvsTJgwAYcOHcKBAwekLoUAvPDCC3Bzc8OPP/5o3Pbiiy/CwsICv/zyi4SVmSdBELBx40b06dMHQHarjaenJ95//3188MEHAIDExES4ublh5cqVePXVV8u0HrbcUL4SExMBAI6OjhJXYt7GjBmDHj16oFOnTlKXYta2bNmCZs2a4eWXX4arqysCAwOxbNkyqcsyW61atUJoaCiuXLkCADh9+jQOHjyI4OBgiSsjALhx4wZiYmJMfm7Z2dmhRYsWOHLkSJm/vtktnElFYzAY8O6776J169YICAiQuhyz9euvv+LUqVM4fvy41KWYvevXr2PRokUICQnBxx9/jOPHj+Odd96BSqXCkCFDpC7P7EyYMAFarRb16tWDXC6HXq/HtGnTMHDgQKlLIwAxMTEAADc3N5Ptbm5uxn1lieGG8jRmzBicO3cOBw8elLoUsxUZGYlx48Zh165d0Gg0Updj9gwGA5o1a4bp06cDAAIDA3Hu3DksXryY4UYCv/32G1avXo01a9agQYMGCAsLw7vvvgtPT09+PYjdUpTb2LFj8eeff2LPnj2oVq2a1OWYrZMnTyIuLg5NmzaFQqGAQqHAvn378O2330KhUECv10tdolnx8PCAv7+/ybb69esjIiJCoorM24cffogJEybg1VdfRcOGDTFo0CC89957mDFjhtSlEQB3d3cAQGxsrMn22NhY476yxHBDRqIoYuzYsdi4cSP++ecf1KhRQ+qSzFrHjh1x9uxZhIWFGR/NmjXDwIEDERYWBrlcLnWJZqV169a5pka4cuUKfHx8JKrIvKWmpkImM/0VJpfLYTAYJKqIHlejRg24u7sjNDTUuE2r1eLo0aNo2bJlmb8+u6XIaMyYMVizZg02b94MGxsbY7+onZ0dLCwsJK7O/NjY2OQa72RlZQUnJyeOg5LAe++9h1atWmH69Ono378/jh07hqVLl2Lp0qVSl2aWevbsiWnTpqF69epo0KAB/vvvP8ydOxfDhw+XujSzkZycjPDwcOPzGzduICwsDI6OjqhevTreffddfPnll6hTpw5q1KiBzz77DJ6ensY7qsqUSPQQgDwfK1askLo0eqh9+/biuHHjpC7DbG3dulUMCAgQ1Wq1WK9ePXHp0qVSl2S2tFqtOG7cOLF69eqiRqMRa9asKX7yySeiTqeTujSzsWfPnjx/ZwwZMkQURVE0GAziZ599Jrq5uYlqtVrs2LGjePny5XKpjfPcEBERUZXCMTdERERUpTDcEBERUZXCcENERERVCsMNERERVSkMN0RERFSlMNwQERFRlcJwQ0RERFUKww0RUSFEUcTIkSPh6OgIQRAQFhYmdUlEVACGGyJ6KkOHDoUgCBAEAUqlEjVq1MD48eORnp4udWmlZseOHVi5ciX+/PNPREdH57n8xd69eyEIAhISEozb7ty5g4YNG6Jdu3ZITEwsx4qJzBvXliKip9atWzesWLECmZmZOHnyJIYMGQJBEDBz5kypSysV165dg4eHB1q1alWsczp37gx/f3/8/vvvXJ+NqByx5YaInpparYa7uzu8vb3Rp08fdOrUCbt27TLuv3fvHl577TV4eXnB0tISDRs2xNq1a02u0aFDB7zzzjsYP348HB0d4e7ujilTppgcc+nSJbRp0wYajQb+/v7YvXs3BEHApk2bjMdERkaif//+sLe3h6OjI3r37o2bN28WWP++ffvQvHlzqNVqeHh4YMKECcjKygKQ3TL19ttvIyIiAoIgwNfXt9DPx5kzZ9CmTRu0bNkSmzZtYrAhKmcMN0RUqs6dO4fDhw9DpVIZt6WnpyMoKAjbtm3DuXPnMHLkSAwaNAjHjh0zOfenn36ClZUVjh49ilmzZuHzzz83hiS9Xo8+ffrA0tISR48exdKlS/HJJ5+YnJ+ZmYmuXbvCxsYGBw4cwKFDh2BtbY1u3bohIyMjz3qjoqLQvXt3PPPMMzh9+jQWLVqEH3/8EV9++SUA4JtvvsHnn3+OatWqITo6GsePHy/w/R8+fBjt27fHiy++iF9++QUKBRvIicpduSzPSURV1pAhQ0S5XC5aWVmJarVaBCDKZDLxjz/+KPC8Hj16iO+//77xefv27cU2bdqYHPPMM8+IH330kSiKovjXX3+JCoVCjI6ONu7ftWuXCEDcuHGjKIqi+PPPP4t169YVDQaD8RidTidaWFiIO3fuzLOOjz/+ONc5CxcuFK2trUW9Xi+KoijOmzdP9PHxKfD95KyQrFKpxEGDBhV4LBGVLf5JQURP7bnnnsOiRYuQkpKCefPmQaFQ4MUXXzTu1+v1mD59On777TdERUUhIyMDOp0OlpaWJtdp1KiRyXMPDw/ExcUBAC5fvgxvb2+4u7sb9zdv3tzk+NOnTyM8PBw2NjYm29PT03Ht2rU8a7948SJatmwJQRCM21q3bo3k5GTcvn0b1atXL8ZnAujduzc2btyIAwcOoG3btsU6l4hKB8MNET01Kysr1K5dGwCwfPlyNG7cGD/++CPeeOMNAMDs2bPxzTffYP78+WjYsCGsrKzw7rvv5uoqUiqVJs8FQYDBYChyHcnJyQgKCsLq1atz7XNxcSnu2yqRJUuWYPz48QgODsb27dvRrl27cnldInqE4YaISpVMJsPHH3+MkJAQDBgwABYWFjh06BB69+6N119/HQBgMBhw5coV+Pv7F/m6devWRWRkJGJjY+Hm5gYAuca/NG3aFOvWrYOrqytsbW2LdN369etj/fr1EEXR2Hpz6NAh2NjYoFq1akWuL4cgCFi6dClkMhm6d++Obdu2oX379sW+DhGVHAcUE1Gpe/nllyGXy7Fw4UIAQJ06dbBr1y4cPnwYFy9exP/+9z/ExsYW65qdO3dGrVq1MGTIEJw5cwaHDh3Cp59+CgDGUDJw4EA4Ozujd+/eOHDgAG7cuIG9e/finXfewe3bt/O87ujRoxEZGYm3334bly5dwubNmzF58mSEhIRAJivZj0hBELB48WIMHjwY3bt3x969e0t0HSIqGYYbIip1CoUCY8eOxaxZs5CSkoJPP/0UTZs2RdeuXdGhQwe4u7ujT58+xbqmXC7Hpk2bkJycjGeeeQYjRoww3i2l0WgAAJaWlti/fz+qV6+Ofv36oX79+njjjTeQnp6eb0uOl5cXtm/fjmPHjqFx48YYNWoU3njjDWNwKilBELBw4UIMGzYMPXr0wJ49e57qekRUdIIoiqLURRARlcShQ4fQpk0bhIeHo1atWlKXQ0QVBMMNEVUaGzduhLW1NerUqYPw8HCMGzcODg4OOHjwoNSlEVEFwgHFRFRpJCUl4aOPPkJERAScnZ3RqVMnzJkzR+qyiKiCYcsNERERVSkcUExERERVCsMNERERVSkMN0RERFSlMNwQERFRlcJwQ0RERFUKww0RERFVKQw3REREVKUw3BAREVGVwnBDREREVcr/ASrUjO/HA2BeAAAAAElFTkSuQmCC",
      "text/plain": [
       "<Figure size 640x480 with 1 Axes>"
      ]
     },
     "metadata": {},
     "output_type": "display_data"
    }
   ],
   "source": [
    "from sklearn.cluster import KMeans\n",
    "data=list(map( lambda x:x, zip(df.TV,df.Radio,df.Newspaper,df.Sales,df.Predicted_Sales)))\n",
    "inertias=[]\n",
    "\n",
    "for i in range(1,11):\n",
    "    kmeans=KMeans(n_clusters=i, n_init=\"auto\")\n",
    "    kmeans.fit(data)\n",
    "    inertias.append(kmeans.inertia_)\n",
    "\n",
    "plt.plot(range(1,11),inertias,marker=\"*\")\n",
    "# plt.arrow(3,330000,2.5,800000,width=0.05)\n",
    "plt.annotate('Let k = 3',xy=(3.1,330000),xytext=(4,600000),arrowprops={})\n",
    "plt.title(\"KMeans plot for Selecting Elbow ( k )\")\n",
    "plt.xlabel(\"Range of K\")\n",
    "plt.ylabel(\"Intertias\")"
   ]
  },
  {
   "cell_type": "markdown",
   "metadata": {},
   "source": [
    "Selecting K as 2 and since 3 is better choice I will choose k=3 in another case."
   ]
  },
  {
   "cell_type": "code",
   "execution_count": 67,
   "metadata": {},
   "outputs": [
    {
     "name": "stderr",
     "output_type": "stream",
     "text": [
      "c:\\Users\\MAYANK\\AppData\\Local\\Programs\\Python\\Python310\\lib\\site-packages\\sklearn\\cluster\\_kmeans.py:870: FutureWarning:\n",
      "\n",
      "The default value of `n_init` will change from 10 to 'auto' in 1.4. Set the value of `n_init` explicitly to suppress the warning\n",
      "\n"
     ]
    },
    {
     "data": {
      "text/html": [
       "<style>#sk-container-id-1 {color: black;background-color: white;}#sk-container-id-1 pre{padding: 0;}#sk-container-id-1 div.sk-toggleable {background-color: white;}#sk-container-id-1 label.sk-toggleable__label {cursor: pointer;display: block;width: 100%;margin-bottom: 0;padding: 0.3em;box-sizing: border-box;text-align: center;}#sk-container-id-1 label.sk-toggleable__label-arrow:before {content: \"▸\";float: left;margin-right: 0.25em;color: #696969;}#sk-container-id-1 label.sk-toggleable__label-arrow:hover:before {color: black;}#sk-container-id-1 div.sk-estimator:hover label.sk-toggleable__label-arrow:before {color: black;}#sk-container-id-1 div.sk-toggleable__content {max-height: 0;max-width: 0;overflow: hidden;text-align: left;background-color: #f0f8ff;}#sk-container-id-1 div.sk-toggleable__content pre {margin: 0.2em;color: black;border-radius: 0.25em;background-color: #f0f8ff;}#sk-container-id-1 input.sk-toggleable__control:checked~div.sk-toggleable__content {max-height: 200px;max-width: 100%;overflow: auto;}#sk-container-id-1 input.sk-toggleable__control:checked~label.sk-toggleable__label-arrow:before {content: \"▾\";}#sk-container-id-1 div.sk-estimator input.sk-toggleable__control:checked~label.sk-toggleable__label {background-color: #d4ebff;}#sk-container-id-1 div.sk-label input.sk-toggleable__control:checked~label.sk-toggleable__label {background-color: #d4ebff;}#sk-container-id-1 input.sk-hidden--visually {border: 0;clip: rect(1px 1px 1px 1px);clip: rect(1px, 1px, 1px, 1px);height: 1px;margin: -1px;overflow: hidden;padding: 0;position: absolute;width: 1px;}#sk-container-id-1 div.sk-estimator {font-family: monospace;background-color: #f0f8ff;border: 1px dotted black;border-radius: 0.25em;box-sizing: border-box;margin-bottom: 0.5em;}#sk-container-id-1 div.sk-estimator:hover {background-color: #d4ebff;}#sk-container-id-1 div.sk-parallel-item::after {content: \"\";width: 100%;border-bottom: 1px solid gray;flex-grow: 1;}#sk-container-id-1 div.sk-label:hover label.sk-toggleable__label {background-color: #d4ebff;}#sk-container-id-1 div.sk-serial::before {content: \"\";position: absolute;border-left: 1px solid gray;box-sizing: border-box;top: 0;bottom: 0;left: 50%;z-index: 0;}#sk-container-id-1 div.sk-serial {display: flex;flex-direction: column;align-items: center;background-color: white;padding-right: 0.2em;padding-left: 0.2em;position: relative;}#sk-container-id-1 div.sk-item {position: relative;z-index: 1;}#sk-container-id-1 div.sk-parallel {display: flex;align-items: stretch;justify-content: center;background-color: white;position: relative;}#sk-container-id-1 div.sk-item::before, #sk-container-id-1 div.sk-parallel-item::before {content: \"\";position: absolute;border-left: 1px solid gray;box-sizing: border-box;top: 0;bottom: 0;left: 50%;z-index: -1;}#sk-container-id-1 div.sk-parallel-item {display: flex;flex-direction: column;z-index: 1;position: relative;background-color: white;}#sk-container-id-1 div.sk-parallel-item:first-child::after {align-self: flex-end;width: 50%;}#sk-container-id-1 div.sk-parallel-item:last-child::after {align-self: flex-start;width: 50%;}#sk-container-id-1 div.sk-parallel-item:only-child::after {width: 0;}#sk-container-id-1 div.sk-dashed-wrapped {border: 1px dashed gray;margin: 0 0.4em 0.5em 0.4em;box-sizing: border-box;padding-bottom: 0.4em;background-color: white;}#sk-container-id-1 div.sk-label label {font-family: monospace;font-weight: bold;display: inline-block;line-height: 1.2em;}#sk-container-id-1 div.sk-label-container {text-align: center;}#sk-container-id-1 div.sk-container {/* jupyter's `normalize.less` sets `[hidden] { display: none; }` but bootstrap.min.css set `[hidden] { display: none !important; }` so we also need the `!important` here to be able to override the default hidden behavior on the sphinx rendered scikit-learn.org. See: https://github.com/scikit-learn/scikit-learn/issues/21755 */display: inline-block !important;position: relative;}#sk-container-id-1 div.sk-text-repr-fallback {display: none;}</style><div id=\"sk-container-id-1\" class=\"sk-top-container\"><div class=\"sk-text-repr-fallback\"><pre>KMeans(n_clusters=3)</pre><b>In a Jupyter environment, please rerun this cell to show the HTML representation or trust the notebook. <br />On GitHub, the HTML representation is unable to render, please try loading this page with nbviewer.org.</b></div><div class=\"sk-container\" hidden><div class=\"sk-item\"><div class=\"sk-estimator sk-toggleable\"><input class=\"sk-toggleable__control sk-hidden--visually\" id=\"sk-estimator-id-1\" type=\"checkbox\" checked><label for=\"sk-estimator-id-1\" class=\"sk-toggleable__label sk-toggleable__label-arrow\">KMeans</label><div class=\"sk-toggleable__content\"><pre>KMeans(n_clusters=3)</pre></div></div></div></div></div>"
      ],
      "text/plain": [
       "KMeans(n_clusters=3)"
      ]
     },
     "execution_count": 67,
     "metadata": {},
     "output_type": "execute_result"
    }
   ],
   "source": [
    "kmeans = KMeans(n_clusters=3)\n",
    "kmeans.fit(data)"
   ]
  },
  {
   "cell_type": "code",
   "execution_count": 79,
   "metadata": {},
   "outputs": [
    {
     "data": {
      "text/plain": [
       "Text(23, 150, 'Cluster #3')"
      ]
     },
     "execution_count": 79,
     "metadata": {},
     "output_type": "execute_result"
    },
    {
     "data": {
      "image/png": "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",
      "text/plain": [
       "<Figure size 640x480 with 1 Axes>"
      ]
     },
     "metadata": {},
     "output_type": "display_data"
    }
   ],
   "source": [
    "\n",
    "k2=plt.scatter( df.Sales,df.TV, c=kmeans.labels_)\n",
    "plt.ylabel(\"TV\")\n",
    "plt.xlabel(\"Sales\")\n",
    "corr=(df[[\"Sales\",\"TV\"]]).corr()\n",
    "plt.title(\"Clustering Scater Plot: Sales by TV\"+f\" corr {corr}\")\n",
    "plt.annotate('Cluster #1',xy=(13,50),xytext=(17,40),arrowprops={})\n",
    "plt.annotate('Cluster #2',xy=(13.5,150),xytext=(7,200),arrowprops={})\n",
    "plt.annotate('Cluster #3',xy=(21,250),xytext=(23,150),arrowprops={})\n"
   ]
  },
  {
   "cell_type": "markdown",
   "metadata": {},
   "source": [
    "### Cluster #3 has majority of records"
   ]
  },
  {
   "cell_type": "markdown",
   "metadata": {},
   "source": [
    "- Noticing all the clustering Its clear that Sales can be understood using \"TV\".\n",
    "- Lets plot a clustering scatter plot for Predicted Sales as well."
   ]
  },
  {
   "cell_type": "code",
   "execution_count": 89,
   "metadata": {},
   "outputs": [
    {
     "data": {
      "text/plain": [
       "Text(20, 140, 'Cluster #3 \\n Less Distributed\\n then Sales')"
      ]
     },
     "execution_count": 89,
     "metadata": {},
     "output_type": "execute_result"
    },
    {
     "data": {
      "image/png": "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",
      "text/plain": [
       "<Figure size 640x480 with 1 Axes>"
      ]
     },
     "metadata": {},
     "output_type": "display_data"
    }
   ],
   "source": [
    "k3=plt.scatter(df.Predicted_Sales, df.TV, c=kmeans.labels_)\n",
    "plt.ylabel(\"TV\")\n",
    "plt.xlabel(\"Predicted Sales\")\n",
    "corr=(df[[\"Predicted_Sales\",\"TV\"]]).corr()\n",
    "plt.title(\"Clustering Scater Plot: Predicted_Sales by TV\"+f\" corr \\n{corr}\")\n",
    "plt.annotate('Cluster #1 \\n More Distributed then Sales',xy=(13,50),xytext=(17,40),arrowprops={})\n",
    "plt.annotate('Cluster #2',xy=(13.5,150),xytext=(7,200),arrowprops={})\n",
    "plt.annotate('Cluster #3 \\n Less Distributed\\n then Sales',xy=(21,250),xytext=(20,140),arrowprops={})"
   ]
  },
  {
   "cell_type": "markdown",
   "metadata": {},
   "source": []
  },
  {
   "cell_type": "markdown",
   "metadata": {},
   "source": [
    "Its is observed that PrdictedSales Scatter plot is narrower where Sales Scatter plot was widely distributed. "
   ]
  },
  {
   "cell_type": "markdown",
   "metadata": {},
   "source": [
    "# Conclusion:\n",
    "- Sales numbers increase when TV numbers increase\n",
    "- Sales can be predicted simply using Supervised Learning Linear Regression with ~95% Accuracy."
   ]
  }
 ],
 "metadata": {
  "kernelspec": {
   "display_name": "Python 3",
   "language": "python",
   "name": "python3"
  },
  "language_info": {
   "codemirror_mode": {
    "name": "ipython",
    "version": 3
   },
   "file_extension": ".py",
   "mimetype": "text/x-python",
   "name": "python",
   "nbconvert_exporter": "python",
   "pygments_lexer": "ipython3",
   "version": "3.10.6"
  },
  "orig_nbformat": 4
 },
 "nbformat": 4,
 "nbformat_minor": 2
}
