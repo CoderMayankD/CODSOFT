{
 "cells": [
  {
   "cell_type": "markdown",
   "metadata": {},
   "source": [
    "##### DISCLAIMER: Most of the important Plots were made using Plotly Express,but unfortunately they could not be shown here.\n"
    "### SALES PREDICTION USING PYTHON\n",
    "__On Github Plotly Express Visuals cannot be Displyed__\n",
    "\n",
    "- Sales prediction involves forecasting the amount of a product that customers will purchase, taking into account various factors such as advertising expenditure, target audience segmentation, and advertising platform selection. \n",
    "\n",
    "- In businesses that offer products or services, the role of a Data Scientist is crucial for predicting future sales. They utilize machine learning techniques in Python to analyze and interpret data, allowing them to make informed decisions regarding advertising costs. \n",
    "\n",
    "- By leveraging these predictions, businesses can optimize their advertising strategies and maximize sales potential. \n",
    "\n",
    "- Let's embark on the journey of sales prediction using machine learning in Python.\n",
    "\n",
    "Link to the data on keggle is https://www.kaggle.com/code/ashydv/sales-prediction-simple-linear-regression/input.\n",
    "\n"
   ]
  },
  {
   "cell_type": "code",
   "execution_count": 169,
   "metadata": {},
   "outputs": [],
   "source": [
    "import pandas as pd\n",
    "import seaborn as sns\n",
    "import plotly.express as px\n",
    "import matplotlib.pyplot as plt\n"
   ]
  },
  {
   "cell_type": "markdown",
   "metadata": {},
   "source": [
    "##### Importing and observing dataset"
   ]
  },
  {
   "cell_type": "code",
   "execution_count": 170,
   "metadata": {},
   "outputs": [
    {
     "name": "stdout",
     "output_type": "stream",
     "text": [
      "(200, 4) \n",
      "\n"
     ]
    },
    {
     "data": {
      "text/html": [
       "<div>\n",
       "<style scoped>\n",
       "    .dataframe tbody tr th:only-of-type {\n",
       "        vertical-align: middle;\n",
       "    }\n",
       "\n",
       "    .dataframe tbody tr th {\n",
       "        vertical-align: top;\n",
       "    }\n",
       "\n",
       "    .dataframe thead th {\n",
       "        text-align: right;\n",
       "    }\n",
       "</style>\n",
       "<table border=\"1\" class=\"dataframe\">\n",
       "  <thead>\n",
       "    <tr style=\"text-align: right;\">\n",
       "      <th></th>\n",
       "      <th>TV</th>\n",
       "      <th>Radio</th>\n",
       "      <th>Newspaper</th>\n",
       "      <th>Sales</th>\n",
       "    </tr>\n",
       "  </thead>\n",
       "  <tbody>\n",
       "    <tr>\n",
       "      <th>0</th>\n",
       "      <td>230.1</td>\n",
       "      <td>37.8</td>\n",
       "      <td>69.2</td>\n",
       "      <td>22.1</td>\n",
       "    </tr>\n",
       "    <tr>\n",
       "      <th>1</th>\n",
       "      <td>44.5</td>\n",
       "      <td>39.3</td>\n",
       "      <td>45.1</td>\n",
       "      <td>10.4</td>\n",
       "    </tr>\n",
       "    <tr>\n",
       "      <th>2</th>\n",
       "      <td>17.2</td>\n",
       "      <td>45.9</td>\n",
       "      <td>69.3</td>\n",
       "      <td>12.0</td>\n",
       "    </tr>\n",
       "    <tr>\n",
       "      <th>3</th>\n",
       "      <td>151.5</td>\n",
       "      <td>41.3</td>\n",
       "      <td>58.5</td>\n",
       "      <td>16.5</td>\n",
       "    </tr>\n",
       "    <tr>\n",
       "      <th>4</th>\n",
       "      <td>180.8</td>\n",
       "      <td>10.8</td>\n",
       "      <td>58.4</td>\n",
       "      <td>17.9</td>\n",
       "    </tr>\n",
       "  </tbody>\n",
       "</table>\n",
       "</div>"
      ],
      "text/plain": [
       "      TV  Radio  Newspaper  Sales\n",
       "0  230.1   37.8       69.2   22.1\n",
       "1   44.5   39.3       45.1   10.4\n",
       "2   17.2   45.9       69.3   12.0\n",
       "3  151.5   41.3       58.5   16.5\n",
       "4  180.8   10.8       58.4   17.9"
      ]
     },
     "execution_count": 170,
     "metadata": {},
     "output_type": "execute_result"
    }
   ],
   "source": [
    "file=\"Dataset.csv\"\n",
    "df=pd.read_csv(file)\n",
    "print(df.shape,'\\n')\n",
    "df.head()"
   ]
  },
  {
   "cell_type": "markdown",
   "metadata": {},
   "source": [
    "##### Dataset is with 200 rows and 4 columns, though its very small dataset every important insights will be important."
   ]
  },
  {
   "cell_type": "code",
   "execution_count": 171,
   "metadata": {},
   "outputs": [
    {
     "data": {
      "text/html": [
       "<div>\n",
       "<style scoped>\n",
       "    .dataframe tbody tr th:only-of-type {\n",
       "        vertical-align: middle;\n",
       "    }\n",
       "\n",
       "    .dataframe tbody tr th {\n",
       "        vertical-align: top;\n",
       "    }\n",
       "\n",
       "    .dataframe thead th {\n",
       "        text-align: right;\n",
       "    }\n",
       "</style>\n",
       "<table border=\"1\" class=\"dataframe\">\n",
       "  <thead>\n",
       "    <tr style=\"text-align: right;\">\n",
       "      <th></th>\n",
       "      <th>TV</th>\n",
       "      <th>Radio</th>\n",
       "      <th>Newspaper</th>\n",
       "      <th>Sales</th>\n",
       "    </tr>\n",
       "  </thead>\n",
       "  <tbody>\n",
       "    <tr>\n",
       "      <th>count</th>\n",
       "      <td>200.000000</td>\n",
       "      <td>200.000000</td>\n",
       "      <td>200.000000</td>\n",
       "      <td>200.000000</td>\n",
       "    </tr>\n",
       "    <tr>\n",
       "      <th>mean</th>\n",
       "      <td>147.042500</td>\n",
       "      <td>23.264000</td>\n",
       "      <td>30.554000</td>\n",
       "      <td>15.130500</td>\n",
       "    </tr>\n",
       "    <tr>\n",
       "      <th>std</th>\n",
       "      <td>85.854236</td>\n",
       "      <td>14.846809</td>\n",
       "      <td>21.778621</td>\n",
       "      <td>5.283892</td>\n",
       "    </tr>\n",
       "    <tr>\n",
       "      <th>min</th>\n",
       "      <td>0.700000</td>\n",
       "      <td>0.000000</td>\n",
       "      <td>0.300000</td>\n",
       "      <td>1.600000</td>\n",
       "    </tr>\n",
       "    <tr>\n",
       "      <th>25%</th>\n",
       "      <td>74.375000</td>\n",
       "      <td>9.975000</td>\n",
       "      <td>12.750000</td>\n",
       "      <td>11.000000</td>\n",
       "    </tr>\n",
       "    <tr>\n",
       "      <th>50%</th>\n",
       "      <td>149.750000</td>\n",
       "      <td>22.900000</td>\n",
       "      <td>25.750000</td>\n",
       "      <td>16.000000</td>\n",
       "    </tr>\n",
       "    <tr>\n",
       "      <th>75%</th>\n",
       "      <td>218.825000</td>\n",
       "      <td>36.525000</td>\n",
       "      <td>45.100000</td>\n",
       "      <td>19.050000</td>\n",
       "    </tr>\n",
       "    <tr>\n",
       "      <th>max</th>\n",
       "      <td>296.400000</td>\n",
       "      <td>49.600000</td>\n",
       "      <td>114.000000</td>\n",
       "      <td>27.000000</td>\n",
       "    </tr>\n",
       "  </tbody>\n",
       "</table>\n",
       "</div>"
      ],
      "text/plain": [
       "               TV       Radio   Newspaper       Sales\n",
       "count  200.000000  200.000000  200.000000  200.000000\n",
       "mean   147.042500   23.264000   30.554000   15.130500\n",
       "std     85.854236   14.846809   21.778621    5.283892\n",
       "min      0.700000    0.000000    0.300000    1.600000\n",
       "25%     74.375000    9.975000   12.750000   11.000000\n",
       "50%    149.750000   22.900000   25.750000   16.000000\n",
       "75%    218.825000   36.525000   45.100000   19.050000\n",
       "max    296.400000   49.600000  114.000000   27.000000"
      ]
     },
     "execution_count": 171,
     "metadata": {},
     "output_type": "execute_result"
    }
   ],
   "source": [
    "df.describe()"
   ]
  },
  {
   "cell_type": "code",
   "execution_count": 172,
   "metadata": {},
   "outputs": [
    {
     "name": "stdout",
     "output_type": "stream",
     "text": [
      "<class 'pandas.core.frame.DataFrame'>\n",
      "RangeIndex: 200 entries, 0 to 199\n",
      "Data columns (total 4 columns):\n",
      " #   Column     Non-Null Count  Dtype  \n",
      "---  ------     --------------  -----  \n",
      " 0   TV         200 non-null    float64\n",
      " 1   Radio      200 non-null    float64\n",
      " 2   Newspaper  200 non-null    float64\n",
      " 3   Sales      200 non-null    float64\n",
      "dtypes: float64(4)\n",
      "memory usage: 6.4 KB\n"
     ]
    }
   ],
   "source": [
    "df.info()"
   ]
  },
  {
   "cell_type": "markdown",
   "metadata": {},
   "source": [
    "#### I appears to have all non-null values and without any blanks or null values in any columns.\n",
    "All the Variable in the dataset has same datatype i.e, float64.\n",
    "Target to problem statements:  to predict the sales.\n",
    "- finding correlation can be best and quickest method to obeserve the variables."
   ]
  },
  {
   "cell_type": "code",
   "execution_count": 173,
   "metadata": {},
   "outputs": [
    {
     "data": {
      "text/html": [
       "<div>\n",
       "<style scoped>\n",
       "    .dataframe tbody tr th:only-of-type {\n",
       "        vertical-align: middle;\n",
       "    }\n",
       "\n",
       "    .dataframe tbody tr th {\n",
       "        vertical-align: top;\n",
       "    }\n",
       "\n",
       "    .dataframe thead th {\n",
       "        text-align: right;\n",
       "    }\n",
       "</style>\n",
       "<table border=\"1\" class=\"dataframe\">\n",
       "  <thead>\n",
       "    <tr style=\"text-align: right;\">\n",
       "      <th></th>\n",
       "      <th>TV</th>\n",
       "      <th>Radio</th>\n",
       "      <th>Newspaper</th>\n",
       "      <th>Sales</th>\n",
       "    </tr>\n",
       "  </thead>\n",
       "  <tbody>\n",
       "    <tr>\n",
       "      <th>TV</th>\n",
       "      <td>1.000000</td>\n",
       "      <td>0.054809</td>\n",
       "      <td>0.056648</td>\n",
       "      <td>0.901208</td>\n",
       "    </tr>\n",
       "    <tr>\n",
       "      <th>Radio</th>\n",
       "      <td>0.054809</td>\n",
       "      <td>1.000000</td>\n",
       "      <td>0.354104</td>\n",
       "      <td>0.349631</td>\n",
       "    </tr>\n",
       "    <tr>\n",
       "      <th>Newspaper</th>\n",
       "      <td>0.056648</td>\n",
       "      <td>0.354104</td>\n",
       "      <td>1.000000</td>\n",
       "      <td>0.157960</td>\n",
       "    </tr>\n",
       "    <tr>\n",
       "      <th>Sales</th>\n",
       "      <td>0.901208</td>\n",
       "      <td>0.349631</td>\n",
       "      <td>0.157960</td>\n",
       "      <td>1.000000</td>\n",
       "    </tr>\n",
       "  </tbody>\n",
       "</table>\n",
       "</div>"
      ],
      "text/plain": [
       "                 TV     Radio  Newspaper     Sales\n",
       "TV         1.000000  0.054809   0.056648  0.901208\n",
       "Radio      0.054809  1.000000   0.354104  0.349631\n",
       "Newspaper  0.056648  0.354104   1.000000  0.157960\n",
       "Sales      0.901208  0.349631   0.157960  1.000000"
      ]
     },
     "execution_count": 173,
     "metadata": {},
     "output_type": "execute_result"
    }
   ],
   "source": [
    "df.corr()"
   ]
  },
  {
   "cell_type": "code",
   "execution_count": 174,
   "metadata": {},
   "outputs": [
    {
     "data": {
      "image/png": "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",
      "text/plain": [
       "<Figure size 640x480 with 2 Axes>"
      ]
     },
     "metadata": {},
     "output_type": "display_data"
    }
   ],
   "source": [
    "heatmap=sns.heatmap(df.corr(),annot=True)\n"
   ]
  },
  {
   "cell_type": "markdown",
   "metadata": {},
   "source": [
    "#### Let us clear data for outlier using a box plot"
   ]
  },
  {
   "cell_type": "code",
   "execution_count": 175,
   "metadata": {},
   "outputs": [
    {
     "data": {
      "application/vnd.plotly.v1+json": {
       "config": {
        "plotlyServerURL": "https://plot.ly"
       },
       "data": [
        {
         "alignmentgroup": "True",
         "hovertemplate": "variable=%{x}<br>value=%{y}<extra></extra>",
         "legendgroup": "",
         "marker": {
          "color": "#636efa"
         },
         "name": "",
         "notched": false,
         "offsetgroup": "",
         "orientation": "v",
         "showlegend": false,
         "type": "box",
         "x": [
          "TV",
          "TV",
          "TV",
          "TV",
          "TV",
          "TV",
          "TV",
          "TV",
          "TV",
          "TV",
          "TV",
          "TV",
          "TV",
          "TV",
          "TV",
          "TV",
          "TV",
          "TV",
          "TV",
          "TV",
          "TV",
          "TV",
          "TV",
          "TV",
          "TV",
          "TV",
          "TV",
          "TV",
          "TV",
          "TV",
          "TV",
          "TV",
          "TV",
          "TV",
          "TV",
          "TV",
          "TV",
          "TV",
          "TV",
          "TV",
          "TV",
          "TV",
          "TV",
          "TV",
          "TV",
          "TV",
          "TV",
          "TV",
          "TV",
          "TV",
          "TV",
          "TV",
          "TV",
          "TV",
          "TV",
          "TV",
          "TV",
          "TV",
          "TV",
          "TV",
          "TV",
          "TV",
          "TV",
          "TV",
          "TV",
          "TV",
          "TV",
          "TV",
          "TV",
          "TV",
          "TV",
          "TV",
          "TV",
          "TV",
          "TV",
          "TV",
          "TV",
          "TV",
          "TV",
          "TV",
          "TV",
          "TV",
          "TV",
          "TV",
          "TV",
          "TV",
          "TV",
          "TV",
          "TV",
          "TV",
          "TV",
          "TV",
          "TV",
          "TV",
          "TV",
          "TV",
          "TV",
          "TV",
          "TV",
          "TV",
          "TV",
          "TV",
          "TV",
          "TV",
          "TV",
          "TV",
          "TV",
          "TV",
          "TV",
          "TV",
          "TV",
          "TV",
          "TV",
          "TV",
          "TV",
          "TV",
          "TV",
          "TV",
          "TV",
          "TV",
          "TV",
          "TV",
          "TV",
          "TV",
          "TV",
          "TV",
          "TV",
          "TV",
          "TV",
          "TV",
          "TV",
          "TV",
          "TV",
          "TV",
          "TV",
          "TV",
          "TV",
          "TV",
          "TV",
          "TV",
          "TV",
          "TV",
          "TV",
          "TV",
          "TV",
          "TV",
          "TV",
          "TV",
          "TV",
          "TV",
          "TV",
          "TV",
          "TV",
          "TV",
          "TV",
          "TV",
          "TV",
          "TV",
          "TV",
          "TV",
          "TV",
          "TV",
          "TV",
          "TV",
          "TV",
          "TV",
          "TV",
          "TV",
          "TV",
          "TV",
          "TV",
          "TV",
          "TV",
          "TV",
          "TV",
          "TV",
          "TV",
          "TV",
          "TV",
          "TV",
          "TV",
          "TV",
          "TV",
          "TV",
          "TV",
          "TV",
          "TV",
          "TV",
          "TV",
          "TV",
          "TV",
          "TV",
          "TV",
          "TV",
          "TV",
          "TV",
          "TV",
          "TV",
          "TV",
          "TV",
          "Radio",
          "Radio",
          "Radio",
          "Radio",
          "Radio",
          "Radio",
          "Radio",
          "Radio",
          "Radio",
          "Radio",
          "Radio",
          "Radio",
          "Radio",
          "Radio",
          "Radio",
          "Radio",
          "Radio",
          "Radio",
          "Radio",
          "Radio",
          "Radio",
          "Radio",
          "Radio",
          "Radio",
          "Radio",
          "Radio",
          "Radio",
          "Radio",
          "Radio",
          "Radio",
          "Radio",
          "Radio",
          "Radio",
          "Radio",
          "Radio",
          "Radio",
          "Radio",
          "Radio",
          "Radio",
          "Radio",
          "Radio",
          "Radio",
          "Radio",
          "Radio",
          "Radio",
          "Radio",
          "Radio",
          "Radio",
          "Radio",
          "Radio",
          "Radio",
          "Radio",
          "Radio",
          "Radio",
          "Radio",
          "Radio",
          "Radio",
          "Radio",
          "Radio",
          "Radio",
          "Radio",
          "Radio",
          "Radio",
          "Radio",
          "Radio",
          "Radio",
          "Radio",
          "Radio",
          "Radio",
          "Radio",
          "Radio",
          "Radio",
          "Radio",
          "Radio",
          "Radio",
          "Radio",
          "Radio",
          "Radio",
          "Radio",
          "Radio",
          "Radio",
          "Radio",
          "Radio",
          "Radio",
          "Radio",
          "Radio",
          "Radio",
          "Radio",
          "Radio",
          "Radio",
          "Radio",
          "Radio",
          "Radio",
          "Radio",
          "Radio",
          "Radio",
          "Radio",
          "Radio",
          "Radio",
          "Radio",
          "Radio",
          "Radio",
          "Radio",
          "Radio",
          "Radio",
          "Radio",
          "Radio",
          "Radio",
          "Radio",
          "Radio",
          "Radio",
          "Radio",
          "Radio",
          "Radio",
          "Radio",
          "Radio",
          "Radio",
          "Radio",
          "Radio",
          "Radio",
          "Radio",
          "Radio",
          "Radio",
          "Radio",
          "Radio",
          "Radio",
          "Radio",
          "Radio",
          "Radio",
          "Radio",
          "Radio",
          "Radio",
          "Radio",
          "Radio",
          "Radio",
          "Radio",
          "Radio",
          "Radio",
          "Radio",
          "Radio",
          "Radio",
          "Radio",
          "Radio",
          "Radio",
          "Radio",
          "Radio",
          "Radio",
          "Radio",
          "Radio",
          "Radio",
          "Radio",
          "Radio",
          "Radio",
          "Radio",
          "Radio",
          "Radio",
          "Radio",
          "Radio",
          "Radio",
          "Radio",
          "Radio",
          "Radio",
          "Radio",
          "Radio",
          "Radio",
          "Radio",
          "Radio",
          "Radio",
          "Radio",
          "Radio",
          "Radio",
          "Radio",
          "Radio",
          "Radio",
          "Radio",
          "Radio",
          "Radio",
          "Radio",
          "Radio",
          "Radio",
          "Radio",
          "Radio",
          "Radio",
          "Radio",
          "Radio",
          "Radio",
          "Radio",
          "Radio",
          "Radio",
          "Radio",
          "Radio",
          "Radio",
          "Radio",
          "Radio",
          "Radio",
          "Radio",
          "Radio",
          "Radio",
          "Radio",
          "Radio",
          "Newspaper",
          "Newspaper",
          "Newspaper",
          "Newspaper",
          "Newspaper",
          "Newspaper",
          "Newspaper",
          "Newspaper",
          "Newspaper",
          "Newspaper",
          "Newspaper",
          "Newspaper",
          "Newspaper",
          "Newspaper",
          "Newspaper",
          "Newspaper",
          "Newspaper",
          "Newspaper",
          "Newspaper",
          "Newspaper",
          "Newspaper",
          "Newspaper",
          "Newspaper",
          "Newspaper",
          "Newspaper",
          "Newspaper",
          "Newspaper",
          "Newspaper",
          "Newspaper",
          "Newspaper",
          "Newspaper",
          "Newspaper",
          "Newspaper",
          "Newspaper",
          "Newspaper",
          "Newspaper",
          "Newspaper",
          "Newspaper",
          "Newspaper",
          "Newspaper",
          "Newspaper",
          "Newspaper",
          "Newspaper",
          "Newspaper",
          "Newspaper",
          "Newspaper",
          "Newspaper",
          "Newspaper",
          "Newspaper",
          "Newspaper",
          "Newspaper",
          "Newspaper",
          "Newspaper",
          "Newspaper",
          "Newspaper",
          "Newspaper",
          "Newspaper",
          "Newspaper",
          "Newspaper",
          "Newspaper",
          "Newspaper",
          "Newspaper",
          "Newspaper",
          "Newspaper",
          "Newspaper",
          "Newspaper",
          "Newspaper",
          "Newspaper",
          "Newspaper",
          "Newspaper",
          "Newspaper",
          "Newspaper",
          "Newspaper",
          "Newspaper",
          "Newspaper",
          "Newspaper",
          "Newspaper",
          "Newspaper",
          "Newspaper",
          "Newspaper",
          "Newspaper",
          "Newspaper",
          "Newspaper",
          "Newspaper",
          "Newspaper",
          "Newspaper",
          "Newspaper",
          "Newspaper",
          "Newspaper",
          "Newspaper",
          "Newspaper",
          "Newspaper",
          "Newspaper",
          "Newspaper",
          "Newspaper",
          "Newspaper",
          "Newspaper",
          "Newspaper",
          "Newspaper",
          "Newspaper",
          "Newspaper",
          "Newspaper",
          "Newspaper",
          "Newspaper",
          "Newspaper",
          "Newspaper",
          "Newspaper",
          "Newspaper",
          "Newspaper",
          "Newspaper",
          "Newspaper",
          "Newspaper",
          "Newspaper",
          "Newspaper",
          "Newspaper",
          "Newspaper",
          "Newspaper",
          "Newspaper",
          "Newspaper",
          "Newspaper",
          "Newspaper",
          "Newspaper",
          "Newspaper",
          "Newspaper",
          "Newspaper",
          "Newspaper",
          "Newspaper",
          "Newspaper",
          "Newspaper",
          "Newspaper",
          "Newspaper",
          "Newspaper",
          "Newspaper",
          "Newspaper",
          "Newspaper",
          "Newspaper",
          "Newspaper",
          "Newspaper",
          "Newspaper",
          "Newspaper",
          "Newspaper",
          "Newspaper",
          "Newspaper",
          "Newspaper",
          "Newspaper",
          "Newspaper",
          "Newspaper",
          "Newspaper",
          "Newspaper",
          "Newspaper",
          "Newspaper",
          "Newspaper",
          "Newspaper",
          "Newspaper",
          "Newspaper",
          "Newspaper",
          "Newspaper",
          "Newspaper",
          "Newspaper",
          "Newspaper",
          "Newspaper",
          "Newspaper",
          "Newspaper",
          "Newspaper",
          "Newspaper",
          "Newspaper",
          "Newspaper",
          "Newspaper",
          "Newspaper",
          "Newspaper",
          "Newspaper",
          "Newspaper",
          "Newspaper",
          "Newspaper",
          "Newspaper",
          "Newspaper",
          "Newspaper",
          "Newspaper",
          "Newspaper",
          "Newspaper",
          "Newspaper",
          "Newspaper",
          "Newspaper",
          "Newspaper",
          "Newspaper",
          "Newspaper",
          "Newspaper",
          "Newspaper",
          "Newspaper",
          "Newspaper",
          "Newspaper",
          "Newspaper",
          "Newspaper",
          "Newspaper",
          "Newspaper",
          "Newspaper",
          "Newspaper",
          "Newspaper",
          "Newspaper",
          "Newspaper",
          "Sales",
          "Sales",
          "Sales",
          "Sales",
          "Sales",
          "Sales",
          "Sales",
          "Sales",
          "Sales",
          "Sales",
          "Sales",
          "Sales",
          "Sales",
          "Sales",
          "Sales",
          "Sales",
          "Sales",
          "Sales",
          "Sales",
          "Sales",
          "Sales",
          "Sales",
          "Sales",
          "Sales",
          "Sales",
          "Sales",
          "Sales",
          "Sales",
          "Sales",
          "Sales",
          "Sales",
          "Sales",
          "Sales",
          "Sales",
          "Sales",
          "Sales",
          "Sales",
          "Sales",
          "Sales",
          "Sales",
          "Sales",
          "Sales",
          "Sales",
          "Sales",
          "Sales",
          "Sales",
          "Sales",
          "Sales",
          "Sales",
          "Sales",
          "Sales",
          "Sales",
          "Sales",
          "Sales",
          "Sales",
          "Sales",
          "Sales",
          "Sales",
          "Sales",
          "Sales",
          "Sales",
          "Sales",
          "Sales",
          "Sales",
          "Sales",
          "Sales",
          "Sales",
          "Sales",
          "Sales",
          "Sales",
          "Sales",
          "Sales",
          "Sales",
          "Sales",
          "Sales",
          "Sales",
          "Sales",
          "Sales",
          "Sales",
          "Sales",
          "Sales",
          "Sales",
          "Sales",
          "Sales",
          "Sales",
          "Sales",
          "Sales",
          "Sales",
          "Sales",
          "Sales",
          "Sales",
          "Sales",
          "Sales",
          "Sales",
          "Sales",
          "Sales",
          "Sales",
          "Sales",
          "Sales",
          "Sales",
          "Sales",
          "Sales",
          "Sales",
          "Sales",
          "Sales",
          "Sales",
          "Sales",
          "Sales",
          "Sales",
          "Sales",
          "Sales",
          "Sales",
          "Sales",
          "Sales",
          "Sales",
          "Sales",
          "Sales",
          "Sales",
          "Sales",
          "Sales",
          "Sales",
          "Sales",
          "Sales",
          "Sales",
          "Sales",
          "Sales",
          "Sales",
          "Sales",
          "Sales",
          "Sales",
          "Sales",
          "Sales",
          "Sales",
          "Sales",
          "Sales",
          "Sales",
          "Sales",
          "Sales",
          "Sales",
          "Sales",
          "Sales",
          "Sales",
          "Sales",
          "Sales",
          "Sales",
          "Sales",
          "Sales",
          "Sales",
          "Sales",
          "Sales",
          "Sales",
          "Sales",
          "Sales",
          "Sales",
          "Sales",
          "Sales",
          "Sales",
          "Sales",
          "Sales",
          "Sales",
          "Sales",
          "Sales",
          "Sales",
          "Sales",
          "Sales",
          "Sales",
          "Sales",
          "Sales",
          "Sales",
          "Sales",
          "Sales",
          "Sales",
          "Sales",
          "Sales",
          "Sales",
          "Sales",
          "Sales",
          "Sales",
          "Sales",
          "Sales",
          "Sales",
          "Sales",
          "Sales",
          "Sales",
          "Sales",
          "Sales",
          "Sales",
          "Sales",
          "Sales",
          "Sales",
          "Sales",
          "Sales",
          "Sales",
          "Sales",
          "Sales",
          "Sales",
          "Sales",
          "Sales",
          "Sales",
          "Sales"
         ],
         "x0": " ",
         "xaxis": "x",
         "y": [
          230.1,
          44.5,
          17.2,
          151.5,
          180.8,
          8.7,
          57.5,
          120.2,
          8.6,
          199.8,
          66.1,
          214.7,
          23.8,
          97.5,
          204.1,
          195.4,
          67.8,
          281.4,
          69.2,
          147.3,
          218.4,
          237.4,
          13.2,
          228.3,
          62.3,
          262.9,
          142.9,
          240.1,
          248.8,
          70.6,
          292.9,
          112.9,
          97.2,
          265.6,
          95.7,
          290.7,
          266.9,
          74.7,
          43.1,
          228,
          202.5,
          177,
          293.6,
          206.9,
          25.1,
          175.1,
          89.7,
          239.9,
          227.2,
          66.9,
          199.8,
          100.4,
          216.4,
          182.6,
          262.7,
          198.9,
          7.3,
          136.2,
          210.8,
          210.7,
          53.5,
          261.3,
          239.3,
          102.7,
          131.1,
          69,
          31.5,
          139.3,
          237.4,
          216.8,
          199.1,
          109.8,
          26.8,
          129.4,
          213.4,
          16.9,
          27.5,
          120.5,
          5.4,
          116,
          76.4,
          239.8,
          75.3,
          68.4,
          213.5,
          193.2,
          76.3,
          110.7,
          88.3,
          109.8,
          134.3,
          28.6,
          217.7,
          250.9,
          107.4,
          163.3,
          197.6,
          184.9,
          289.7,
          135.2,
          222.4,
          296.4,
          280.2,
          187.9,
          238.2,
          137.9,
          25,
          90.4,
          13.1,
          255.4,
          225.8,
          241.7,
          175.7,
          209.6,
          78.2,
          75.1,
          139.2,
          76.4,
          125.7,
          19.4,
          141.3,
          18.8,
          224,
          123.1,
          229.5,
          87.2,
          7.8,
          80.2,
          220.3,
          59.6,
          0.7,
          265.2,
          8.4,
          219.8,
          36.9,
          48.3,
          25.6,
          273.7,
          43,
          184.9,
          73.4,
          193.7,
          220.5,
          104.6,
          96.2,
          140.3,
          240.1,
          243.2,
          38,
          44.7,
          280.7,
          121,
          197.6,
          171.3,
          187.8,
          4.1,
          93.9,
          149.8,
          11.7,
          131.7,
          172.5,
          85.7,
          188.4,
          163.5,
          117.2,
          234.5,
          17.9,
          206.8,
          215.4,
          284.3,
          50,
          164.5,
          19.6,
          168.4,
          222.4,
          276.9,
          248.4,
          170.2,
          276.7,
          165.6,
          156.6,
          218.5,
          56.2,
          287.6,
          253.8,
          205,
          139.5,
          191.1,
          286,
          18.7,
          39.5,
          75.5,
          17.2,
          166.8,
          149.7,
          38.2,
          94.2,
          177,
          283.6,
          232.1,
          37.8,
          39.3,
          45.9,
          41.3,
          10.8,
          48.9,
          32.8,
          19.6,
          2.1,
          2.6,
          5.8,
          24,
          35.1,
          7.6,
          32.9,
          47.7,
          36.6,
          39.6,
          20.5,
          23.9,
          27.7,
          5.1,
          15.9,
          16.9,
          12.6,
          3.5,
          29.3,
          16.7,
          27.1,
          16,
          28.3,
          17.4,
          1.5,
          20,
          1.4,
          4.1,
          43.8,
          49.4,
          26.7,
          37.7,
          22.3,
          33.4,
          27.7,
          8.4,
          25.7,
          22.5,
          9.9,
          41.5,
          15.8,
          11.7,
          3.1,
          9.6,
          41.7,
          46.2,
          28.8,
          49.4,
          28.1,
          19.2,
          49.6,
          29.5,
          2,
          42.7,
          15.5,
          29.6,
          42.8,
          9.3,
          24.6,
          14.5,
          27.5,
          43.9,
          30.6,
          14.3,
          33,
          5.7,
          24.6,
          43.7,
          1.6,
          28.5,
          29.9,
          7.7,
          26.7,
          4.1,
          20.3,
          44.5,
          43,
          18.4,
          27.5,
          40.6,
          25.5,
          47.8,
          4.9,
          1.5,
          33.5,
          36.5,
          14,
          31.6,
          3.5,
          21,
          42.3,
          41.7,
          4.3,
          36.3,
          10.1,
          17.2,
          34.3,
          46.4,
          11,
          0.3,
          0.4,
          26.9,
          8.2,
          38,
          15.4,
          20.6,
          46.8,
          35,
          14.3,
          0.8,
          36.9,
          16,
          26.8,
          21.7,
          2.4,
          34.6,
          32.3,
          11.8,
          38.9,
          0,
          49,
          12,
          39.6,
          2.9,
          27.2,
          33.5,
          38.6,
          47,
          39,
          28.9,
          25.9,
          43.9,
          17,
          35.4,
          33.2,
          5.7,
          14.8,
          1.9,
          7.3,
          49,
          40.3,
          25.8,
          13.9,
          8.4,
          23.3,
          39.7,
          21.1,
          11.6,
          43.5,
          1.3,
          36.9,
          18.4,
          18.1,
          35.8,
          18.1,
          36.8,
          14.7,
          3.4,
          37.6,
          5.2,
          23.6,
          10.6,
          11.6,
          20.9,
          20.1,
          7.1,
          3.4,
          48.9,
          30.2,
          7.8,
          2.3,
          10,
          2.6,
          5.4,
          5.7,
          43,
          21.3,
          45.1,
          2.1,
          28.7,
          13.9,
          12.1,
          41.1,
          10.8,
          4.1,
          42,
          35.6,
          3.7,
          4.9,
          9.3,
          42,
          8.6,
          69.2,
          45.1,
          69.3,
          58.5,
          58.4,
          75,
          23.5,
          11.6,
          1,
          21.2,
          24.2,
          4,
          65.9,
          7.2,
          46,
          52.9,
          114,
          55.8,
          18.3,
          19.1,
          53.4,
          23.5,
          49.6,
          26.2,
          18.3,
          19.5,
          12.6,
          22.9,
          22.9,
          40.8,
          43.2,
          38.6,
          30,
          0.3,
          7.4,
          8.5,
          5,
          45.7,
          35.1,
          32,
          31.6,
          38.7,
          1.8,
          26.4,
          43.3,
          31.5,
          35.7,
          18.5,
          49.9,
          36.8,
          34.6,
          3.6,
          39.6,
          58.7,
          15.9,
          60,
          41.4,
          16.6,
          37.7,
          9.3,
          21.4,
          54.7,
          27.3,
          8.4,
          28.9,
          0.9,
          2.2,
          10.2,
          11,
          27.2,
          38.7,
          31.7,
          19.3,
          31.3,
          13.1,
          89.4,
          20.7,
          14.2,
          9.4,
          23.1,
          22.3,
          36.9,
          32.5,
          35.6,
          33.8,
          65.7,
          16,
          63.2,
          73.4,
          51.4,
          9.3,
          33,
          59,
          72.3,
          10.9,
          52.9,
          5.9,
          22,
          51.2,
          45.9,
          49.8,
          100.9,
          21.4,
          17.9,
          5.3,
          59,
          29.7,
          23.2,
          25.6,
          5.5,
          56.5,
          23.2,
          2.4,
          10.7,
          34.5,
          52.7,
          25.6,
          14.8,
          79.2,
          22.3,
          46.2,
          50.4,
          15.6,
          12.4,
          74.2,
          25.9,
          50.6,
          9.2,
          3.2,
          43.1,
          8.7,
          43,
          2.1,
          45.1,
          65.6,
          8.5,
          9.3,
          59.7,
          20.5,
          1.7,
          12.9,
          75.6,
          37.9,
          34.4,
          38.9,
          9,
          8.7,
          44.3,
          11.9,
          20.6,
          37,
          48.7,
          14.2,
          37.7,
          9.5,
          5.7,
          50.5,
          24.3,
          45.2,
          34.6,
          30.7,
          49.3,
          25.6,
          7.4,
          5.4,
          84.8,
          21.6,
          19.4,
          57.6,
          6.4,
          18.4,
          47.4,
          17,
          12.8,
          13.1,
          41.8,
          20.3,
          35.2,
          23.7,
          17.6,
          8.3,
          27.4,
          29.7,
          71.8,
          30,
          19.6,
          26.6,
          18.2,
          3.7,
          23.4,
          5.8,
          6,
          31.6,
          3.6,
          6,
          13.8,
          8.1,
          6.4,
          66.2,
          8.7,
          22.1,
          10.4,
          12,
          16.5,
          17.9,
          7.2,
          11.8,
          13.2,
          4.8,
          15.6,
          12.6,
          17.4,
          9.2,
          13.7,
          19,
          22.4,
          12.5,
          24.4,
          11.3,
          14.6,
          18,
          17.5,
          5.6,
          20.5,
          9.7,
          17,
          15,
          20.9,
          18.9,
          10.5,
          21.4,
          11.9,
          13.2,
          17.4,
          11.9,
          17.8,
          25.4,
          14.7,
          10.1,
          21.5,
          16.6,
          17.1,
          20.7,
          17.9,
          8.5,
          16.1,
          10.6,
          23.2,
          19.8,
          9.7,
          16.4,
          10.7,
          22.6,
          21.2,
          20.2,
          23.7,
          5.5,
          13.2,
          23.8,
          18.4,
          8.1,
          24.2,
          20.7,
          14,
          16,
          11.3,
          11,
          13.4,
          18.9,
          22.3,
          18.3,
          12.4,
          8.8,
          11,
          17,
          8.7,
          6.9,
          14.2,
          5.3,
          11,
          11.8,
          17.3,
          11.3,
          13.6,
          21.7,
          20.2,
          12,
          16,
          12.9,
          16.7,
          14,
          7.3,
          19.4,
          22.2,
          11.5,
          16.9,
          16.7,
          20.5,
          25.4,
          17.2,
          16.7,
          23.8,
          19.8,
          19.7,
          20.7,
          15,
          7.2,
          12,
          5.3,
          19.8,
          18.4,
          21.8,
          17.1,
          20.9,
          14.6,
          12.6,
          12.2,
          9.4,
          15.9,
          6.6,
          15.5,
          7,
          16.6,
          15.2,
          19.7,
          10.6,
          6.6,
          11.9,
          24.7,
          9.7,
          1.6,
          17.7,
          5.7,
          19.6,
          10.8,
          11.6,
          9.5,
          20.8,
          9.6,
          20.7,
          10.9,
          19.2,
          20.1,
          10.4,
          12.3,
          10.3,
          18.2,
          25.4,
          10.9,
          10.1,
          16.1,
          11.6,
          16.6,
          16,
          20.6,
          3.2,
          15.3,
          10.1,
          7.3,
          12.9,
          16.4,
          13.3,
          19.9,
          18,
          11.9,
          16.9,
          8,
          17.2,
          17.1,
          20,
          8.4,
          17.5,
          7.6,
          16.7,
          16.5,
          27,
          20.2,
          16.7,
          16.8,
          17.6,
          15.5,
          17.2,
          8.7,
          26.2,
          17.6,
          22.6,
          10.3,
          17.3,
          20.9,
          6.7,
          10.8,
          11.9,
          5.9,
          19.6,
          17.3,
          7.6,
          14,
          14.8,
          25.5,
          18.4
         ],
         "y0": " ",
         "yaxis": "y"
        }
       ],
       "layout": {
        "boxmode": "group",
        "legend": {
         "tracegroupgap": 0
        },
        "margin": {
         "t": 60
        },
        "template": {
         "data": {
          "bar": [
           {
            "error_x": {
             "color": "#2a3f5f"
            },
            "error_y": {
             "color": "#2a3f5f"
            },
            "marker": {
             "line": {
              "color": "#E5ECF6",
              "width": 0.5
             },
             "pattern": {
              "fillmode": "overlay",
              "size": 10,
              "solidity": 0.2
             }
            },
            "type": "bar"
           }
          ],
          "barpolar": [
           {
            "marker": {
             "line": {
              "color": "#E5ECF6",
              "width": 0.5
             },
             "pattern": {
              "fillmode": "overlay",
              "size": 10,
              "solidity": 0.2
             }
            },
            "type": "barpolar"
           }
          ],
          "carpet": [
           {
            "aaxis": {
             "endlinecolor": "#2a3f5f",
             "gridcolor": "white",
             "linecolor": "white",
             "minorgridcolor": "white",
             "startlinecolor": "#2a3f5f"
            },
            "baxis": {
             "endlinecolor": "#2a3f5f",
             "gridcolor": "white",
             "linecolor": "white",
             "minorgridcolor": "white",
             "startlinecolor": "#2a3f5f"
            },
            "type": "carpet"
           }
          ],
          "choropleth": [
           {
            "colorbar": {
             "outlinewidth": 0,
             "ticks": ""
            },
            "type": "choropleth"
           }
          ],
          "contour": [
           {
            "colorbar": {
             "outlinewidth": 0,
             "ticks": ""
            },
            "colorscale": [
             [
              0,
              "#0d0887"
             ],
             [
              0.1111111111111111,
              "#46039f"
             ],
             [
              0.2222222222222222,
              "#7201a8"
             ],
             [
              0.3333333333333333,
              "#9c179e"
             ],
             [
              0.4444444444444444,
              "#bd3786"
             ],
             [
              0.5555555555555556,
              "#d8576b"
             ],
             [
              0.6666666666666666,
              "#ed7953"
             ],
             [
              0.7777777777777778,
              "#fb9f3a"
             ],
             [
              0.8888888888888888,
              "#fdca26"
             ],
             [
              1,
              "#f0f921"
             ]
            ],
            "type": "contour"
           }
          ],
          "contourcarpet": [
           {
            "colorbar": {
             "outlinewidth": 0,
             "ticks": ""
            },
            "type": "contourcarpet"
           }
          ],
          "heatmap": [
           {
            "colorbar": {
             "outlinewidth": 0,
             "ticks": ""
            },
            "colorscale": [
             [
              0,
              "#0d0887"
             ],
             [
              0.1111111111111111,
              "#46039f"
             ],
             [
              0.2222222222222222,
              "#7201a8"
             ],
             [
              0.3333333333333333,
              "#9c179e"
             ],
             [
              0.4444444444444444,
              "#bd3786"
             ],
             [
              0.5555555555555556,
              "#d8576b"
             ],
             [
              0.6666666666666666,
              "#ed7953"
             ],
             [
              0.7777777777777778,
              "#fb9f3a"
             ],
             [
              0.8888888888888888,
              "#fdca26"
             ],
             [
              1,
              "#f0f921"
             ]
            ],
            "type": "heatmap"
           }
          ],
          "heatmapgl": [
           {
            "colorbar": {
             "outlinewidth": 0,
             "ticks": ""
            },
            "colorscale": [
             [
              0,
              "#0d0887"
             ],
             [
              0.1111111111111111,
              "#46039f"
             ],
             [
              0.2222222222222222,
              "#7201a8"
             ],
             [
              0.3333333333333333,
              "#9c179e"
             ],
             [
              0.4444444444444444,
              "#bd3786"
             ],
             [
              0.5555555555555556,
              "#d8576b"
             ],
             [
              0.6666666666666666,
              "#ed7953"
             ],
             [
              0.7777777777777778,
              "#fb9f3a"
             ],
             [
              0.8888888888888888,
              "#fdca26"
             ],
             [
              1,
              "#f0f921"
             ]
            ],
            "type": "heatmapgl"
           }
          ],
          "histogram": [
           {
            "marker": {
             "pattern": {
              "fillmode": "overlay",
              "size": 10,
              "solidity": 0.2
             }
            },
            "type": "histogram"
           }
          ],
          "histogram2d": [
           {
            "colorbar": {
             "outlinewidth": 0,
             "ticks": ""
            },
            "colorscale": [
             [
              0,
              "#0d0887"
             ],
             [
              0.1111111111111111,
              "#46039f"
             ],
             [
              0.2222222222222222,
              "#7201a8"
             ],
             [
              0.3333333333333333,
              "#9c179e"
             ],
             [
              0.4444444444444444,
              "#bd3786"
             ],
             [
              0.5555555555555556,
              "#d8576b"
             ],
             [
              0.6666666666666666,
              "#ed7953"
             ],
             [
              0.7777777777777778,
              "#fb9f3a"
             ],
             [
              0.8888888888888888,
              "#fdca26"
             ],
             [
              1,
              "#f0f921"
             ]
            ],
            "type": "histogram2d"
           }
          ],
          "histogram2dcontour": [
           {
            "colorbar": {
             "outlinewidth": 0,
             "ticks": ""
            },
            "colorscale": [
             [
              0,
              "#0d0887"
             ],
             [
              0.1111111111111111,
              "#46039f"
             ],
             [
              0.2222222222222222,
              "#7201a8"
             ],
             [
              0.3333333333333333,
              "#9c179e"
             ],
             [
              0.4444444444444444,
              "#bd3786"
             ],
             [
              0.5555555555555556,
              "#d8576b"
             ],
             [
              0.6666666666666666,
              "#ed7953"
             ],
             [
              0.7777777777777778,
              "#fb9f3a"
             ],
             [
              0.8888888888888888,
              "#fdca26"
             ],
             [
              1,
              "#f0f921"
             ]
            ],
            "type": "histogram2dcontour"
           }
          ],
          "mesh3d": [
           {
            "colorbar": {
             "outlinewidth": 0,
             "ticks": ""
            },
            "type": "mesh3d"
           }
          ],
          "parcoords": [
           {
            "line": {
             "colorbar": {
              "outlinewidth": 0,
              "ticks": ""
             }
            },
            "type": "parcoords"
           }
          ],
          "pie": [
           {
            "automargin": true,
            "type": "pie"
           }
          ],
          "scatter": [
           {
            "fillpattern": {
             "fillmode": "overlay",
             "size": 10,
             "solidity": 0.2
            },
            "type": "scatter"
           }
          ],
          "scatter3d": [
           {
            "line": {
             "colorbar": {
              "outlinewidth": 0,
              "ticks": ""
             }
            },
            "marker": {
             "colorbar": {
              "outlinewidth": 0,
              "ticks": ""
             }
            },
            "type": "scatter3d"
           }
          ],
          "scattercarpet": [
           {
            "marker": {
             "colorbar": {
              "outlinewidth": 0,
              "ticks": ""
             }
            },
            "type": "scattercarpet"
           }
          ],
          "scattergeo": [
           {
            "marker": {
             "colorbar": {
              "outlinewidth": 0,
              "ticks": ""
             }
            },
            "type": "scattergeo"
           }
          ],
          "scattergl": [
           {
            "marker": {
             "colorbar": {
              "outlinewidth": 0,
              "ticks": ""
             }
            },
            "type": "scattergl"
           }
          ],
          "scattermapbox": [
           {
            "marker": {
             "colorbar": {
              "outlinewidth": 0,
              "ticks": ""
             }
            },
            "type": "scattermapbox"
           }
          ],
          "scatterpolar": [
           {
            "marker": {
             "colorbar": {
              "outlinewidth": 0,
              "ticks": ""
             }
            },
            "type": "scatterpolar"
           }
          ],
          "scatterpolargl": [
           {
            "marker": {
             "colorbar": {
              "outlinewidth": 0,
              "ticks": ""
             }
            },
            "type": "scatterpolargl"
           }
          ],
          "scatterternary": [
           {
            "marker": {
             "colorbar": {
              "outlinewidth": 0,
              "ticks": ""
             }
            },
            "type": "scatterternary"
           }
          ],
          "surface": [
           {
            "colorbar": {
             "outlinewidth": 0,
             "ticks": ""
            },
            "colorscale": [
             [
              0,
              "#0d0887"
             ],
             [
              0.1111111111111111,
              "#46039f"
             ],
             [
              0.2222222222222222,
              "#7201a8"
             ],
             [
              0.3333333333333333,
              "#9c179e"
             ],
             [
              0.4444444444444444,
              "#bd3786"
             ],
             [
              0.5555555555555556,
              "#d8576b"
             ],
             [
              0.6666666666666666,
              "#ed7953"
             ],
             [
              0.7777777777777778,
              "#fb9f3a"
             ],
             [
              0.8888888888888888,
              "#fdca26"
             ],
             [
              1,
              "#f0f921"
             ]
            ],
            "type": "surface"
           }
          ],
          "table": [
           {
            "cells": {
             "fill": {
              "color": "#EBF0F8"
             },
             "line": {
              "color": "white"
             }
            },
            "header": {
             "fill": {
              "color": "#C8D4E3"
             },
             "line": {
              "color": "white"
             }
            },
            "type": "table"
           }
          ]
         },
         "layout": {
          "annotationdefaults": {
           "arrowcolor": "#2a3f5f",
           "arrowhead": 0,
           "arrowwidth": 1
          },
          "autotypenumbers": "strict",
          "coloraxis": {
           "colorbar": {
            "outlinewidth": 0,
            "ticks": ""
           }
          },
          "colorscale": {
           "diverging": [
            [
             0,
             "#8e0152"
            ],
            [
             0.1,
             "#c51b7d"
            ],
            [
             0.2,
             "#de77ae"
            ],
            [
             0.3,
             "#f1b6da"
            ],
            [
             0.4,
             "#fde0ef"
            ],
            [
             0.5,
             "#f7f7f7"
            ],
            [
             0.6,
             "#e6f5d0"
            ],
            [
             0.7,
             "#b8e186"
            ],
            [
             0.8,
             "#7fbc41"
            ],
            [
             0.9,
             "#4d9221"
            ],
            [
             1,
             "#276419"
            ]
           ],
           "sequential": [
            [
             0,
             "#0d0887"
            ],
            [
             0.1111111111111111,
             "#46039f"
            ],
            [
             0.2222222222222222,
             "#7201a8"
            ],
            [
             0.3333333333333333,
             "#9c179e"
            ],
            [
             0.4444444444444444,
             "#bd3786"
            ],
            [
             0.5555555555555556,
             "#d8576b"
            ],
            [
             0.6666666666666666,
             "#ed7953"
            ],
            [
             0.7777777777777778,
             "#fb9f3a"
            ],
            [
             0.8888888888888888,
             "#fdca26"
            ],
            [
             1,
             "#f0f921"
            ]
           ],
           "sequentialminus": [
            [
             0,
             "#0d0887"
            ],
            [
             0.1111111111111111,
             "#46039f"
            ],
            [
             0.2222222222222222,
             "#7201a8"
            ],
            [
             0.3333333333333333,
             "#9c179e"
            ],
            [
             0.4444444444444444,
             "#bd3786"
            ],
            [
             0.5555555555555556,
             "#d8576b"
            ],
            [
             0.6666666666666666,
             "#ed7953"
            ],
            [
             0.7777777777777778,
             "#fb9f3a"
            ],
            [
             0.8888888888888888,
             "#fdca26"
            ],
            [
             1,
             "#f0f921"
            ]
           ]
          },
          "colorway": [
           "#636efa",
           "#EF553B",
           "#00cc96",
           "#ab63fa",
           "#FFA15A",
           "#19d3f3",
           "#FF6692",
           "#B6E880",
           "#FF97FF",
           "#FECB52"
          ],
          "font": {
           "color": "#2a3f5f"
          },
          "geo": {
           "bgcolor": "white",
           "lakecolor": "white",
           "landcolor": "#E5ECF6",
           "showlakes": true,
           "showland": true,
           "subunitcolor": "white"
          },
          "hoverlabel": {
           "align": "left"
          },
          "hovermode": "closest",
          "mapbox": {
           "style": "light"
          },
          "paper_bgcolor": "white",
          "plot_bgcolor": "#E5ECF6",
          "polar": {
           "angularaxis": {
            "gridcolor": "white",
            "linecolor": "white",
            "ticks": ""
           },
           "bgcolor": "#E5ECF6",
           "radialaxis": {
            "gridcolor": "white",
            "linecolor": "white",
            "ticks": ""
           }
          },
          "scene": {
           "xaxis": {
            "backgroundcolor": "#E5ECF6",
            "gridcolor": "white",
            "gridwidth": 2,
            "linecolor": "white",
            "showbackground": true,
            "ticks": "",
            "zerolinecolor": "white"
           },
           "yaxis": {
            "backgroundcolor": "#E5ECF6",
            "gridcolor": "white",
            "gridwidth": 2,
            "linecolor": "white",
            "showbackground": true,
            "ticks": "",
            "zerolinecolor": "white"
           },
           "zaxis": {
            "backgroundcolor": "#E5ECF6",
            "gridcolor": "white",
            "gridwidth": 2,
            "linecolor": "white",
            "showbackground": true,
            "ticks": "",
            "zerolinecolor": "white"
           }
          },
          "shapedefaults": {
           "line": {
            "color": "#2a3f5f"
           }
          },
          "ternary": {
           "aaxis": {
            "gridcolor": "white",
            "linecolor": "white",
            "ticks": ""
           },
           "baxis": {
            "gridcolor": "white",
            "linecolor": "white",
            "ticks": ""
           },
           "bgcolor": "#E5ECF6",
           "caxis": {
            "gridcolor": "white",
            "linecolor": "white",
            "ticks": ""
           }
          },
          "title": {
           "x": 0.05
          },
          "xaxis": {
           "automargin": true,
           "gridcolor": "white",
           "linecolor": "white",
           "ticks": "",
           "title": {
            "standoff": 15
           },
           "zerolinecolor": "white",
           "zerolinewidth": 2
          },
          "yaxis": {
           "automargin": true,
           "gridcolor": "white",
           "linecolor": "white",
           "ticks": "",
           "title": {
            "standoff": 15
           },
           "zerolinecolor": "white",
           "zerolinewidth": 2
          }
         }
        },
        "xaxis": {
         "anchor": "y",
         "domain": [
          0,
          1
         ],
         "title": {
          "text": "variable"
         }
        },
        "yaxis": {
         "anchor": "x",
         "domain": [
          0,
          1
         ],
         "title": {
          "text": "value"
         }
        }
       }
      }
     },
     "metadata": {},
     "output_type": "display_data"
    },
    {
     "data": {
      "image/png": "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",
      "text/plain": [
       "<Figure size 640x480 with 1 Axes>"
      ]
     },
     "metadata": {},
     "output_type": "display_data"
    }
   ],
   "source": [
    "salesBox=sns.boxplot(df) \n",
    "# plt.annotate('Outliers Found',)\n",
    "salesBox=px.box(df)\n",
    "salesBox"
   ]
  },
  {
   "cell_type": "markdown",
   "metadata": {},
   "source": [
    "Ouliters found in Newspaper coloumn only"
   ]
  },
  {
   "cell_type": "code",
   "execution_count": 176,
   "metadata": {},
   "outputs": [
    {
     "data": {
      "application/vnd.plotly.v1+json": {
       "config": {
        "plotlyServerURL": "https://plot.ly"
       },
       "data": [
        {
         "hovertemplate": "Newspaper=%{x}<br>TV=%{y}<br>Radio=%{z}<br>Sales=%{marker.color}<extra></extra>",
         "legendgroup": "",
         "marker": {
          "color": [
           22.1,
           10.4,
           12,
           16.5,
           17.9,
           7.2,
           11.8,
           13.2,
           4.8,
           15.6,
           12.6,
           17.4,
           9.2,
           13.7,
           19,
           22.4,
           12.5,
           24.4,
           11.3,
           14.6,
           18,
           17.5,
           5.6,
           20.5,
           9.7,
           17,
           15,
           20.9,
           18.9,
           10.5,
           21.4,
           11.9,
           13.2,
           17.4,
           11.9,
           17.8,
           25.4,
           14.7,
           10.1,
           21.5,
           16.6,
           17.1,
           20.7,
           17.9,
           8.5,
           16.1,
           10.6,
           23.2,
           19.8,
           9.7,
           16.4,
           10.7,
           22.6,
           21.2,
           20.2,
           23.7,
           5.5,
           13.2,
           23.8,
           18.4,
           8.1,
           24.2,
           20.7,
           14,
           16,
           11.3,
           11,
           13.4,
           18.9,
           22.3,
           18.3,
           12.4,
           8.8,
           11,
           17,
           8.7,
           6.9,
           14.2,
           5.3,
           11,
           11.8,
           17.3,
           11.3,
           13.6,
           21.7,
           20.2,
           12,
           16,
           12.9,
           16.7,
           14,
           7.3,
           19.4,
           22.2,
           11.5,
           16.9,
           16.7,
           20.5,
           25.4,
           17.2,
           16.7,
           23.8,
           19.8,
           19.7,
           20.7,
           15,
           7.2,
           12,
           5.3,
           19.8,
           18.4,
           21.8,
           17.1,
           20.9,
           14.6,
           12.6,
           12.2,
           9.4,
           15.9,
           6.6,
           15.5,
           7,
           16.6,
           15.2,
           19.7,
           10.6,
           6.6,
           11.9,
           24.7,
           9.7,
           1.6,
           17.7,
           5.7,
           19.6,
           10.8,
           11.6,
           9.5,
           20.8,
           9.6,
           20.7,
           10.9,
           19.2,
           20.1,
           10.4,
           12.3,
           10.3,
           18.2,
           25.4,
           10.9,
           10.1,
           16.1,
           11.6,
           16.6,
           16,
           20.6,
           3.2,
           15.3,
           10.1,
           7.3,
           12.9,
           16.4,
           13.3,
           19.9,
           18,
           11.9,
           16.9,
           8,
           17.2,
           17.1,
           20,
           8.4,
           17.5,
           7.6,
           16.7,
           16.5,
           27,
           20.2,
           16.7,
           16.8,
           17.6,
           15.5,
           17.2,
           8.7,
           26.2,
           17.6,
           22.6,
           10.3,
           17.3,
           20.9,
           6.7,
           10.8,
           11.9,
           5.9,
           19.6,
           17.3,
           7.6,
           14,
           14.8,
           25.5,
           18.4
          ],
          "coloraxis": "coloraxis",
          "symbol": "circle"
         },
         "mode": "markers",
         "name": "",
         "scene": "scene",
         "showlegend": false,
         "type": "scatter3d",
         "x": [
          69.2,
          45.1,
          69.3,
          58.5,
          58.4,
          75,
          23.5,
          11.6,
          1,
          21.2,
          24.2,
          4,
          65.9,
          7.2,
          46,
          52.9,
          114,
          55.8,
          18.3,
          19.1,
          53.4,
          23.5,
          49.6,
          26.2,
          18.3,
          19.5,
          12.6,
          22.9,
          22.9,
          40.8,
          43.2,
          38.6,
          30,
          0.3,
          7.4,
          8.5,
          5,
          45.7,
          35.1,
          32,
          31.6,
          38.7,
          1.8,
          26.4,
          43.3,
          31.5,
          35.7,
          18.5,
          49.9,
          36.8,
          34.6,
          3.6,
          39.6,
          58.7,
          15.9,
          60,
          41.4,
          16.6,
          37.7,
          9.3,
          21.4,
          54.7,
          27.3,
          8.4,
          28.9,
          0.9,
          2.2,
          10.2,
          11,
          27.2,
          38.7,
          31.7,
          19.3,
          31.3,
          13.1,
          89.4,
          20.7,
          14.2,
          9.4,
          23.1,
          22.3,
          36.9,
          32.5,
          35.6,
          33.8,
          65.7,
          16,
          63.2,
          73.4,
          51.4,
          9.3,
          33,
          59,
          72.3,
          10.9,
          52.9,
          5.9,
          22,
          51.2,
          45.9,
          49.8,
          100.9,
          21.4,
          17.9,
          5.3,
          59,
          29.7,
          23.2,
          25.6,
          5.5,
          56.5,
          23.2,
          2.4,
          10.7,
          34.5,
          52.7,
          25.6,
          14.8,
          79.2,
          22.3,
          46.2,
          50.4,
          15.6,
          12.4,
          74.2,
          25.9,
          50.6,
          9.2,
          3.2,
          43.1,
          8.7,
          43,
          2.1,
          45.1,
          65.6,
          8.5,
          9.3,
          59.7,
          20.5,
          1.7,
          12.9,
          75.6,
          37.9,
          34.4,
          38.9,
          9,
          8.7,
          44.3,
          11.9,
          20.6,
          37,
          48.7,
          14.2,
          37.7,
          9.5,
          5.7,
          50.5,
          24.3,
          45.2,
          34.6,
          30.7,
          49.3,
          25.6,
          7.4,
          5.4,
          84.8,
          21.6,
          19.4,
          57.6,
          6.4,
          18.4,
          47.4,
          17,
          12.8,
          13.1,
          41.8,
          20.3,
          35.2,
          23.7,
          17.6,
          8.3,
          27.4,
          29.7,
          71.8,
          30,
          19.6,
          26.6,
          18.2,
          3.7,
          23.4,
          5.8,
          6,
          31.6,
          3.6,
          6,
          13.8,
          8.1,
          6.4,
          66.2,
          8.7
         ],
         "y": [
          230.1,
          44.5,
          17.2,
          151.5,
          180.8,
          8.7,
          57.5,
          120.2,
          8.6,
          199.8,
          66.1,
          214.7,
          23.8,
          97.5,
          204.1,
          195.4,
          67.8,
          281.4,
          69.2,
          147.3,
          218.4,
          237.4,
          13.2,
          228.3,
          62.3,
          262.9,
          142.9,
          240.1,
          248.8,
          70.6,
          292.9,
          112.9,
          97.2,
          265.6,
          95.7,
          290.7,
          266.9,
          74.7,
          43.1,
          228,
          202.5,
          177,
          293.6,
          206.9,
          25.1,
          175.1,
          89.7,
          239.9,
          227.2,
          66.9,
          199.8,
          100.4,
          216.4,
          182.6,
          262.7,
          198.9,
          7.3,
          136.2,
          210.8,
          210.7,
          53.5,
          261.3,
          239.3,
          102.7,
          131.1,
          69,
          31.5,
          139.3,
          237.4,
          216.8,
          199.1,
          109.8,
          26.8,
          129.4,
          213.4,
          16.9,
          27.5,
          120.5,
          5.4,
          116,
          76.4,
          239.8,
          75.3,
          68.4,
          213.5,
          193.2,
          76.3,
          110.7,
          88.3,
          109.8,
          134.3,
          28.6,
          217.7,
          250.9,
          107.4,
          163.3,
          197.6,
          184.9,
          289.7,
          135.2,
          222.4,
          296.4,
          280.2,
          187.9,
          238.2,
          137.9,
          25,
          90.4,
          13.1,
          255.4,
          225.8,
          241.7,
          175.7,
          209.6,
          78.2,
          75.1,
          139.2,
          76.4,
          125.7,
          19.4,
          141.3,
          18.8,
          224,
          123.1,
          229.5,
          87.2,
          7.8,
          80.2,
          220.3,
          59.6,
          0.7,
          265.2,
          8.4,
          219.8,
          36.9,
          48.3,
          25.6,
          273.7,
          43,
          184.9,
          73.4,
          193.7,
          220.5,
          104.6,
          96.2,
          140.3,
          240.1,
          243.2,
          38,
          44.7,
          280.7,
          121,
          197.6,
          171.3,
          187.8,
          4.1,
          93.9,
          149.8,
          11.7,
          131.7,
          172.5,
          85.7,
          188.4,
          163.5,
          117.2,
          234.5,
          17.9,
          206.8,
          215.4,
          284.3,
          50,
          164.5,
          19.6,
          168.4,
          222.4,
          276.9,
          248.4,
          170.2,
          276.7,
          165.6,
          156.6,
          218.5,
          56.2,
          287.6,
          253.8,
          205,
          139.5,
          191.1,
          286,
          18.7,
          39.5,
          75.5,
          17.2,
          166.8,
          149.7,
          38.2,
          94.2,
          177,
          283.6,
          232.1
         ],
         "z": [
          37.8,
          39.3,
          45.9,
          41.3,
          10.8,
          48.9,
          32.8,
          19.6,
          2.1,
          2.6,
          5.8,
          24,
          35.1,
          7.6,
          32.9,
          47.7,
          36.6,
          39.6,
          20.5,
          23.9,
          27.7,
          5.1,
          15.9,
          16.9,
          12.6,
          3.5,
          29.3,
          16.7,
          27.1,
          16,
          28.3,
          17.4,
          1.5,
          20,
          1.4,
          4.1,
          43.8,
          49.4,
          26.7,
          37.7,
          22.3,
          33.4,
          27.7,
          8.4,
          25.7,
          22.5,
          9.9,
          41.5,
          15.8,
          11.7,
          3.1,
          9.6,
          41.7,
          46.2,
          28.8,
          49.4,
          28.1,
          19.2,
          49.6,
          29.5,
          2,
          42.7,
          15.5,
          29.6,
          42.8,
          9.3,
          24.6,
          14.5,
          27.5,
          43.9,
          30.6,
          14.3,
          33,
          5.7,
          24.6,
          43.7,
          1.6,
          28.5,
          29.9,
          7.7,
          26.7,
          4.1,
          20.3,
          44.5,
          43,
          18.4,
          27.5,
          40.6,
          25.5,
          47.8,
          4.9,
          1.5,
          33.5,
          36.5,
          14,
          31.6,
          3.5,
          21,
          42.3,
          41.7,
          4.3,
          36.3,
          10.1,
          17.2,
          34.3,
          46.4,
          11,
          0.3,
          0.4,
          26.9,
          8.2,
          38,
          15.4,
          20.6,
          46.8,
          35,
          14.3,
          0.8,
          36.9,
          16,
          26.8,
          21.7,
          2.4,
          34.6,
          32.3,
          11.8,
          38.9,
          0,
          49,
          12,
          39.6,
          2.9,
          27.2,
          33.5,
          38.6,
          47,
          39,
          28.9,
          25.9,
          43.9,
          17,
          35.4,
          33.2,
          5.7,
          14.8,
          1.9,
          7.3,
          49,
          40.3,
          25.8,
          13.9,
          8.4,
          23.3,
          39.7,
          21.1,
          11.6,
          43.5,
          1.3,
          36.9,
          18.4,
          18.1,
          35.8,
          18.1,
          36.8,
          14.7,
          3.4,
          37.6,
          5.2,
          23.6,
          10.6,
          11.6,
          20.9,
          20.1,
          7.1,
          3.4,
          48.9,
          30.2,
          7.8,
          2.3,
          10,
          2.6,
          5.4,
          5.7,
          43,
          21.3,
          45.1,
          2.1,
          28.7,
          13.9,
          12.1,
          41.1,
          10.8,
          4.1,
          42,
          35.6,
          3.7,
          4.9,
          9.3,
          42,
          8.6
         ]
        }
       ],
       "layout": {
        "coloraxis": {
         "colorbar": {
          "title": {
           "text": "Sales"
          }
         },
         "colorscale": [
          [
           0,
           "#0d0887"
          ],
          [
           0.1111111111111111,
           "#46039f"
          ],
          [
           0.2222222222222222,
           "#7201a8"
          ],
          [
           0.3333333333333333,
           "#9c179e"
          ],
          [
           0.4444444444444444,
           "#bd3786"
          ],
          [
           0.5555555555555556,
           "#d8576b"
          ],
          [
           0.6666666666666666,
           "#ed7953"
          ],
          [
           0.7777777777777778,
           "#fb9f3a"
          ],
          [
           0.8888888888888888,
           "#fdca26"
          ],
          [
           1,
           "#f0f921"
          ]
         ]
        },
        "legend": {
         "tracegroupgap": 0
        },
        "margin": {
         "t": 60
        },
        "scene": {
         "domain": {
          "x": [
           0,
           1
          ],
          "y": [
           0,
           1
          ]
         },
         "xaxis": {
          "title": {
           "text": "Newspaper"
          }
         },
         "yaxis": {
          "title": {
           "text": "TV"
          }
         },
         "zaxis": {
          "title": {
           "text": "Radio"
          }
         }
        },
        "template": {
         "data": {
          "bar": [
           {
            "error_x": {
             "color": "#2a3f5f"
            },
            "error_y": {
             "color": "#2a3f5f"
            },
            "marker": {
             "line": {
              "color": "#E5ECF6",
              "width": 0.5
             },
             "pattern": {
              "fillmode": "overlay",
              "size": 10,
              "solidity": 0.2
             }
            },
            "type": "bar"
           }
          ],
          "barpolar": [
           {
            "marker": {
             "line": {
              "color": "#E5ECF6",
              "width": 0.5
             },
             "pattern": {
              "fillmode": "overlay",
              "size": 10,
              "solidity": 0.2
             }
            },
            "type": "barpolar"
           }
          ],
          "carpet": [
           {
            "aaxis": {
             "endlinecolor": "#2a3f5f",
             "gridcolor": "white",
             "linecolor": "white",
             "minorgridcolor": "white",
             "startlinecolor": "#2a3f5f"
            },
            "baxis": {
             "endlinecolor": "#2a3f5f",
             "gridcolor": "white",
             "linecolor": "white",
             "minorgridcolor": "white",
             "startlinecolor": "#2a3f5f"
            },
            "type": "carpet"
           }
          ],
          "choropleth": [
           {
            "colorbar": {
             "outlinewidth": 0,
             "ticks": ""
            },
            "type": "choropleth"
           }
          ],
          "contour": [
           {
            "colorbar": {
             "outlinewidth": 0,
             "ticks": ""
            },
            "colorscale": [
             [
              0,
              "#0d0887"
             ],
             [
              0.1111111111111111,
              "#46039f"
             ],
             [
              0.2222222222222222,
              "#7201a8"
             ],
             [
              0.3333333333333333,
              "#9c179e"
             ],
             [
              0.4444444444444444,
              "#bd3786"
             ],
             [
              0.5555555555555556,
              "#d8576b"
             ],
             [
              0.6666666666666666,
              "#ed7953"
             ],
             [
              0.7777777777777778,
              "#fb9f3a"
             ],
             [
              0.8888888888888888,
              "#fdca26"
             ],
             [
              1,
              "#f0f921"
             ]
            ],
            "type": "contour"
           }
          ],
          "contourcarpet": [
           {
            "colorbar": {
             "outlinewidth": 0,
             "ticks": ""
            },
            "type": "contourcarpet"
           }
          ],
          "heatmap": [
           {
            "colorbar": {
             "outlinewidth": 0,
             "ticks": ""
            },
            "colorscale": [
             [
              0,
              "#0d0887"
             ],
             [
              0.1111111111111111,
              "#46039f"
             ],
             [
              0.2222222222222222,
              "#7201a8"
             ],
             [
              0.3333333333333333,
              "#9c179e"
             ],
             [
              0.4444444444444444,
              "#bd3786"
             ],
             [
              0.5555555555555556,
              "#d8576b"
             ],
             [
              0.6666666666666666,
              "#ed7953"
             ],
             [
              0.7777777777777778,
              "#fb9f3a"
             ],
             [
              0.8888888888888888,
              "#fdca26"
             ],
             [
              1,
              "#f0f921"
             ]
            ],
            "type": "heatmap"
           }
          ],
          "heatmapgl": [
           {
            "colorbar": {
             "outlinewidth": 0,
             "ticks": ""
            },
            "colorscale": [
             [
              0,
              "#0d0887"
             ],
             [
              0.1111111111111111,
              "#46039f"
             ],
             [
              0.2222222222222222,
              "#7201a8"
             ],
             [
              0.3333333333333333,
              "#9c179e"
             ],
             [
              0.4444444444444444,
              "#bd3786"
             ],
             [
              0.5555555555555556,
              "#d8576b"
             ],
             [
              0.6666666666666666,
              "#ed7953"
             ],
             [
              0.7777777777777778,
              "#fb9f3a"
             ],
             [
              0.8888888888888888,
              "#fdca26"
             ],
             [
              1,
              "#f0f921"
             ]
            ],
            "type": "heatmapgl"
           }
          ],
          "histogram": [
           {
            "marker": {
             "pattern": {
              "fillmode": "overlay",
              "size": 10,
              "solidity": 0.2
             }
            },
            "type": "histogram"
           }
          ],
          "histogram2d": [
           {
            "colorbar": {
             "outlinewidth": 0,
             "ticks": ""
            },
            "colorscale": [
             [
              0,
              "#0d0887"
             ],
             [
              0.1111111111111111,
              "#46039f"
             ],
             [
              0.2222222222222222,
              "#7201a8"
             ],
             [
              0.3333333333333333,
              "#9c179e"
             ],
             [
              0.4444444444444444,
              "#bd3786"
             ],
             [
              0.5555555555555556,
              "#d8576b"
             ],
             [
              0.6666666666666666,
              "#ed7953"
             ],
             [
              0.7777777777777778,
              "#fb9f3a"
             ],
             [
              0.8888888888888888,
              "#fdca26"
             ],
             [
              1,
              "#f0f921"
             ]
            ],
            "type": "histogram2d"
           }
          ],
          "histogram2dcontour": [
           {
            "colorbar": {
             "outlinewidth": 0,
             "ticks": ""
            },
            "colorscale": [
             [
              0,
              "#0d0887"
             ],
             [
              0.1111111111111111,
              "#46039f"
             ],
             [
              0.2222222222222222,
              "#7201a8"
             ],
             [
              0.3333333333333333,
              "#9c179e"
             ],
             [
              0.4444444444444444,
              "#bd3786"
             ],
             [
              0.5555555555555556,
              "#d8576b"
             ],
             [
              0.6666666666666666,
              "#ed7953"
             ],
             [
              0.7777777777777778,
              "#fb9f3a"
             ],
             [
              0.8888888888888888,
              "#fdca26"
             ],
             [
              1,
              "#f0f921"
             ]
            ],
            "type": "histogram2dcontour"
           }
          ],
          "mesh3d": [
           {
            "colorbar": {
             "outlinewidth": 0,
             "ticks": ""
            },
            "type": "mesh3d"
           }
          ],
          "parcoords": [
           {
            "line": {
             "colorbar": {
              "outlinewidth": 0,
              "ticks": ""
             }
            },
            "type": "parcoords"
           }
          ],
          "pie": [
           {
            "automargin": true,
            "type": "pie"
           }
          ],
          "scatter": [
           {
            "fillpattern": {
             "fillmode": "overlay",
             "size": 10,
             "solidity": 0.2
            },
            "type": "scatter"
           }
          ],
          "scatter3d": [
           {
            "line": {
             "colorbar": {
              "outlinewidth": 0,
              "ticks": ""
             }
            },
            "marker": {
             "colorbar": {
              "outlinewidth": 0,
              "ticks": ""
             }
            },
            "type": "scatter3d"
           }
          ],
          "scattercarpet": [
           {
            "marker": {
             "colorbar": {
              "outlinewidth": 0,
              "ticks": ""
             }
            },
            "type": "scattercarpet"
           }
          ],
          "scattergeo": [
           {
            "marker": {
             "colorbar": {
              "outlinewidth": 0,
              "ticks": ""
             }
            },
            "type": "scattergeo"
           }
          ],
          "scattergl": [
           {
            "marker": {
             "colorbar": {
              "outlinewidth": 0,
              "ticks": ""
             }
            },
            "type": "scattergl"
           }
          ],
          "scattermapbox": [
           {
            "marker": {
             "colorbar": {
              "outlinewidth": 0,
              "ticks": ""
             }
            },
            "type": "scattermapbox"
           }
          ],
          "scatterpolar": [
           {
            "marker": {
             "colorbar": {
              "outlinewidth": 0,
              "ticks": ""
             }
            },
            "type": "scatterpolar"
           }
          ],
          "scatterpolargl": [
           {
            "marker": {
             "colorbar": {
              "outlinewidth": 0,
              "ticks": ""
             }
            },
            "type": "scatterpolargl"
           }
          ],
          "scatterternary": [
           {
            "marker": {
             "colorbar": {
              "outlinewidth": 0,
              "ticks": ""
             }
            },
            "type": "scatterternary"
           }
          ],
          "surface": [
           {
            "colorbar": {
             "outlinewidth": 0,
             "ticks": ""
            },
            "colorscale": [
             [
              0,
              "#0d0887"
             ],
             [
              0.1111111111111111,
              "#46039f"
             ],
             [
              0.2222222222222222,
              "#7201a8"
             ],
             [
              0.3333333333333333,
              "#9c179e"
             ],
             [
              0.4444444444444444,
              "#bd3786"
             ],
             [
              0.5555555555555556,
              "#d8576b"
             ],
             [
              0.6666666666666666,
              "#ed7953"
             ],
             [
              0.7777777777777778,
              "#fb9f3a"
             ],
             [
              0.8888888888888888,
              "#fdca26"
             ],
             [
              1,
              "#f0f921"
             ]
            ],
            "type": "surface"
           }
          ],
          "table": [
           {
            "cells": {
             "fill": {
              "color": "#EBF0F8"
             },
             "line": {
              "color": "white"
             }
            },
            "header": {
             "fill": {
              "color": "#C8D4E3"
             },
             "line": {
              "color": "white"
             }
            },
            "type": "table"
           }
          ]
         },
         "layout": {
          "annotationdefaults": {
           "arrowcolor": "#2a3f5f",
           "arrowhead": 0,
           "arrowwidth": 1
          },
          "autotypenumbers": "strict",
          "coloraxis": {
           "colorbar": {
            "outlinewidth": 0,
            "ticks": ""
           }
          },
          "colorscale": {
           "diverging": [
            [
             0,
             "#8e0152"
            ],
            [
             0.1,
             "#c51b7d"
            ],
            [
             0.2,
             "#de77ae"
            ],
            [
             0.3,
             "#f1b6da"
            ],
            [
             0.4,
             "#fde0ef"
            ],
            [
             0.5,
             "#f7f7f7"
            ],
            [
             0.6,
             "#e6f5d0"
            ],
            [
             0.7,
             "#b8e186"
            ],
            [
             0.8,
             "#7fbc41"
            ],
            [
             0.9,
             "#4d9221"
            ],
            [
             1,
             "#276419"
            ]
           ],
           "sequential": [
            [
             0,
             "#0d0887"
            ],
            [
             0.1111111111111111,
             "#46039f"
            ],
            [
             0.2222222222222222,
             "#7201a8"
            ],
            [
             0.3333333333333333,
             "#9c179e"
            ],
            [
             0.4444444444444444,
             "#bd3786"
            ],
            [
             0.5555555555555556,
             "#d8576b"
            ],
            [
             0.6666666666666666,
             "#ed7953"
            ],
            [
             0.7777777777777778,
             "#fb9f3a"
            ],
            [
             0.8888888888888888,
             "#fdca26"
            ],
            [
             1,
             "#f0f921"
            ]
           ],
           "sequentialminus": [
            [
             0,
             "#0d0887"
            ],
            [
             0.1111111111111111,
             "#46039f"
            ],
            [
             0.2222222222222222,
             "#7201a8"
            ],
            [
             0.3333333333333333,
             "#9c179e"
            ],
            [
             0.4444444444444444,
             "#bd3786"
            ],
            [
             0.5555555555555556,
             "#d8576b"
            ],
            [
             0.6666666666666666,
             "#ed7953"
            ],
            [
             0.7777777777777778,
             "#fb9f3a"
            ],
            [
             0.8888888888888888,
             "#fdca26"
            ],
            [
             1,
             "#f0f921"
            ]
           ]
          },
          "colorway": [
           "#636efa",
           "#EF553B",
           "#00cc96",
           "#ab63fa",
           "#FFA15A",
           "#19d3f3",
           "#FF6692",
           "#B6E880",
           "#FF97FF",
           "#FECB52"
          ],
          "font": {
           "color": "#2a3f5f"
          },
          "geo": {
           "bgcolor": "white",
           "lakecolor": "white",
           "landcolor": "#E5ECF6",
           "showlakes": true,
           "showland": true,
           "subunitcolor": "white"
          },
          "hoverlabel": {
           "align": "left"
          },
          "hovermode": "closest",
          "mapbox": {
           "style": "light"
          },
          "paper_bgcolor": "white",
          "plot_bgcolor": "#E5ECF6",
          "polar": {
           "angularaxis": {
            "gridcolor": "white",
            "linecolor": "white",
            "ticks": ""
           },
           "bgcolor": "#E5ECF6",
           "radialaxis": {
            "gridcolor": "white",
            "linecolor": "white",
            "ticks": ""
           }
          },
          "scene": {
           "xaxis": {
            "backgroundcolor": "#E5ECF6",
            "gridcolor": "white",
            "gridwidth": 2,
            "linecolor": "white",
            "showbackground": true,
            "ticks": "",
            "zerolinecolor": "white"
           },
           "yaxis": {
            "backgroundcolor": "#E5ECF6",
            "gridcolor": "white",
            "gridwidth": 2,
            "linecolor": "white",
            "showbackground": true,
            "ticks": "",
            "zerolinecolor": "white"
           },
           "zaxis": {
            "backgroundcolor": "#E5ECF6",
            "gridcolor": "white",
            "gridwidth": 2,
            "linecolor": "white",
            "showbackground": true,
            "ticks": "",
            "zerolinecolor": "white"
           }
          },
          "shapedefaults": {
           "line": {
            "color": "#2a3f5f"
           }
          },
          "ternary": {
           "aaxis": {
            "gridcolor": "white",
            "linecolor": "white",
            "ticks": ""
           },
           "baxis": {
            "gridcolor": "white",
            "linecolor": "white",
            "ticks": ""
           },
           "bgcolor": "#E5ECF6",
           "caxis": {
            "gridcolor": "white",
            "linecolor": "white",
            "ticks": ""
           }
          },
          "title": {
           "x": 0.05
          },
          "xaxis": {
           "automargin": true,
           "gridcolor": "white",
           "linecolor": "white",
           "ticks": "",
           "title": {
            "standoff": 15
           },
           "zerolinecolor": "white",
           "zerolinewidth": 2
          },
          "yaxis": {
           "automargin": true,
           "gridcolor": "white",
           "linecolor": "white",
           "ticks": "",
           "title": {
            "standoff": 15
           },
           "zerolinecolor": "white",
           "zerolinewidth": 2
          }
         }
        }
       }
      }
     },
     "metadata": {},
     "output_type": "display_data"
    }
   ],
   "source": [
    "px.scatter_3d(df,x=\"Newspaper\",y=\"TV\",z=\"Radio\",color=\"Sales\")\n"
   ]
  },
  {
   "cell_type": "markdown",
   "metadata": {},
   "source": [
    "##### Interpretation : \n",
    "- Variable that has strongest correlation with \"Sales\" is \"TV\" followed by \"Radio\";\n",
    "- \"Sales\" increases with the increasing \"TV\" numbers with very good correlation of 0.9;\n",
    "- \"Sales\" also increases with the increae in \"Radio\" numbers but with 0.35 correlation;\n",
    "\n",
    "##### Let's use Linear Regression method predict the Sales based on available data points.\n",
    "Using scikit learn library and Numpy library as supporting library."
   ]
  },
  {
   "cell_type": "code",
   "execution_count": 177,
   "metadata": {},
   "outputs": [
    {
     "data": {
      "text/plain": [
       "4.625124078808657"
      ]
     },
     "execution_count": 177,
     "metadata": {},
     "output_type": "execute_result"
    }
   ],
   "source": [
    "import numpy as np\n",
    "from sklearn.linear_model import LinearRegression\n",
    "X = np.array(list(map(lambda a: a ,[[(x),(y),(z)] for x,y,z in zip(df.Newspaper,df.Radio,df.TV)] )))\n",
    "y = np.array(df.Sales)\n",
    "reg = LinearRegression().fit(X, y)\n",
    "reg.score(X, y)\n",
    "reg.coef_\n",
    "reg.intercept_\n",
    "# reg.predict(np.array([[149.750000,22.900000,25.750000 ]]))"
   ]
  },
  {
   "cell_type": "markdown",
   "metadata": {},
   "source": [
    "Now when I have trhe prediction model lets compare this to the Raw data to check the accuracy."
   ]
  },
  {
   "cell_type": "code",
   "execution_count": 178,
   "metadata": {},
   "outputs": [
    {
     "data": {
      "text/html": [
       "<div>\n",
       "<style scoped>\n",
       "    .dataframe tbody tr th:only-of-type {\n",
       "        vertical-align: middle;\n",
       "    }\n",
       "\n",
       "    .dataframe tbody tr th {\n",
       "        vertical-align: top;\n",
       "    }\n",
       "\n",
       "    .dataframe thead th {\n",
       "        text-align: right;\n",
       "    }\n",
       "</style>\n",
       "<table border=\"1\" class=\"dataframe\">\n",
       "  <thead>\n",
       "    <tr style=\"text-align: right;\">\n",
       "      <th></th>\n",
       "      <th>TV</th>\n",
       "      <th>Radio</th>\n",
       "      <th>Newspaper</th>\n",
       "      <th>Sales</th>\n",
       "      <th>Predicted_Sales</th>\n",
       "    </tr>\n",
       "  </thead>\n",
       "  <tbody>\n",
       "    <tr>\n",
       "      <th>1</th>\n",
       "      <td>44.5</td>\n",
       "      <td>39.3</td>\n",
       "      <td>45.1</td>\n",
       "      <td>10.4</td>\n",
       "      <td>11.27</td>\n",
       "    </tr>\n",
       "    <tr>\n",
       "      <th>2</th>\n",
       "      <td>17.2</td>\n",
       "      <td>45.9</td>\n",
       "      <td>69.3</td>\n",
       "      <td>12.0</td>\n",
       "      <td>10.50</td>\n",
       "    </tr>\n",
       "    <tr>\n",
       "      <th>3</th>\n",
       "      <td>151.5</td>\n",
       "      <td>41.3</td>\n",
       "      <td>58.5</td>\n",
       "      <td>16.5</td>\n",
       "      <td>17.31</td>\n",
       "    </tr>\n",
       "    <tr>\n",
       "      <th>4</th>\n",
       "      <td>180.8</td>\n",
       "      <td>10.8</td>\n",
       "      <td>58.4</td>\n",
       "      <td>17.9</td>\n",
       "      <td>15.64</td>\n",
       "    </tr>\n",
       "    <tr>\n",
       "      <th>5</th>\n",
       "      <td>8.7</td>\n",
       "      <td>48.9</td>\n",
       "      <td>75.0</td>\n",
       "      <td>7.2</td>\n",
       "      <td>10.36</td>\n",
       "    </tr>\n",
       "    <tr>\n",
       "      <th>6</th>\n",
       "      <td>57.5</td>\n",
       "      <td>32.8</td>\n",
       "      <td>23.5</td>\n",
       "      <td>11.8</td>\n",
       "      <td>11.27</td>\n",
       "    </tr>\n",
       "    <tr>\n",
       "      <th>7</th>\n",
       "      <td>120.2</td>\n",
       "      <td>19.6</td>\n",
       "      <td>11.6</td>\n",
       "      <td>13.2</td>\n",
       "      <td>13.27</td>\n",
       "    </tr>\n",
       "    <tr>\n",
       "      <th>8</th>\n",
       "      <td>8.6</td>\n",
       "      <td>2.1</td>\n",
       "      <td>1.0</td>\n",
       "      <td>4.8</td>\n",
       "      <td>5.32</td>\n",
       "    </tr>\n",
       "    <tr>\n",
       "      <th>9</th>\n",
       "      <td>199.8</td>\n",
       "      <td>2.6</td>\n",
       "      <td>21.2</td>\n",
       "      <td>15.6</td>\n",
       "      <td>15.79</td>\n",
       "    </tr>\n",
       "  </tbody>\n",
       "</table>\n",
       "</div>"
      ],
      "text/plain": [
       "      TV  Radio  Newspaper  Sales  Predicted_Sales\n",
       "1   44.5   39.3       45.1   10.4            11.27\n",
       "2   17.2   45.9       69.3   12.0            10.50\n",
       "3  151.5   41.3       58.5   16.5            17.31\n",
       "4  180.8   10.8       58.4   17.9            15.64\n",
       "5    8.7   48.9       75.0    7.2            10.36\n",
       "6   57.5   32.8       23.5   11.8            11.27\n",
       "7  120.2   19.6       11.6   13.2            13.27\n",
       "8    8.6    2.1        1.0    4.8             5.32\n",
       "9  199.8    2.6       21.2   15.6            15.79"
      ]
     },
     "execution_count": 178,
     "metadata": {},
     "output_type": "execute_result"
    }
   ],
   "source": [
    "pred_Sales=list(map(lambda a:round(a,2), reg.predict(np.array(df[[\"Newspaper\",\"Radio\",\"TV\"]]))))\n",
    "df[\"Predicted_Sales\"]=pred_Sales\n",
    "df.iloc[1:10]"
   ]
  },
  {
   "cell_type": "code",
   "execution_count": 179,
   "metadata": {},
   "outputs": [
    {
     "data": {
      "text/html": [
       "<div>\n",
       "<style scoped>\n",
       "    .dataframe tbody tr th:only-of-type {\n",
       "        vertical-align: middle;\n",
       "    }\n",
       "\n",
       "    .dataframe tbody tr th {\n",
       "        vertical-align: top;\n",
       "    }\n",
       "\n",
       "    .dataframe thead th {\n",
       "        text-align: right;\n",
       "    }\n",
       "</style>\n",
       "<table border=\"1\" class=\"dataframe\">\n",
       "  <thead>\n",
       "    <tr style=\"text-align: right;\">\n",
       "      <th></th>\n",
       "      <th>TV</th>\n",
       "      <th>Radio</th>\n",
       "      <th>Newspaper</th>\n",
       "      <th>Sales</th>\n",
       "      <th>Predicted_Sales</th>\n",
       "    </tr>\n",
       "  </thead>\n",
       "  <tbody>\n",
       "    <tr>\n",
       "      <th>TV</th>\n",
       "      <td>1.000000</td>\n",
       "      <td>0.054809</td>\n",
       "      <td>0.056648</td>\n",
       "      <td>0.901208</td>\n",
       "      <td>0.948573</td>\n",
       "    </tr>\n",
       "    <tr>\n",
       "      <th>Radio</th>\n",
       "      <td>0.054809</td>\n",
       "      <td>1.000000</td>\n",
       "      <td>0.354104</td>\n",
       "      <td>0.349631</td>\n",
       "      <td>0.368069</td>\n",
       "    </tr>\n",
       "    <tr>\n",
       "      <th>Newspaper</th>\n",
       "      <td>0.056648</td>\n",
       "      <td>0.354104</td>\n",
       "      <td>1.000000</td>\n",
       "      <td>0.157960</td>\n",
       "      <td>0.166270</td>\n",
       "    </tr>\n",
       "    <tr>\n",
       "      <th>Sales</th>\n",
       "      <td>0.901208</td>\n",
       "      <td>0.349631</td>\n",
       "      <td>0.157960</td>\n",
       "      <td>1.000000</td>\n",
       "      <td>0.950046</td>\n",
       "    </tr>\n",
       "    <tr>\n",
       "      <th>Predicted_Sales</th>\n",
       "      <td>0.948573</td>\n",
       "      <td>0.368069</td>\n",
       "      <td>0.166270</td>\n",
       "      <td>0.950046</td>\n",
       "      <td>1.000000</td>\n",
       "    </tr>\n",
       "  </tbody>\n",
       "</table>\n",
       "</div>"
      ],
      "text/plain": [
       "                       TV     Radio  Newspaper     Sales  Predicted_Sales\n",
       "TV               1.000000  0.054809   0.056648  0.901208         0.948573\n",
       "Radio            0.054809  1.000000   0.354104  0.349631         0.368069\n",
       "Newspaper        0.056648  0.354104   1.000000  0.157960         0.166270\n",
       "Sales            0.901208  0.349631   0.157960  1.000000         0.950046\n",
       "Predicted_Sales  0.948573  0.368069   0.166270  0.950046         1.000000"
      ]
     },
     "execution_count": 179,
     "metadata": {},
     "output_type": "execute_result"
    }
   ],
   "source": [
    "df.corr()"
   ]
  },
  {
   "cell_type": "code",
   "execution_count": 180,
   "metadata": {},
   "outputs": [
    {
     "data": {
      "text/html": [
       "<div>\n",
       "<style scoped>\n",
       "    .dataframe tbody tr th:only-of-type {\n",
       "        vertical-align: middle;\n",
       "    }\n",
       "\n",
       "    .dataframe tbody tr th {\n",
       "        vertical-align: top;\n",
       "    }\n",
       "\n",
       "    .dataframe thead th {\n",
       "        text-align: right;\n",
       "    }\n",
       "</style>\n",
       "<table border=\"1\" class=\"dataframe\">\n",
       "  <thead>\n",
       "    <tr style=\"text-align: right;\">\n",
       "      <th></th>\n",
       "      <th>TV</th>\n",
       "      <th>Radio</th>\n",
       "      <th>Newspaper</th>\n",
       "      <th>Sales</th>\n",
       "      <th>Predicted_Sales</th>\n",
       "    </tr>\n",
       "  </thead>\n",
       "  <tbody>\n",
       "    <tr>\n",
       "      <th>count</th>\n",
       "      <td>200.000000</td>\n",
       "      <td>200.000000</td>\n",
       "      <td>200.000000</td>\n",
       "      <td>200.000000</td>\n",
       "      <td>200.000000</td>\n",
       "    </tr>\n",
       "    <tr>\n",
       "      <th>mean</th>\n",
       "      <td>147.042500</td>\n",
       "      <td>23.264000</td>\n",
       "      <td>30.554000</td>\n",
       "      <td>15.130500</td>\n",
       "      <td>15.130300</td>\n",
       "    </tr>\n",
       "    <tr>\n",
       "      <th>std</th>\n",
       "      <td>85.854236</td>\n",
       "      <td>14.846809</td>\n",
       "      <td>21.778621</td>\n",
       "      <td>5.283892</td>\n",
       "      <td>5.019986</td>\n",
       "    </tr>\n",
       "    <tr>\n",
       "      <th>min</th>\n",
       "      <td>0.700000</td>\n",
       "      <td>0.000000</td>\n",
       "      <td>0.300000</td>\n",
       "      <td>1.600000</td>\n",
       "      <td>5.320000</td>\n",
       "    </tr>\n",
       "    <tr>\n",
       "      <th>25%</th>\n",
       "      <td>74.375000</td>\n",
       "      <td>9.975000</td>\n",
       "      <td>12.750000</td>\n",
       "      <td>11.000000</td>\n",
       "      <td>10.627500</td>\n",
       "    </tr>\n",
       "    <tr>\n",
       "      <th>50%</th>\n",
       "      <td>149.750000</td>\n",
       "      <td>22.900000</td>\n",
       "      <td>25.750000</td>\n",
       "      <td>16.000000</td>\n",
       "      <td>15.490000</td>\n",
       "    </tr>\n",
       "    <tr>\n",
       "      <th>75%</th>\n",
       "      <td>218.825000</td>\n",
       "      <td>36.525000</td>\n",
       "      <td>45.100000</td>\n",
       "      <td>19.050000</td>\n",
       "      <td>19.282500</td>\n",
       "    </tr>\n",
       "    <tr>\n",
       "      <th>max</th>\n",
       "      <td>296.400000</td>\n",
       "      <td>49.600000</td>\n",
       "      <td>114.000000</td>\n",
       "      <td>27.000000</td>\n",
       "      <td>24.950000</td>\n",
       "    </tr>\n",
       "  </tbody>\n",
       "</table>\n",
       "</div>"
      ],
      "text/plain": [
       "               TV       Radio   Newspaper       Sales  Predicted_Sales\n",
       "count  200.000000  200.000000  200.000000  200.000000       200.000000\n",
       "mean   147.042500   23.264000   30.554000   15.130500        15.130300\n",
       "std     85.854236   14.846809   21.778621    5.283892         5.019986\n",
       "min      0.700000    0.000000    0.300000    1.600000         5.320000\n",
       "25%     74.375000    9.975000   12.750000   11.000000        10.627500\n",
       "50%    149.750000   22.900000   25.750000   16.000000        15.490000\n",
       "75%    218.825000   36.525000   45.100000   19.050000        19.282500\n",
       "max    296.400000   49.600000  114.000000   27.000000        24.950000"
      ]
     },
     "execution_count": 180,
     "metadata": {},
     "output_type": "execute_result"
    }
   ],
   "source": [
    "df.describe()"
   ]
  },
  {
   "cell_type": "markdown",
   "metadata": {},
   "source": [
    "#### As it is clear from this correlation table that Predicted_Sales has about 95% Correlation with the Sales in raw Dataset.\n",
    "let us try to increase the accuracy"
   ]
  },
  {
   "cell_type": "code",
   "execution_count": 181,
   "metadata": {},
   "outputs": [
    {
     "data": {
      "application/vnd.plotly.v1+json": {
       "config": {
        "plotlyServerURL": "https://plot.ly"
       },
       "data": [
        {
         "hovertemplate": "Sales=%{x}<br>Predicted_Sales=%{y}<br>color=%{marker.color}<extra></extra>",
         "legendgroup": "",
         "marker": {
          "color": [
           0.8800000000000026,
           -0.8699999999999992,
           1.5,
           -0.8099999999999987,
           2.259999999999998,
           -3.1599999999999993,
           0.5300000000000011,
           -0.07000000000000028,
           -0.5200000000000005,
           -0.1899999999999995,
           3.75,
           -1.4800000000000004,
           -0.5,
           2.9499999999999993,
           -0.2699999999999996,
           2.009999999999998,
           0.23000000000000043,
           0.1999999999999993,
           0.7100000000000009,
           -0.6100000000000012,
           -1.5,
           -0.6000000000000014,
           -1.46,
           1.629999999999999,
           0.33000000000000007,
           -2.3200000000000003,
           -0.5399999999999991,
           1.4100000000000001,
           -2.1799999999999997,
           0.3100000000000005,
           -2.210000000000001,
           -0.75,
           3.1099999999999994,
           -3.830000000000002,
           1.9100000000000001,
           -3.09,
           1.5499999999999972,
           0.7099999999999991,
           0.2599999999999998,
           0.4200000000000017,
           -1.4499999999999993,
           -0.75,
           -2.870000000000001,
           1.0999999999999979,
           -0.2599999999999998,
           -0.4799999999999969,
           0.019999999999999574,
           1.0700000000000003,
           1.1000000000000014,
           0.16999999999999993,
           0.5499999999999989,
           -0.41999999999999993,
           1.7200000000000024,
           1.6699999999999982,
           -1.8200000000000003,
           2.9399999999999977,
           -2.539999999999999,
           -0.9000000000000004,
           2.379999999999999,
           -0.860000000000003,
           0.33999999999999986,
           0.759999999999998,
           1.379999999999999,
           0.6099999999999994,
           -0.3500000000000014,
           1.92,
           2.0299999999999994,
           -0.35999999999999943,
           -1.6000000000000014,
           1.1600000000000001,
           -0.4499999999999993,
           0.2599999999999998,
           -0.8199999999999985,
           -1.2899999999999991,
           -1.879999999999999,
           -1.5500000000000007,
           0.6000000000000005,
           -0.040000000000000924,
           -2.8199999999999994,
           -0.7699999999999996,
           0.15000000000000036,
           -0.8299999999999983,
           0.39000000000000057,
           0.4800000000000004,
           0.8399999999999999,
           3.0700000000000003,
           0.2699999999999996,
           0.9800000000000004,
           0.7100000000000009,
           0.9599999999999991,
           1.5399999999999991,
           0.9500000000000002,
           -0.6799999999999997,
           -0.019999999999999574,
           -0.47000000000000064,
           -0.020000000000003126,
           0.9399999999999995,
           3.5500000000000007,
           0.4599999999999973,
           0.7399999999999984,
           -0.5100000000000016,
           -0.879999999999999,
           -1.1699999999999982,
           3,
           -0.5700000000000003,
           -2.120000000000001,
           0.03000000000000025,
           2.41,
           -0.08999999999999986,
           -1.6099999999999994,
           0.5799999999999983,
           -0.05999999999999872,
           1.2600000000000016,
           2.66,
           0.6999999999999993,
           0.11999999999999922,
           -1.540000000000001,
           0.5199999999999996,
           0.46000000000000085,
           -0.8000000000000007,
           0.3000000000000007,
           -0.9900000000000002,
           -0.4799999999999969,
           0.16999999999999993,
           -0.9000000000000021,
           -0.040000000000000924,
           -2.630000000000001,
           2.91,
           2.84,
           0.5299999999999994,
           -7.300000000000001,
           -1.6900000000000013,
           -2.29,
           -0.5899999999999999,
           0.010000000000001563,
           -0.6899999999999995,
           -0.6999999999999993,
           -1.8399999999999999,
           -0.14000000000000057,
           1.3099999999999987,
           0.46000000000000085,
           0.21999999999999886,
           -0.09999999999999787,
           -0.5399999999999991,
           0.8399999999999999,
           -2.17,
           -0.28000000000000114,
           2.2799999999999976,
           -0.10999999999999943,
           0.2699999999999996,
           -5.309999999999999,
           -0.5300000000000011,
           -1.2799999999999976,
           -2.210000000000001,
           3.490000000000002,
           -2.8899999999999997,
           0.8900000000000006,
           -2.83,
           -1.9300000000000006,
           -0.879999999999999,
           0.4399999999999977,
           0.16000000000000014,
           3.0700000000000003,
           0.5300000000000011,
           -0.6799999999999997,
           -0.8800000000000026,
           -1.6300000000000008,
           0.75,
           -1.7999999999999972,
           -1.2399999999999984,
           -0.1899999999999995,
           1.67,
           -0.25,
           2.139999999999999,
           -0.6000000000000014,
           2.0500000000000007,
           -1.1900000000000013,
           1.959999999999999,
           -3.1400000000000006,
           2.880000000000001,
           2.0700000000000003,
           0.08999999999999986,
           0.3999999999999986,
           1.2899999999999991,
           -3.129999999999999,
           1.9800000000000004,
           -2.1499999999999986,
           -0.8099999999999987,
           -0.7900000000000027,
           -0.25,
           -0.379999999999999,
           2.01,
           -0.10999999999999943,
           1.4000000000000021,
           0.7100000000000009,
           0.4899999999999993,
           3.7200000000000006,
           -0.4599999999999991,
           0.9200000000000017,
           0.2099999999999973
          ],
          "coloraxis": "coloraxis",
          "symbol": "circle"
         },
         "mode": "markers",
         "name": "",
         "orientation": "v",
         "showlegend": false,
         "type": "scatter",
         "x": [
          22.1,
          10.4,
          12,
          16.5,
          17.9,
          7.2,
          11.8,
          13.2,
          4.8,
          15.6,
          12.6,
          17.4,
          9.2,
          13.7,
          19,
          22.4,
          12.5,
          24.4,
          11.3,
          14.6,
          18,
          17.5,
          5.6,
          20.5,
          9.7,
          17,
          15,
          20.9,
          18.9,
          10.5,
          21.4,
          11.9,
          13.2,
          17.4,
          11.9,
          17.8,
          25.4,
          14.7,
          10.1,
          21.5,
          16.6,
          17.1,
          20.7,
          17.9,
          8.5,
          16.1,
          10.6,
          23.2,
          19.8,
          9.7,
          16.4,
          10.7,
          22.6,
          21.2,
          20.2,
          23.7,
          5.5,
          13.2,
          23.8,
          18.4,
          8.1,
          24.2,
          20.7,
          14,
          16,
          11.3,
          11,
          13.4,
          18.9,
          22.3,
          18.3,
          12.4,
          8.8,
          11,
          17,
          8.7,
          6.9,
          14.2,
          5.3,
          11,
          11.8,
          17.3,
          11.3,
          13.6,
          21.7,
          20.2,
          12,
          16,
          12.9,
          16.7,
          14,
          7.3,
          19.4,
          22.2,
          11.5,
          16.9,
          16.7,
          20.5,
          25.4,
          17.2,
          16.7,
          23.8,
          19.8,
          19.7,
          20.7,
          15,
          7.2,
          12,
          5.3,
          19.8,
          18.4,
          21.8,
          17.1,
          20.9,
          14.6,
          12.6,
          12.2,
          9.4,
          15.9,
          6.6,
          15.5,
          7,
          16.6,
          15.2,
          19.7,
          10.6,
          6.6,
          11.9,
          24.7,
          9.7,
          1.6,
          17.7,
          5.7,
          19.6,
          10.8,
          11.6,
          9.5,
          20.8,
          9.6,
          20.7,
          10.9,
          19.2,
          20.1,
          10.4,
          12.3,
          10.3,
          18.2,
          25.4,
          10.9,
          10.1,
          16.1,
          11.6,
          16.6,
          16,
          20.6,
          3.2,
          15.3,
          10.1,
          7.3,
          12.9,
          16.4,
          13.3,
          19.9,
          18,
          11.9,
          16.9,
          8,
          17.2,
          17.1,
          20,
          8.4,
          17.5,
          7.6,
          16.7,
          16.5,
          27,
          20.2,
          16.7,
          16.8,
          17.6,
          15.5,
          17.2,
          8.7,
          26.2,
          17.6,
          22.6,
          10.3,
          17.3,
          20.9,
          6.7,
          10.8,
          11.9,
          5.9,
          19.6,
          17.3,
          7.6,
          14,
          14.8,
          25.5,
          18.4
         ],
         "xaxis": "x",
         "y": [
          21.22,
          11.27,
          10.5,
          17.31,
          15.64,
          10.36,
          11.27,
          13.27,
          5.32,
          15.79,
          8.85,
          18.88,
          9.7,
          10.75,
          19.27,
          20.39,
          12.27,
          24.2,
          10.59,
          15.21,
          19.5,
          18.1,
          7.06,
          18.87,
          9.37,
          19.32,
          15.54,
          19.49,
          21.08,
          10.19,
          23.61,
          12.65,
          10.09,
          21.23,
          9.99,
          20.89,
          23.85,
          13.99,
          9.84,
          21.08,
          18.05,
          17.85,
          23.57,
          16.8,
          8.76,
          16.58,
          10.58,
          22.13,
          18.7,
          9.53,
          15.85,
          11.12,
          20.88,
          19.53,
          22.02,
          20.76,
          8.04,
          14.1,
          21.42,
          19.26,
          7.76,
          23.44,
          19.32,
          13.39,
          16.35,
          9.38,
          8.97,
          13.76,
          20.5,
          21.14,
          18.75,
          12.14,
          9.62,
          12.29,
          18.88,
          10.25,
          6.3,
          14.24,
          8.12,
          11.77,
          11.65,
          18.13,
          10.91,
          13.12,
          20.86,
          17.13,
          11.73,
          15.02,
          12.19,
          15.74,
          12.46,
          6.35,
          20.08,
          22.22,
          11.97,
          16.92,
          15.76,
          16.95,
          24.94,
          16.46,
          17.21,
          24.68,
          20.97,
          16.7,
          21.27,
          17.12,
          7.17,
          9.59,
          5.39,
          21.41,
          17.82,
          21.86,
          15.84,
          18.24,
          13.9,
          12.48,
          13.74,
          8.88,
          15.44,
          7.4,
          15.2,
          7.99,
          17.08,
          15.03,
          20.6,
          10.64,
          9.23,
          8.99,
          21.86,
          9.17,
          8.9,
          19.39,
          7.99,
          20.19,
          10.79,
          12.29,
          10.2,
          22.64,
          9.74,
          19.39,
          10.44,
          18.98,
          20.2,
          10.94,
          11.46,
          12.47,
          18.48,
          23.12,
          11.01,
          9.83,
          21.41,
          12.13,
          17.88,
          18.21,
          17.11,
          6.09,
          14.41,
          12.93,
          9.23,
          13.78,
          15.96,
          13.14,
          16.83,
          17.47,
          12.58,
          17.78,
          9.63,
          16.45,
          18.9,
          21.24,
          8.59,
          15.83,
          7.85,
          14.56,
          17.1,
          24.95,
          21.39,
          14.74,
          19.94,
          14.72,
          13.43,
          17.11,
          8.3,
          24.91,
          20.73,
          20.62,
          12.45,
          18.11,
          21.69,
          6.95,
          11.18,
          9.89,
          6.01,
          18.2,
          16.59,
          7.11,
          10.28,
          15.26,
          24.58,
          18.19
         ],
         "yaxis": "y"
        }
       ],
       "layout": {
        "coloraxis": {
         "colorbar": {
          "title": {
           "text": "Sales -PredSales"
          }
         },
         "colorscale": [
          [
           0,
           "#0d0887"
          ],
          [
           0.1111111111111111,
           "#46039f"
          ],
          [
           0.2222222222222222,
           "#7201a8"
          ],
          [
           0.3333333333333333,
           "#9c179e"
          ],
          [
           0.4444444444444444,
           "#bd3786"
          ],
          [
           0.5555555555555556,
           "#d8576b"
          ],
          [
           0.6666666666666666,
           "#ed7953"
          ],
          [
           0.7777777777777778,
           "#fb9f3a"
          ],
          [
           0.8888888888888888,
           "#fdca26"
          ],
          [
           1,
           "#f0f921"
          ]
         ]
        },
        "legend": {
         "tracegroupgap": 0
        },
        "template": {
         "data": {
          "bar": [
           {
            "error_x": {
             "color": "#2a3f5f"
            },
            "error_y": {
             "color": "#2a3f5f"
            },
            "marker": {
             "line": {
              "color": "#E5ECF6",
              "width": 0.5
             },
             "pattern": {
              "fillmode": "overlay",
              "size": 10,
              "solidity": 0.2
             }
            },
            "type": "bar"
           }
          ],
          "barpolar": [
           {
            "marker": {
             "line": {
              "color": "#E5ECF6",
              "width": 0.5
             },
             "pattern": {
              "fillmode": "overlay",
              "size": 10,
              "solidity": 0.2
             }
            },
            "type": "barpolar"
           }
          ],
          "carpet": [
           {
            "aaxis": {
             "endlinecolor": "#2a3f5f",
             "gridcolor": "white",
             "linecolor": "white",
             "minorgridcolor": "white",
             "startlinecolor": "#2a3f5f"
            },
            "baxis": {
             "endlinecolor": "#2a3f5f",
             "gridcolor": "white",
             "linecolor": "white",
             "minorgridcolor": "white",
             "startlinecolor": "#2a3f5f"
            },
            "type": "carpet"
           }
          ],
          "choropleth": [
           {
            "colorbar": {
             "outlinewidth": 0,
             "ticks": ""
            },
            "type": "choropleth"
           }
          ],
          "contour": [
           {
            "colorbar": {
             "outlinewidth": 0,
             "ticks": ""
            },
            "colorscale": [
             [
              0,
              "#0d0887"
             ],
             [
              0.1111111111111111,
              "#46039f"
             ],
             [
              0.2222222222222222,
              "#7201a8"
             ],
             [
              0.3333333333333333,
              "#9c179e"
             ],
             [
              0.4444444444444444,
              "#bd3786"
             ],
             [
              0.5555555555555556,
              "#d8576b"
             ],
             [
              0.6666666666666666,
              "#ed7953"
             ],
             [
              0.7777777777777778,
              "#fb9f3a"
             ],
             [
              0.8888888888888888,
              "#fdca26"
             ],
             [
              1,
              "#f0f921"
             ]
            ],
            "type": "contour"
           }
          ],
          "contourcarpet": [
           {
            "colorbar": {
             "outlinewidth": 0,
             "ticks": ""
            },
            "type": "contourcarpet"
           }
          ],
          "heatmap": [
           {
            "colorbar": {
             "outlinewidth": 0,
             "ticks": ""
            },
            "colorscale": [
             [
              0,
              "#0d0887"
             ],
             [
              0.1111111111111111,
              "#46039f"
             ],
             [
              0.2222222222222222,
              "#7201a8"
             ],
             [
              0.3333333333333333,
              "#9c179e"
             ],
             [
              0.4444444444444444,
              "#bd3786"
             ],
             [
              0.5555555555555556,
              "#d8576b"
             ],
             [
              0.6666666666666666,
              "#ed7953"
             ],
             [
              0.7777777777777778,
              "#fb9f3a"
             ],
             [
              0.8888888888888888,
              "#fdca26"
             ],
             [
              1,
              "#f0f921"
             ]
            ],
            "type": "heatmap"
           }
          ],
          "heatmapgl": [
           {
            "colorbar": {
             "outlinewidth": 0,
             "ticks": ""
            },
            "colorscale": [
             [
              0,
              "#0d0887"
             ],
             [
              0.1111111111111111,
              "#46039f"
             ],
             [
              0.2222222222222222,
              "#7201a8"
             ],
             [
              0.3333333333333333,
              "#9c179e"
             ],
             [
              0.4444444444444444,
              "#bd3786"
             ],
             [
              0.5555555555555556,
              "#d8576b"
             ],
             [
              0.6666666666666666,
              "#ed7953"
             ],
             [
              0.7777777777777778,
              "#fb9f3a"
             ],
             [
              0.8888888888888888,
              "#fdca26"
             ],
             [
              1,
              "#f0f921"
             ]
            ],
            "type": "heatmapgl"
           }
          ],
          "histogram": [
           {
            "marker": {
             "pattern": {
              "fillmode": "overlay",
              "size": 10,
              "solidity": 0.2
             }
            },
            "type": "histogram"
           }
          ],
          "histogram2d": [
           {
            "colorbar": {
             "outlinewidth": 0,
             "ticks": ""
            },
            "colorscale": [
             [
              0,
              "#0d0887"
             ],
             [
              0.1111111111111111,
              "#46039f"
             ],
             [
              0.2222222222222222,
              "#7201a8"
             ],
             [
              0.3333333333333333,
              "#9c179e"
             ],
             [
              0.4444444444444444,
              "#bd3786"
             ],
             [
              0.5555555555555556,
              "#d8576b"
             ],
             [
              0.6666666666666666,
              "#ed7953"
             ],
             [
              0.7777777777777778,
              "#fb9f3a"
             ],
             [
              0.8888888888888888,
              "#fdca26"
             ],
             [
              1,
              "#f0f921"
             ]
            ],
            "type": "histogram2d"
           }
          ],
          "histogram2dcontour": [
           {
            "colorbar": {
             "outlinewidth": 0,
             "ticks": ""
            },
            "colorscale": [
             [
              0,
              "#0d0887"
             ],
             [
              0.1111111111111111,
              "#46039f"
             ],
             [
              0.2222222222222222,
              "#7201a8"
             ],
             [
              0.3333333333333333,
              "#9c179e"
             ],
             [
              0.4444444444444444,
              "#bd3786"
             ],
             [
              0.5555555555555556,
              "#d8576b"
             ],
             [
              0.6666666666666666,
              "#ed7953"
             ],
             [
              0.7777777777777778,
              "#fb9f3a"
             ],
             [
              0.8888888888888888,
              "#fdca26"
             ],
             [
              1,
              "#f0f921"
             ]
            ],
            "type": "histogram2dcontour"
           }
          ],
          "mesh3d": [
           {
            "colorbar": {
             "outlinewidth": 0,
             "ticks": ""
            },
            "type": "mesh3d"
           }
          ],
          "parcoords": [
           {
            "line": {
             "colorbar": {
              "outlinewidth": 0,
              "ticks": ""
             }
            },
            "type": "parcoords"
           }
          ],
          "pie": [
           {
            "automargin": true,
            "type": "pie"
           }
          ],
          "scatter": [
           {
            "fillpattern": {
             "fillmode": "overlay",
             "size": 10,
             "solidity": 0.2
            },
            "type": "scatter"
           }
          ],
          "scatter3d": [
           {
            "line": {
             "colorbar": {
              "outlinewidth": 0,
              "ticks": ""
             }
            },
            "marker": {
             "colorbar": {
              "outlinewidth": 0,
              "ticks": ""
             }
            },
            "type": "scatter3d"
           }
          ],
          "scattercarpet": [
           {
            "marker": {
             "colorbar": {
              "outlinewidth": 0,
              "ticks": ""
             }
            },
            "type": "scattercarpet"
           }
          ],
          "scattergeo": [
           {
            "marker": {
             "colorbar": {
              "outlinewidth": 0,
              "ticks": ""
             }
            },
            "type": "scattergeo"
           }
          ],
          "scattergl": [
           {
            "marker": {
             "colorbar": {
              "outlinewidth": 0,
              "ticks": ""
             }
            },
            "type": "scattergl"
           }
          ],
          "scattermapbox": [
           {
            "marker": {
             "colorbar": {
              "outlinewidth": 0,
              "ticks": ""
             }
            },
            "type": "scattermapbox"
           }
          ],
          "scatterpolar": [
           {
            "marker": {
             "colorbar": {
              "outlinewidth": 0,
              "ticks": ""
             }
            },
            "type": "scatterpolar"
           }
          ],
          "scatterpolargl": [
           {
            "marker": {
             "colorbar": {
              "outlinewidth": 0,
              "ticks": ""
             }
            },
            "type": "scatterpolargl"
           }
          ],
          "scatterternary": [
           {
            "marker": {
             "colorbar": {
              "outlinewidth": 0,
              "ticks": ""
             }
            },
            "type": "scatterternary"
           }
          ],
          "surface": [
           {
            "colorbar": {
             "outlinewidth": 0,
             "ticks": ""
            },
            "colorscale": [
             [
              0,
              "#0d0887"
             ],
             [
              0.1111111111111111,
              "#46039f"
             ],
             [
              0.2222222222222222,
              "#7201a8"
             ],
             [
              0.3333333333333333,
              "#9c179e"
             ],
             [
              0.4444444444444444,
              "#bd3786"
             ],
             [
              0.5555555555555556,
              "#d8576b"
             ],
             [
              0.6666666666666666,
              "#ed7953"
             ],
             [
              0.7777777777777778,
              "#fb9f3a"
             ],
             [
              0.8888888888888888,
              "#fdca26"
             ],
             [
              1,
              "#f0f921"
             ]
            ],
            "type": "surface"
           }
          ],
          "table": [
           {
            "cells": {
             "fill": {
              "color": "#EBF0F8"
             },
             "line": {
              "color": "white"
             }
            },
            "header": {
             "fill": {
              "color": "#C8D4E3"
             },
             "line": {
              "color": "white"
             }
            },
            "type": "table"
           }
          ]
         },
         "layout": {
          "annotationdefaults": {
           "arrowcolor": "#2a3f5f",
           "arrowhead": 0,
           "arrowwidth": 1
          },
          "autotypenumbers": "strict",
          "coloraxis": {
           "colorbar": {
            "outlinewidth": 0,
            "ticks": ""
           }
          },
          "colorscale": {
           "diverging": [
            [
             0,
             "#8e0152"
            ],
            [
             0.1,
             "#c51b7d"
            ],
            [
             0.2,
             "#de77ae"
            ],
            [
             0.3,
             "#f1b6da"
            ],
            [
             0.4,
             "#fde0ef"
            ],
            [
             0.5,
             "#f7f7f7"
            ],
            [
             0.6,
             "#e6f5d0"
            ],
            [
             0.7,
             "#b8e186"
            ],
            [
             0.8,
             "#7fbc41"
            ],
            [
             0.9,
             "#4d9221"
            ],
            [
             1,
             "#276419"
            ]
           ],
           "sequential": [
            [
             0,
             "#0d0887"
            ],
            [
             0.1111111111111111,
             "#46039f"
            ],
            [
             0.2222222222222222,
             "#7201a8"
            ],
            [
             0.3333333333333333,
             "#9c179e"
            ],
            [
             0.4444444444444444,
             "#bd3786"
            ],
            [
             0.5555555555555556,
             "#d8576b"
            ],
            [
             0.6666666666666666,
             "#ed7953"
            ],
            [
             0.7777777777777778,
             "#fb9f3a"
            ],
            [
             0.8888888888888888,
             "#fdca26"
            ],
            [
             1,
             "#f0f921"
            ]
           ],
           "sequentialminus": [
            [
             0,
             "#0d0887"
            ],
            [
             0.1111111111111111,
             "#46039f"
            ],
            [
             0.2222222222222222,
             "#7201a8"
            ],
            [
             0.3333333333333333,
             "#9c179e"
            ],
            [
             0.4444444444444444,
             "#bd3786"
            ],
            [
             0.5555555555555556,
             "#d8576b"
            ],
            [
             0.6666666666666666,
             "#ed7953"
            ],
            [
             0.7777777777777778,
             "#fb9f3a"
            ],
            [
             0.8888888888888888,
             "#fdca26"
            ],
            [
             1,
             "#f0f921"
            ]
           ]
          },
          "colorway": [
           "#636efa",
           "#EF553B",
           "#00cc96",
           "#ab63fa",
           "#FFA15A",
           "#19d3f3",
           "#FF6692",
           "#B6E880",
           "#FF97FF",
           "#FECB52"
          ],
          "font": {
           "color": "#2a3f5f"
          },
          "geo": {
           "bgcolor": "white",
           "lakecolor": "white",
           "landcolor": "#E5ECF6",
           "showlakes": true,
           "showland": true,
           "subunitcolor": "white"
          },
          "hoverlabel": {
           "align": "left"
          },
          "hovermode": "closest",
          "mapbox": {
           "style": "light"
          },
          "paper_bgcolor": "white",
          "plot_bgcolor": "#E5ECF6",
          "polar": {
           "angularaxis": {
            "gridcolor": "white",
            "linecolor": "white",
            "ticks": ""
           },
           "bgcolor": "#E5ECF6",
           "radialaxis": {
            "gridcolor": "white",
            "linecolor": "white",
            "ticks": ""
           }
          },
          "scene": {
           "xaxis": {
            "backgroundcolor": "#E5ECF6",
            "gridcolor": "white",
            "gridwidth": 2,
            "linecolor": "white",
            "showbackground": true,
            "ticks": "",
            "zerolinecolor": "white"
           },
           "yaxis": {
            "backgroundcolor": "#E5ECF6",
            "gridcolor": "white",
            "gridwidth": 2,
            "linecolor": "white",
            "showbackground": true,
            "ticks": "",
            "zerolinecolor": "white"
           },
           "zaxis": {
            "backgroundcolor": "#E5ECF6",
            "gridcolor": "white",
            "gridwidth": 2,
            "linecolor": "white",
            "showbackground": true,
            "ticks": "",
            "zerolinecolor": "white"
           }
          },
          "shapedefaults": {
           "line": {
            "color": "#2a3f5f"
           }
          },
          "ternary": {
           "aaxis": {
            "gridcolor": "white",
            "linecolor": "white",
            "ticks": ""
           },
           "baxis": {
            "gridcolor": "white",
            "linecolor": "white",
            "ticks": ""
           },
           "bgcolor": "#E5ECF6",
           "caxis": {
            "gridcolor": "white",
            "linecolor": "white",
            "ticks": ""
           }
          },
          "title": {
           "x": 0.05
          },
          "xaxis": {
           "automargin": true,
           "gridcolor": "white",
           "linecolor": "white",
           "ticks": "",
           "title": {
            "standoff": 15
           },
           "zerolinecolor": "white",
           "zerolinewidth": 2
          },
          "yaxis": {
           "automargin": true,
           "gridcolor": "white",
           "linecolor": "white",
           "ticks": "",
           "title": {
            "standoff": 15
           },
           "zerolinecolor": "white",
           "zerolinewidth": 2
          }
         }
        },
        "title": {
         "text": "Scatter Plot showing Replation b/w \"Predicted Sales\"\" and \"Sales\""
        },
        "xaxis": {
         "anchor": "y",
         "domain": [
          0,
          1
         ],
         "title": {
          "text": "Sales"
         }
        },
        "yaxis": {
         "anchor": "x",
         "domain": [
          0,
          1
         ],
         "title": {
          "text": "Predicted_Sales"
         }
        }
       }
      }
     },
     "metadata": {},
     "output_type": "display_data"
    }
   ],
   "source": [
    "# sns.lineplot(df,x=\"Sales\",y=\"Predicted_Sales\")\n",
    "com_Scatter=px.scatter(df,\n",
    "           x=\"Sales\",\n",
    "           y=\"Predicted_Sales\",\n",
    "           color=(df.Sales-df.Predicted_Sales),\n",
    "           title='''Scatter Plot showing Replation b/w \"Predicted Sales\"\" and \"Sales\"'''\n",
    "           )\n",
    "com_Scatter.layout.coloraxis.colorbar.title = \"Sales -PredSales\"\n",
    "\n",
    "com_Scatter.show()\n"
   ]
  },
  {
   "cell_type": "code",
   "execution_count": 182,
   "metadata": {},
   "outputs": [
    {
     "data": {
      "text/plain": [
       "<AxesSubplot: xlabel='Sales', ylabel='Predicted_Sales'>"
      ]
     },
     "execution_count": 182,
     "metadata": {},
     "output_type": "execute_result"
    },
    {
     "data": {
      "image/png": "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",
      "text/plain": [
       "<Figure size 640x480 with 1 Axes>"
      ]
     },
     "metadata": {},
     "output_type": "display_data"
    }
   ],
   "source": [
    "sns.lineplot(df,x=\"Sales\",\n",
    "             y=\"Predicted_Sales\",\n",
    "             legend=\"auto\",\n",
    "             label= \"Sales \"\n",
    "             )\n"
   ]
  },
  {
   "cell_type": "code",
   "execution_count": 183,
   "metadata": {},
   "outputs": [
    {
     "data": {
      "text/plain": [
       "Text(0, 0.5, 'Intertias')"
      ]
     },
     "execution_count": 183,
     "metadata": {},
     "output_type": "execute_result"
    },
    {
     "data": {
      "image/png": "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",
      "text/plain": [
       "<Figure size 640x480 with 1 Axes>"
      ]
     },
     "metadata": {},
     "output_type": "display_data"
    }
   ],
   "source": [
    "from sklearn.cluster import KMeans\n",
    "data=list(map( lambda x:x, zip(df.TV,df.Radio,df.Newspaper,df.Sales,df.Predicted_Sales)))\n",
    "inertias=[]\n",
    "\n",
    "for i in range(1,11):\n",
    "    kmeans=KMeans(n_clusters=i, n_init=\"auto\")\n",
    "    kmeans.fit(data)\n",
    "    inertias.append(kmeans.inertia_)\n",
    "\n",
    "plt.plot(range(1,11),inertias,marker=\"*\")\n",
    "# plt.arrow(3,330000,2.5,800000,width=0.05)\n",
    "plt.annotate('Let k = 3',xy=(3.1,330000),xytext=(4,600000),arrowprops={})\n",
    "plt.title(\"KMeans plot for Selecting Elbow ( k )\")\n",
    "plt.xlabel(\"Range of K\")\n",
    "plt.ylabel(\"Intertias\")"
   ]
  },
  {
   "cell_type": "markdown",
   "metadata": {},
   "source": [
    "Selecting K as 2 and since 3 is better choice I will choose k=3 in another case."
   ]
  },
  {
   "cell_type": "code",
   "execution_count": 184,
   "metadata": {},
   "outputs": [
    {
     "name": "stderr",
     "output_type": "stream",
     "text": [
      "c:\\Users\\MAYANK\\AppData\\Local\\Programs\\Python\\Python310\\lib\\site-packages\\sklearn\\cluster\\_kmeans.py:870: FutureWarning:\n",
      "\n",
      "The default value of `n_init` will change from 10 to 'auto' in 1.4. Set the value of `n_init` explicitly to suppress the warning\n",
      "\n"
     ]
    },
    {
     "data": {
      "text/html": [
       "<style>#sk-container-id-6 {color: black;background-color: white;}#sk-container-id-6 pre{padding: 0;}#sk-container-id-6 div.sk-toggleable {background-color: white;}#sk-container-id-6 label.sk-toggleable__label {cursor: pointer;display: block;width: 100%;margin-bottom: 0;padding: 0.3em;box-sizing: border-box;text-align: center;}#sk-container-id-6 label.sk-toggleable__label-arrow:before {content: \"▸\";float: left;margin-right: 0.25em;color: #696969;}#sk-container-id-6 label.sk-toggleable__label-arrow:hover:before {color: black;}#sk-container-id-6 div.sk-estimator:hover label.sk-toggleable__label-arrow:before {color: black;}#sk-container-id-6 div.sk-toggleable__content {max-height: 0;max-width: 0;overflow: hidden;text-align: left;background-color: #f0f8ff;}#sk-container-id-6 div.sk-toggleable__content pre {margin: 0.2em;color: black;border-radius: 0.25em;background-color: #f0f8ff;}#sk-container-id-6 input.sk-toggleable__control:checked~div.sk-toggleable__content {max-height: 200px;max-width: 100%;overflow: auto;}#sk-container-id-6 input.sk-toggleable__control:checked~label.sk-toggleable__label-arrow:before {content: \"▾\";}#sk-container-id-6 div.sk-estimator input.sk-toggleable__control:checked~label.sk-toggleable__label {background-color: #d4ebff;}#sk-container-id-6 div.sk-label input.sk-toggleable__control:checked~label.sk-toggleable__label {background-color: #d4ebff;}#sk-container-id-6 input.sk-hidden--visually {border: 0;clip: rect(1px 1px 1px 1px);clip: rect(1px, 1px, 1px, 1px);height: 1px;margin: -1px;overflow: hidden;padding: 0;position: absolute;width: 1px;}#sk-container-id-6 div.sk-estimator {font-family: monospace;background-color: #f0f8ff;border: 1px dotted black;border-radius: 0.25em;box-sizing: border-box;margin-bottom: 0.5em;}#sk-container-id-6 div.sk-estimator:hover {background-color: #d4ebff;}#sk-container-id-6 div.sk-parallel-item::after {content: \"\";width: 100%;border-bottom: 1px solid gray;flex-grow: 1;}#sk-container-id-6 div.sk-label:hover label.sk-toggleable__label {background-color: #d4ebff;}#sk-container-id-6 div.sk-serial::before {content: \"\";position: absolute;border-left: 1px solid gray;box-sizing: border-box;top: 0;bottom: 0;left: 50%;z-index: 0;}#sk-container-id-6 div.sk-serial {display: flex;flex-direction: column;align-items: center;background-color: white;padding-right: 0.2em;padding-left: 0.2em;position: relative;}#sk-container-id-6 div.sk-item {position: relative;z-index: 1;}#sk-container-id-6 div.sk-parallel {display: flex;align-items: stretch;justify-content: center;background-color: white;position: relative;}#sk-container-id-6 div.sk-item::before, #sk-container-id-6 div.sk-parallel-item::before {content: \"\";position: absolute;border-left: 1px solid gray;box-sizing: border-box;top: 0;bottom: 0;left: 50%;z-index: -1;}#sk-container-id-6 div.sk-parallel-item {display: flex;flex-direction: column;z-index: 1;position: relative;background-color: white;}#sk-container-id-6 div.sk-parallel-item:first-child::after {align-self: flex-end;width: 50%;}#sk-container-id-6 div.sk-parallel-item:last-child::after {align-self: flex-start;width: 50%;}#sk-container-id-6 div.sk-parallel-item:only-child::after {width: 0;}#sk-container-id-6 div.sk-dashed-wrapped {border: 1px dashed gray;margin: 0 0.4em 0.5em 0.4em;box-sizing: border-box;padding-bottom: 0.4em;background-color: white;}#sk-container-id-6 div.sk-label label {font-family: monospace;font-weight: bold;display: inline-block;line-height: 1.2em;}#sk-container-id-6 div.sk-label-container {text-align: center;}#sk-container-id-6 div.sk-container {/* jupyter's `normalize.less` sets `[hidden] { display: none; }` but bootstrap.min.css set `[hidden] { display: none !important; }` so we also need the `!important` here to be able to override the default hidden behavior on the sphinx rendered scikit-learn.org. See: https://github.com/scikit-learn/scikit-learn/issues/21755 */display: inline-block !important;position: relative;}#sk-container-id-6 div.sk-text-repr-fallback {display: none;}</style><div id=\"sk-container-id-6\" class=\"sk-top-container\"><div class=\"sk-text-repr-fallback\"><pre>KMeans(n_clusters=3)</pre><b>In a Jupyter environment, please rerun this cell to show the HTML representation or trust the notebook. <br />On GitHub, the HTML representation is unable to render, please try loading this page with nbviewer.org.</b></div><div class=\"sk-container\" hidden><div class=\"sk-item\"><div class=\"sk-estimator sk-toggleable\"><input class=\"sk-toggleable__control sk-hidden--visually\" id=\"sk-estimator-id-6\" type=\"checkbox\" checked><label for=\"sk-estimator-id-6\" class=\"sk-toggleable__label sk-toggleable__label-arrow\">KMeans</label><div class=\"sk-toggleable__content\"><pre>KMeans(n_clusters=3)</pre></div></div></div></div></div>"
      ],
      "text/plain": [
       "KMeans(n_clusters=3)"
      ]
     },
     "execution_count": 184,
     "metadata": {},
     "output_type": "execute_result"
    }
   ],
   "source": [
    "kmeans = KMeans(n_clusters=3)\n",
    "kmeans.fit(data)"
   ]
  },
  {
   "cell_type": "code",
   "execution_count": 185,
   "metadata": {},
   "outputs": [
    {
     "data": {
      "text/plain": [
       "Text(23, 150, 'Cluster #3')"
      ]
     },
     "execution_count": 185,
     "metadata": {},
     "output_type": "execute_result"
    },
    {
     "data": {
      "image/png": "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",
      "text/plain": [
       "<Figure size 640x480 with 1 Axes>"
      ]
     },
     "metadata": {},
     "output_type": "display_data"
    }
   ],
   "source": [
    "\n",
    "k2=plt.scatter( df.Sales,df.TV, c=kmeans.labels_)\n",
    "plt.ylabel(\"TV\")\n",
    "plt.xlabel(\"Sales\")\n",
    "corr=(df[[\"Sales\",\"TV\"]]).corr()\n",
    "plt.title(\"Clustering Scater Plot: Sales by TV\"+f\" corr {corr}\")\n",
    "plt.annotate('Cluster #1',xy=(13,50),xytext=(17,40),arrowprops={})\n",
    "plt.annotate('Cluster #2',xy=(13.5,150),xytext=(7,200),arrowprops={})\n",
    "plt.annotate('Cluster #3',xy=(21,250),xytext=(23,150),arrowprops={})\n"
   ]
  },
  {
   "cell_type": "markdown",
   "metadata": {},
   "source": [
    "### Cluster #3 has majority of records"
   ]
  },
  {
   "cell_type": "markdown",
   "metadata": {},
   "source": [
    "- Noticing all the clustering Its clear that Sales can be understood using \"TV\".\n",
    "- Lets plot a clustering scatter plot for Predicted Sales as well."
   ]
  },
  {
   "cell_type": "code",
   "execution_count": 186,
   "metadata": {},
   "outputs": [
    {
     "data": {
      "text/plain": [
       "Text(20, 140, 'Cluster #3 \\n Less Distributed\\n then Sales')"
      ]
     },
     "execution_count": 186,
     "metadata": {},
     "output_type": "execute_result"
    },
    {
     "data": {
      "image/png": "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",
      "text/plain": [
       "<Figure size 640x480 with 1 Axes>"
      ]
     },
     "metadata": {},
     "output_type": "display_data"
    }
   ],
   "source": [
    "k3=plt.scatter(df.Predicted_Sales, df.TV, c=kmeans.labels_)\n",
    "plt.ylabel(\"TV\")\n",
    "plt.xlabel(\"Predicted Sales\")\n",
    "corr=(df[[\"Predicted_Sales\",\"TV\"]]).corr()\n",
    "plt.title(\"Clustering Scater Plot: Predicted_Sales by TV\"+f\" corr \\n{corr}\")\n",
    "plt.annotate('Cluster #1 \\n More Distributed then Sales',xy=(13,50),xytext=(17,40),arrowprops={})\n",
    "plt.annotate('Cluster #2',xy=(13.5,150),xytext=(7,200),arrowprops={})\n",
    "plt.annotate('Cluster #3 \\n Less Distributed\\n then Sales',xy=(21,250),xytext=(20,140),arrowprops={})"
   ]
  },
  {
   "cell_type": "markdown",
   "metadata": {},
   "source": []
  },
  {
   "cell_type": "markdown",
   "metadata": {},
   "source": [
    "Its is observed that PrdictedSales Scatter plot is narrower where Sales Scatter plot was widely distributed. "
   ]
  },
  {
   "cell_type": "markdown",
   "metadata": {},
   "source": [
    "# Conclusion:\n",
    "- Sales numbers increase when TV numbers increase\n",
    "- Sales can be predicted simply using Supervised Learning Linear Regression with ~95% Accuracy."
   ]
  }
 ],
 "metadata": {
  "kernelspec": {
   "display_name": "Python 3",
   "language": "python",
   "name": "python3"
  },
  "language_info": {
   "codemirror_mode": {
    "name": "ipython",
    "version": 3
   },
   "file_extension": ".py",
   "mimetype": "text/x-python",
   "name": "python",
   "nbconvert_exporter": "python",
   "pygments_lexer": "ipython3",
   "version": "3.10.6"
  },
  "orig_nbformat": 4
 },
 "nbformat": 4,
 "nbformat_minor": 2
}
